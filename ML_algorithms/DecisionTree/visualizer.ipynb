{
 "cells": [
  {
   "cell_type": "code",
   "execution_count": 1,
   "metadata": {},
   "outputs": [],
   "source": [
    "from decision_tree import *"
   ]
  },
  {
   "cell_type": "code",
   "execution_count": null,
   "metadata": {},
   "outputs": [],
   "source": [
    "# Proportion of the dataset to include in the test split\n",
    "test_size = 0.2\n",
    "# Controls the shuffling applied to the data before applying the split (pass int for reproducible output across multiple function \n",
    "# calls)\n",
    "random_state = 42\n",
    "# The function to measure the quality of a split. Supported criteria are “gini” for the Gini impurity and “log_loss” and “entropy” \n",
    "# both for the Shannon information gain\n",
    "criterion = 'gini'\n",
    "# The maximum depth of the tree. i=If None, then nodes are expanded until all leaves are pure or until all leaves contain less than \n",
    "# min_samples_split samples\n",
    "max_depth = None\n",
    "# The minimum number of samples required to split an internal node\n",
    "min_samples_split = 2\n",
    "# The minimum number of samples required to be at a leaf node. A split point at any depth will only be considered if it leaves at \n",
    "# least min_samples_leaf training samples in each of the left and right branches.\n",
    "min_samples_leaf = 1"
   ]
  }
 ],
 "metadata": {
  "kernelspec": {
   "display_name": "Python 3",
   "language": "python",
   "name": "python3"
  },
  "language_info": {
   "codemirror_mode": {
    "name": "ipython",
    "version": 3
   },
   "file_extension": ".py",
   "mimetype": "text/x-python",
   "name": "python",
   "nbconvert_exporter": "python",
   "pygments_lexer": "ipython3",
   "version": "3.12.0"
  }
 },
 "nbformat": 4,
 "nbformat_minor": 2
}
