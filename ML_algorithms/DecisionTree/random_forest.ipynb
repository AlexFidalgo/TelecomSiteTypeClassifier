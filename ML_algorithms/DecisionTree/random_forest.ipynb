{
 "cells": [
  {
   "cell_type": "code",
   "execution_count": 1,
   "metadata": {},
   "outputs": [],
   "source": [
    "import pandas as pd"
   ]
  },
  {
   "cell_type": "code",
   "execution_count": 2,
   "metadata": {},
   "outputs": [],
   "source": [
    "anatel_file_path = '../../data/labeled_csv_files/Anatel_labeled.csv'\n",
    "anatel = pd.read_csv(anatel_file_path)"
   ]
  },
  {
   "cell_type": "code",
   "execution_count": 3,
   "metadata": {},
   "outputs": [
    {
     "data": {
      "text/plain": [
       "Index(['MinTxFreq', 'MaxTxFreq', 'MinRxFreq', 'MaxRxFreq', 'SiteType',\n",
       "       'AntennaCode', 'AntennaGain', 'FrontBackAntennaRation',\n",
       "       'AnguloMeiaPotenciaAntena_max', 'ElevationAngle', 'Polarization',\n",
       "       'AntennaHeight', 'TransmitterPower', 'NecessaryBandwidth',\n",
       "       'BasicFeatures', 'LTE', 'WCDMA', 'GSM', 'NR_NSA', 'NR_SA-NSA', 'DMR',\n",
       "       'Digital', 'DaysSinceLicensing', 'DaysSinceFirstLicensing',\n",
       "       'DaysUntilExpiration'],\n",
       "      dtype='object')"
      ]
     },
     "execution_count": 3,
     "metadata": {},
     "output_type": "execute_result"
    }
   ],
   "source": [
    "anatel.columns"
   ]
  }
 ],
 "metadata": {
  "kernelspec": {
   "display_name": "Python 3",
   "language": "python",
   "name": "python3"
  },
  "language_info": {
   "codemirror_mode": {
    "name": "ipython",
    "version": 3
   },
   "file_extension": ".py",
   "mimetype": "text/x-python",
   "name": "python",
   "nbconvert_exporter": "python",
   "pygments_lexer": "ipython3",
   "version": "3.12.0"
  }
 },
 "nbformat": 4,
 "nbformat_minor": 2
}
