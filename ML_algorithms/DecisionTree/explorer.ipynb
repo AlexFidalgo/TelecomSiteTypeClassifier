{
 "cells": [
  {
   "cell_type": "code",
   "execution_count": 1,
   "metadata": {},
   "outputs": [],
   "source": [
    "import pandas as pd\n",
    "import os\n",
    "from clean_data_for_decision_tree import *"
   ]
  },
  {
   "cell_type": "code",
   "execution_count": 2,
   "metadata": {},
   "outputs": [],
   "source": [
    "dir = '../../data/labeled_csv_files'\n",
    "file = 'Anatel_labeled.csv'\n",
    "file_path = os.path.join(dir, file)\n",
    "df = pd.read_csv(file_path)"
   ]
  },
  {
   "cell_type": "code",
   "execution_count": 3,
   "metadata": {},
   "outputs": [],
   "source": [
    "get_rid_of_problematic_columns(df)\n",
    "rename_anatel_cols(df)\n"
   ]
  },
  {
   "cell_type": "markdown",
   "metadata": {},
   "source": [
    "# Handle Missing Data"
   ]
  },
  {
   "cell_type": "code",
   "execution_count": 4,
   "metadata": {},
   "outputs": [],
   "source": [
    "perc_null = (df.isnull().mean() * 100).round(2)\n"
   ]
  },
  {
   "cell_type": "markdown",
   "metadata": {},
   "source": [
    "### Alternative 1 - Getting rid of all missing values"
   ]
  },
  {
   "cell_type": "code",
   "execution_count": 5,
   "metadata": {},
   "outputs": [],
   "source": [
    "df_no_na = df.dropna()"
   ]
  },
  {
   "cell_type": "code",
   "execution_count": 6,
   "metadata": {},
   "outputs": [
    {
     "name": "stdout",
     "output_type": "stream",
     "text": [
      "Length of original dataframe: 57328\n",
      "Lenght of non-nan dataframe: 55006\n"
     ]
    }
   ],
   "source": [
    "print(f\"Length of original dataframe: {len(df)}\")\n",
    "print(f\"Lenght of non-nan dataframe: {len(df_no_na)}\")\n",
    "\n",
    "df = df_no_na.copy()\n",
    "del df_no_na"
   ]
  },
  {
   "cell_type": "markdown",
   "metadata": {},
   "source": [
    "# Scaling/Normalizing"
   ]
  },
  {
   "cell_type": "markdown",
   "metadata": {},
   "source": [
    "Scaling and normalizing are not strictly necessary for decision trees. Here's why:\n",
    "\n",
    "**Decision trees are insensitive to monotonic transformations:**\n",
    "\n",
    "* Decision trees make splitting decisions based on the relative order of features, not their absolute values.\n",
    "* Scaling (e.g., MinMaxScaler) only changes the range of values, not their order.\n",
    "* Therefore, scaling doesn't affect how the tree splits the data.\n",
    "\n",
    "**However, there are some situations where scaling or normalizing might be beneficial:**\n",
    "\n",
    "* **Improves numerical stability:** Scaling features to a similar range can improve the numerical stability of the algorithm.\n",
    "* **Enhances visualization and interpretation:** Scaled features are easier to compare and interpret, especially when dealing with mixed units.\n",
    "* **Helps with comparing with other algorithms:** If you plan to combine decision trees with other algorithms that require scaled data, scaling beforehand can simplify the process.\n",
    "* **May improve performance in some cases:** Although not guaranteed, scaling can sometimes lead to slightly better performance for decision trees.\n",
    "\n",
    "**Normalization, however, requires caution:**\n",
    "\n",
    "* Normalization (e.g., StandardScaler) changes the distribution of features, which can affect the splitting decisions.\n",
    "* This may lead to suboptimal tree structures and potentially worse performance.\n",
    "\n",
    "**In summary:**\n",
    "\n",
    "* Scaling is generally not necessary for decision trees but can be beneficial in some situations.\n",
    "* Normalization should be used cautiously and with awareness of its potential impact.\n",
    "* It's recommended to experiment and compare performance with and without scaling/normalization in your specific case.\n"
   ]
  },
  {
   "cell_type": "markdown",
   "metadata": {},
   "source": [
    "# Encoding Categorical Variables"
   ]
  },
  {
   "cell_type": "markdown",
   "metadata": {},
   "source": [
    "If the dataset includes categorical variables, you'll need to encode them because decision trees typically work with numeric data."
   ]
  },
  {
   "cell_type": "code",
   "execution_count": 7,
   "metadata": {},
   "outputs": [
    {
     "name": "stdout",
     "output_type": "stream",
     "text": [
      "Column 'Station': float64\n",
      "Column 'MinTxFreq': float64\n",
      "Column 'MaxTxFreq': float64\n",
      "Column 'MinRxFreq': float64\n",
      "Column 'MaxRxFreq': float64\n",
      "Column 'SiteType': object\n",
      "Column 'AntennaCode': int64\n",
      "Column 'AntennaGain': float64\n",
      "Column 'FrontBackAntennaRation': float64\n",
      "Column 'AnguloMeiaPotenciaAntena_max': float64\n",
      "Column 'ElevationAngle': float64\n",
      "Column 'Polarization': object\n",
      "Column 'AntennaHeight': float64\n",
      "Column 'TransmitterPower': float64\n",
      "Column 'NecessaryBandwidth': float64\n",
      "Column 'BasicFeatures': object\n",
      "Column 'LTE': bool\n",
      "Column 'WCDMA': bool\n",
      "Column 'GSM': bool\n",
      "Column 'NR_NSA': bool\n",
      "Column 'NR_SA-NSA': bool\n",
      "Column 'DMR': bool\n",
      "Column 'Digital': bool\n",
      "Column 'DaysSinceLicensing': float64\n",
      "Column 'DaysSinceFirstLicensing': float64\n",
      "Column 'DaysUntilExpiration': int64\n"
     ]
    }
   ],
   "source": [
    "for col in df.columns:\n",
    "    print(f\"Column '{col}': {df[col].dtype}\")"
   ]
  },
  {
   "cell_type": "markdown",
   "metadata": {},
   "source": [
    "- [x] SiglaUf_max\n",
    "- [x] CodMunicipio_max\n",
    "- [x] CodTipoClasseEstacao_max\n",
    "- [x] ClassInfraFisica_agg_non_none\n",
    "- [x] Polarizacao_max\n",
    "- [x] CodDebitoTFI_max\n",
    "- [x] CaracteristicasBasicas_agg_non_none\n",
    "- [x] LTE_max\n",
    "- [x] WCDMA_max\n",
    "- [x] GSM_max\n",
    "- [x] NR_NSA_max\n",
    "- [x] NR_SA-NSA_max\n",
    "- [x] DMR_max\n",
    "- [x] Digital_max"
   ]
  },
  {
   "cell_type": "code",
   "execution_count": 8,
   "metadata": {},
   "outputs": [],
   "source": [
    "df = pd.get_dummies(df, columns=['Polarization'], prefix='Polarization')\n",
    "df = pd.get_dummies(df, columns=['BasicFeatures'], prefix='BasicFeatures')\n"
   ]
  },
  {
   "cell_type": "markdown",
   "metadata": {},
   "source": [
    "Decision trees and random forests can handle boolean variables without encoding. They naturally make binary decisions based on the values of the features."
   ]
  },
  {
   "cell_type": "code",
   "execution_count": 9,
   "metadata": {},
   "outputs": [],
   "source": [
    "del dir, col, perc_null, file_path, file"
   ]
  },
  {
   "cell_type": "markdown",
   "metadata": {},
   "source": [
    "# Build and Train the Decision Tree Model"
   ]
  },
  {
   "cell_type": "code",
   "execution_count": 10,
   "metadata": {},
   "outputs": [],
   "source": [
    "df['Station'] = df['Station'].astype(int)\n",
    "df.set_index('Station', inplace=True)"
   ]
  },
  {
   "cell_type": "code",
   "execution_count": 11,
   "metadata": {},
   "outputs": [],
   "source": [
    "from sklearn.tree import DecisionTreeClassifier\n",
    "from sklearn.model_selection import train_test_split\n",
    "from sklearn.metrics import accuracy_score, classification_report"
   ]
  },
  {
   "cell_type": "code",
   "execution_count": 12,
   "metadata": {},
   "outputs": [
    {
     "data": {
      "text/html": [
       "<div>\n",
       "<style scoped>\n",
       "    .dataframe tbody tr th:only-of-type {\n",
       "        vertical-align: middle;\n",
       "    }\n",
       "\n",
       "    .dataframe tbody tr th {\n",
       "        vertical-align: top;\n",
       "    }\n",
       "\n",
       "    .dataframe thead th {\n",
       "        text-align: right;\n",
       "    }\n",
       "</style>\n",
       "<table border=\"1\" class=\"dataframe\">\n",
       "  <thead>\n",
       "    <tr style=\"text-align: right;\">\n",
       "      <th></th>\n",
       "      <th>MinTxFreq</th>\n",
       "      <th>MaxTxFreq</th>\n",
       "      <th>MinRxFreq</th>\n",
       "      <th>MaxRxFreq</th>\n",
       "      <th>SiteType</th>\n",
       "      <th>AntennaCode</th>\n",
       "      <th>AntennaGain</th>\n",
       "      <th>FrontBackAntennaRation</th>\n",
       "      <th>AnguloMeiaPotenciaAntena_max</th>\n",
       "      <th>ElevationAngle</th>\n",
       "      <th>...</th>\n",
       "      <th>BasicFeatures_0G9</th>\n",
       "      <th>BasicFeatures_7W</th>\n",
       "      <th>BasicFeatures_D7D</th>\n",
       "      <th>BasicFeatures_D7W</th>\n",
       "      <th>BasicFeatures_D9W</th>\n",
       "      <th>BasicFeatures_F8W</th>\n",
       "      <th>BasicFeatures_G7E</th>\n",
       "      <th>BasicFeatures_G7W</th>\n",
       "      <th>BasicFeatures_G9W</th>\n",
       "      <th>BasicFeatures_M7W</th>\n",
       "    </tr>\n",
       "    <tr>\n",
       "      <th>Station</th>\n",
       "      <th></th>\n",
       "      <th></th>\n",
       "      <th></th>\n",
       "      <th></th>\n",
       "      <th></th>\n",
       "      <th></th>\n",
       "      <th></th>\n",
       "      <th></th>\n",
       "      <th></th>\n",
       "      <th></th>\n",
       "      <th></th>\n",
       "      <th></th>\n",
       "      <th></th>\n",
       "      <th></th>\n",
       "      <th></th>\n",
       "      <th></th>\n",
       "      <th></th>\n",
       "      <th></th>\n",
       "      <th></th>\n",
       "      <th></th>\n",
       "      <th></th>\n",
       "    </tr>\n",
       "  </thead>\n",
       "  <tbody>\n",
       "    <tr>\n",
       "      <th>64300</th>\n",
       "      <td>788.0</td>\n",
       "      <td>3450.0</td>\n",
       "      <td>733.0</td>\n",
       "      <td>3450.0</td>\n",
       "      <td>GREENFIELD</td>\n",
       "      <td>760</td>\n",
       "      <td>11.20</td>\n",
       "      <td>26.0</td>\n",
       "      <td>105.00</td>\n",
       "      <td>0.0</td>\n",
       "      <td>...</td>\n",
       "      <td>False</td>\n",
       "      <td>False</td>\n",
       "      <td>False</td>\n",
       "      <td>False</td>\n",
       "      <td>False</td>\n",
       "      <td>False</td>\n",
       "      <td>False</td>\n",
       "      <td>False</td>\n",
       "      <td>True</td>\n",
       "      <td>False</td>\n",
       "    </tr>\n",
       "    <tr>\n",
       "      <th>1064380</th>\n",
       "      <td>788.0</td>\n",
       "      <td>2680.0</td>\n",
       "      <td>733.0</td>\n",
       "      <td>2560.0</td>\n",
       "      <td>GREENFIELD</td>\n",
       "      <td>760</td>\n",
       "      <td>17.00</td>\n",
       "      <td>28.0</td>\n",
       "      <td>65.00</td>\n",
       "      <td>0.0</td>\n",
       "      <td>...</td>\n",
       "      <td>False</td>\n",
       "      <td>False</td>\n",
       "      <td>False</td>\n",
       "      <td>False</td>\n",
       "      <td>False</td>\n",
       "      <td>False</td>\n",
       "      <td>False</td>\n",
       "      <td>True</td>\n",
       "      <td>False</td>\n",
       "      <td>False</td>\n",
       "    </tr>\n",
       "    <tr>\n",
       "      <th>5180368</th>\n",
       "      <td>798.0</td>\n",
       "      <td>3350.0</td>\n",
       "      <td>743.0</td>\n",
       "      <td>3350.0</td>\n",
       "      <td>GREENFIELD</td>\n",
       "      <td>760</td>\n",
       "      <td>16.60</td>\n",
       "      <td>25.0</td>\n",
       "      <td>69.00</td>\n",
       "      <td>-2.0</td>\n",
       "      <td>...</td>\n",
       "      <td>False</td>\n",
       "      <td>False</td>\n",
       "      <td>False</td>\n",
       "      <td>False</td>\n",
       "      <td>False</td>\n",
       "      <td>False</td>\n",
       "      <td>False</td>\n",
       "      <td>True</td>\n",
       "      <td>False</td>\n",
       "      <td>False</td>\n",
       "    </tr>\n",
       "    <tr>\n",
       "      <th>5180376</th>\n",
       "      <td>798.0</td>\n",
       "      <td>2640.0</td>\n",
       "      <td>743.0</td>\n",
       "      <td>2520.0</td>\n",
       "      <td>GREENFIELD</td>\n",
       "      <td>760</td>\n",
       "      <td>13.82</td>\n",
       "      <td>28.0</td>\n",
       "      <td>71.92</td>\n",
       "      <td>-2.0</td>\n",
       "      <td>...</td>\n",
       "      <td>False</td>\n",
       "      <td>False</td>\n",
       "      <td>False</td>\n",
       "      <td>False</td>\n",
       "      <td>False</td>\n",
       "      <td>False</td>\n",
       "      <td>False</td>\n",
       "      <td>True</td>\n",
       "      <td>False</td>\n",
       "      <td>False</td>\n",
       "    </tr>\n",
       "    <tr>\n",
       "      <th>5180384</th>\n",
       "      <td>798.0</td>\n",
       "      <td>2640.0</td>\n",
       "      <td>743.0</td>\n",
       "      <td>2520.0</td>\n",
       "      <td>GREENFIELD</td>\n",
       "      <td>760</td>\n",
       "      <td>14.10</td>\n",
       "      <td>30.0</td>\n",
       "      <td>69.00</td>\n",
       "      <td>0.0</td>\n",
       "      <td>...</td>\n",
       "      <td>False</td>\n",
       "      <td>False</td>\n",
       "      <td>False</td>\n",
       "      <td>False</td>\n",
       "      <td>False</td>\n",
       "      <td>False</td>\n",
       "      <td>False</td>\n",
       "      <td>True</td>\n",
       "      <td>False</td>\n",
       "      <td>False</td>\n",
       "    </tr>\n",
       "  </tbody>\n",
       "</table>\n",
       "<p>5 rows × 36 columns</p>\n",
       "</div>"
      ],
      "text/plain": [
       "         MinTxFreq  MaxTxFreq  MinRxFreq  MaxRxFreq    SiteType  AntennaCode  \\\n",
       "Station                                                                        \n",
       "64300        788.0     3450.0      733.0     3450.0  GREENFIELD          760   \n",
       "1064380      788.0     2680.0      733.0     2560.0  GREENFIELD          760   \n",
       "5180368      798.0     3350.0      743.0     3350.0  GREENFIELD          760   \n",
       "5180376      798.0     2640.0      743.0     2520.0  GREENFIELD          760   \n",
       "5180384      798.0     2640.0      743.0     2520.0  GREENFIELD          760   \n",
       "\n",
       "         AntennaGain  FrontBackAntennaRation  AnguloMeiaPotenciaAntena_max  \\\n",
       "Station                                                                      \n",
       "64300          11.20                    26.0                        105.00   \n",
       "1064380        17.00                    28.0                         65.00   \n",
       "5180368        16.60                    25.0                         69.00   \n",
       "5180376        13.82                    28.0                         71.92   \n",
       "5180384        14.10                    30.0                         69.00   \n",
       "\n",
       "         ElevationAngle  ...  BasicFeatures_0G9  BasicFeatures_7W  \\\n",
       "Station                  ...                                        \n",
       "64300               0.0  ...              False             False   \n",
       "1064380             0.0  ...              False             False   \n",
       "5180368            -2.0  ...              False             False   \n",
       "5180376            -2.0  ...              False             False   \n",
       "5180384             0.0  ...              False             False   \n",
       "\n",
       "         BasicFeatures_D7D  BasicFeatures_D7W  BasicFeatures_D9W  \\\n",
       "Station                                                            \n",
       "64300                False              False              False   \n",
       "1064380              False              False              False   \n",
       "5180368              False              False              False   \n",
       "5180376              False              False              False   \n",
       "5180384              False              False              False   \n",
       "\n",
       "         BasicFeatures_F8W  BasicFeatures_G7E  BasicFeatures_G7W  \\\n",
       "Station                                                            \n",
       "64300                False              False              False   \n",
       "1064380              False              False               True   \n",
       "5180368              False              False               True   \n",
       "5180376              False              False               True   \n",
       "5180384              False              False               True   \n",
       "\n",
       "         BasicFeatures_G9W  BasicFeatures_M7W  \n",
       "Station                                        \n",
       "64300                 True              False  \n",
       "1064380              False              False  \n",
       "5180368              False              False  \n",
       "5180376              False              False  \n",
       "5180384              False              False  \n",
       "\n",
       "[5 rows x 36 columns]"
      ]
     },
     "execution_count": 12,
     "metadata": {},
     "output_type": "execute_result"
    }
   ],
   "source": [
    "df.head()"
   ]
  }
 ],
 "metadata": {
  "kernelspec": {
   "display_name": "Python 3",
   "language": "python",
   "name": "python3"
  },
  "language_info": {
   "codemirror_mode": {
    "name": "ipython",
    "version": 3
   },
   "file_extension": ".py",
   "mimetype": "text/x-python",
   "name": "python",
   "nbconvert_exporter": "python",
   "pygments_lexer": "ipython3",
   "version": "3.12.0"
  }
 },
 "nbformat": 4,
 "nbformat_minor": 2
}
