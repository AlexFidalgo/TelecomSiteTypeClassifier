{
 "cells": [
  {
   "cell_type": "markdown",
   "metadata": {},
   "source": [
    "## Importing modules and reading csv file"
   ]
  },
  {
   "cell_type": "code",
   "execution_count": 1,
   "metadata": {},
   "outputs": [],
   "source": [
    "import os\n",
    "import polars as pl\n",
    "from utils import *\n",
    "import pandas as pd\n",
    "from datetime import datetime"
   ]
  },
  {
   "cell_type": "code",
   "execution_count": 28,
   "metadata": {},
   "outputs": [],
   "source": [
    "def get_cleaned_df(state):\n",
    "    csv_files_dir = '../data/cleaned_csv_files'\n",
    "    file = f'{state}.csv'\n",
    "    file_path = os.path.join(csv_files_dir, file)\n",
    "    df = read_csv_pl(file_path, separator = ',')\n",
    "    df = df.to_pandas()\n",
    "    return df"
   ]
  },
  {
   "cell_type": "markdown",
   "metadata": {},
   "source": [
    "Let's read the data corresponding to a single state ('AC' in this case) to explore it."
   ]
  },
  {
   "cell_type": "code",
   "execution_count": null,
   "metadata": {},
   "outputs": [],
   "source": [
    "csv_files_dir = '../data/csv_files'\n",
    "file = 'RS.csv'\n",
    "file_path = os.path.join(csv_files_dir, file)\n",
    "df = read_csv_pl(file_path, separator = ',')\n",
    "pdf = df.to_pandas()"
   ]
  },
  {
   "cell_type": "markdown",
   "metadata": {},
   "source": [
    "Let's check the different types of 'ClassInfraFisica' present."
   ]
  },
  {
   "cell_type": "code",
   "execution_count": null,
   "metadata": {},
   "outputs": [],
   "source": [
    "df.group_by('ClassInfraFisica').count()"
   ]
  },
  {
   "cell_type": "markdown",
   "metadata": {},
   "source": [
    "Let's fix the typo:"
   ]
  },
  {
   "cell_type": "code",
   "execution_count": null,
   "metadata": {},
   "outputs": [],
   "source": [
    "df = strip_column_pl(df, 'ClassInfraFisica')"
   ]
  },
  {
   "cell_type": "code",
   "execution_count": null,
   "metadata": {},
   "outputs": [],
   "source": [
    "df.group_by('ClassInfraFisica').agg(pl.col('ClassInfraFisica').count().alias('Count'))"
   ]
  },
  {
   "cell_type": "code",
   "execution_count": null,
   "metadata": {},
   "outputs": [],
   "source": [
    "df = replace_values_pl(df, 'ClassInfraFisica', 'Greenfild', 'Greenfield')"
   ]
  },
  {
   "cell_type": "markdown",
   "metadata": {},
   "source": [
    "## Investigating the relationship between ClassInfraFisica and NumEstacao"
   ]
  },
  {
   "cell_type": "markdown",
   "metadata": {},
   "source": [
    "Now, we have to check whether each station (indicated by the column 'NumEstacao') corresponds to a single type of 'ClassInfraFisica'; which is the expected behavior (assumption)."
   ]
  },
  {
   "cell_type": "code",
   "execution_count": null,
   "metadata": {},
   "outputs": [],
   "source": [
    "count_unique_values = df.group_by('NumEstacao').agg(pl.col('ClassInfraFisica').n_unique().alias('unique_count'))\n",
    "instances_with_different_values = count_unique_values.filter(count_unique_values['unique_count'] > 1)\n",
    "print(instances_with_different_values)"
   ]
  },
  {
   "cell_type": "markdown",
   "metadata": {},
   "source": [
    "We found that we can actually get two different 'ClassInfraFisica' for any individual station. But if we check further, we'll see that it's actually pairing types with 'null' values, which does not compromise the assumption."
   ]
  },
  {
   "cell_type": "code",
   "execution_count": null,
   "metadata": {},
   "outputs": [],
   "source": [
    "df.filter(df['NumEstacao'] == 1007447238)[['NumEstacao', 'ClassInfraFisica']]"
   ]
  },
  {
   "cell_type": "markdown",
   "metadata": {},
   "source": [
    "Let's group by 'NumEstacao', but keeping all the info present in the rows as sets (or as a single value if all rows match)"
   ]
  },
  {
   "cell_type": "code",
   "execution_count": null,
   "metadata": {},
   "outputs": [],
   "source": [
    "dfg = pdf.groupby('NumEstacao').agg(lambda x: set_aggregation(x))\n",
    "dfg.head(4)"
   ]
  },
  {
   "cell_type": "code",
   "execution_count": null,
   "metadata": {},
   "outputs": [],
   "source": [
    "print(f\"Percentage of initial rows kept when grouping = {len(dfg)*100/len(df):.2f}%\")"
   ]
  },
  {
   "cell_type": "markdown",
   "metadata": {},
   "source": [
    "Now we have a dataframe with all the original information, but only 16% of the rows; in which each represents a single station"
   ]
  },
  {
   "cell_type": "markdown",
   "metadata": {},
   "source": [
    "## Understanding the Columns"
   ]
  },
  {
   "cell_type": "markdown",
   "metadata": {},
   "source": [
    "Let's understand what the columns are about. This will futurely enable us to better make sense of them, process them if necessary, or drop irrelevant ones."
   ]
  },
  {
   "cell_type": "markdown",
   "metadata": {},
   "source": [
    "From [Página de Emissões - Anatel](https://sistemas.anatel.gov.br/anexar-api/publico/anexos/download/9cfc11fc83fcfc2d2586cdb887f72cb5), we can understand what each column refers to.\n",
    "\n",
    "Status.state: Situação da solicitação na Anatel.\n",
    "\n",
    "NumFistel: É um código numérico definido pela Anatel, composto de onze dígitos que identifica a autorização que a empresa possui para determinado serviço em determinada região.\n",
    "\n",
    "NomeEntidade: Nome da Empresa detentora da estação.\n",
    "\n",
    "NumServico: Código do serviço de telecomunicações na Anatel.\n",
    "\n",
    "NumAto: Número do Ato de Autorização de Uso de Radiofrequência, sendo que os quatro últimos dígitos se referem ao ano da assinatura do respectivo ato. Exemplo XYZW2017, ato XYZW de 2017.\n",
    "\n",
    "EnderecoEstacao: Endereço completo onde a estação está instalada.\n",
    "\n",
    "EndComplemento: Complemento do endereço, caso haja.\n",
    "\n",
    "DesignacaoEmissao: Baseado em [Método de Designação - Anatel](https://www.anatel.gov.br/Portal/verificaDocumentos/documento.asp?numeroPublicacao=60403&assuntoPublicacao=null&caminhoRel=null&filtro=1&documentoPath=outros/autocadastramento/metodo_de_designacao.pdf)\n",
    "\n",
    "Designação de emissão. Para uma completa designação da emissão, necessitamos sempre de 9 caracteres alfanuméricos. Os quatros primeiros representam a _largura de faixa necessária_; os três seguintes as _características básicas_ e os dois últimos as _características adicionais facultativas_.\n",
    "- Largura de faixa necessária: Para uma dada classe de emissão, o valor mínimo da largura de faixa ocupada pela emissão, suficiente para garantir a transmissão da informação com a velocidade de transmissão e com a qualidade requerida para o sistema empregado, nas condições especificadas. A largura de faixa necessária será sempre expressa por meio de três algarismos, que indicam os três primeiros algarismos significativos de largura de faixa necessária e uma letra que ocupa a posição da virgula decimal e representa a Unidade de largura de faixa e será H para Hertz, K para Kilohertz, M para Megahertz ou G para Gigahertz.\n",
    "- Características básicas: descritas por três símbolos:\n",
    "    - Primeiro símbolo: tipo de modulação da portaria principal.\n",
    "    - Segundo símbolo: natureza do(s) sinais que modulam a portaria principal.\n",
    "    - Terceiro símbolo: tipo de informação a ser transmitida.\n",
    "- Características adicionais facultativas: Para descrição mais completa de uma emissão, são previstas duas características facultativas, as quais são expressas pelos quarto e quinto símbolos. Quando não se utiliza o quarto ou o quinto símbolo, convém indicar isso mediante um traço no lugar em que cada símbolo apareceria.\n",
    "\n",
    "meioAcesso: é um campo de ‘estações dispensadas de licenciamento’. As opções são: fibra, par metálico, cabo coaxial e radiação restrita.\n",
    "\n",
    "Azimute: posicionamento m graus em relação ao Norte do lóbulo principal de radiação da antena. Quando for utilizada antena omnidirecional será 0.\n",
    "\n",
    "CodTipoClasseEstacao: Classe da Estação conforme lista permitida no sistema de canalização do Mosaico, conforme o Regulamento da faixa de frequência utilizada conforme Manual de Projetos Técnicos do SITAR, disponível em [Manual de Projeto - Anatel](https://www.anatel.gov.br/Portal/verificaDocumentos/documento.asp?numeroPublicacao=60402&assuntoPublicacao=MANUAL%20DE%20PROJETOS%20T%C9CNICOS%20(SITAR)&caminhoRel=CidadaoComunica%E7%E3o%20via%20R%E1dioServi%E7o%20Limitado&filtro=1&documentoPath=outros/). Exemplos:\n",
    "- ML: Estação móvel terrestre\n",
    "- FX: Estação fixa\n",
    "- FB: Estação de base\n",
    "- XR: Estação fixa repetidora\n",
    "- FA: Estação aeronáutica\n",
    "- RC: Radiofarol não direcional\n",
    "\n",
    "ClassInfraFisica: Classificação de Infraestrutura Física. Apenas para estações dos serviços de interesse coletivo (STFC, SCM e SMP). Para serviços de interesse restrito (SLP), estará em branco. Valores válidos: Greenfield, Streetlevel, Ran Sharing, Small Cell, COW, Picocelula, Harmonizada, Rooftop, Indoor, Outdoor\n",
    "\n",
    "CompartilhamentoInfraFisica: Compartilhamento de Infraestrutura Física. Apenas para estações dos serviços de interesse coletivo (não se aplica para SLP).\n",
    "\n",
    "CodTipoAntena: Tipo Antena: campo obrigatório, onde é inserido o código conforme item 2.3.4 do [Manual de Projeto - Anatel](https://www.anatel.gov.br/Portal/verificaDocumentos/documento.asp?numeroPublicacao=60402&assuntoPublicacao=MANUAL%20DE%20PROJETOS%20T%C9CNICOS%20(SITAR)&caminhoRel=CidadaoComunica%E7%E3o%20via%20R%E1dioServi%E7o%20Limitado&filtro=1&documentoPath=outros/). Exemplos:\n",
    "- 019: Monopolo vertical\n",
    "- 060: V invertido\n",
    "- 213: Cabo fendido\n",
    "\n",
    "GanhoAntena: Ganho da Antena em dB. Se a frequência for superior a 28.000 kHz, é informado o ganho da antena em relação a uma antena isotrópica (dbi); se inferior, este é dado em relação a uma antena dipolo (dBd).\n",
    "\n",
    "FrenteCostaAntena: Relação Frente/Costa em dBi (campo obrigatório). Deve ser menor que 90 dbi. Será 0 (zero) quando for utilizada antena omnidirecional.\n",
    "\n",
    "AnguloMeiaPotenciaAntena: Ângulo de meia potência em graus decimais (campo obrigatório). Pontos no diagrama onde a potência radiada equivale à metade da radiada na direção principal.\n",
    "\n",
    "AnguloElevacao: : Ângulo de elevação mecânico em graus decimais. O valor deve estar entre 0 e 90 e ser medido com relação à linha de horizonte, sendo negativo quando a linha de visada estiver abaixo desta referência.\n",
    "\n",
    "Polarizacao:  a orientação do campo elétrico da onda de rádio com respeito a terra ou direção de propagação; e é determinado pela estrutura física da antena e por sua orientação. Valores aceitos: H (horizontal), V (vertical), CR (circular á direita), CL (circular à esquerda) e X (horizontal e vertical simultâneas ou não).\n",
    "\n",
    "AlturaAntena: Altura da antena (em relação a cota do terreno). Deve ser menor que 200 m.\n",
    "\n",
    "PotenciaTransmissorWatts: Potência nominal (saída do transmissor) em watts.\n",
    "\n",
    "CodDebitoTFI: Código da Taxa de Fiscalização de Instalação (TFI) conforme lei nº 5.070, de 7 de julho de 1966.\n",
    "Taxa de fiscalização da instalação é aquela devida pelas concessionárias e permissionárias de serviços de telecomunicações, no momento em que lhes é outorgada autorização para a execução do serviço e tem a finalidade de ressarcir as despesas realizadas pelo Poder Público até o licenciamento das respectivas estações. Não serão licenciadas as estações das permissionárias e concessionárias de serviços de telecomunicações que não efetuarem o pagamento da taxa de fiscalização da instalação.\n",
    "[Lei do Fistel](https://www2.camara.leg.br/legin/fed/lei/1960-1969/lei-5070-7-julho-1966-364619-anexo-pl.pdf)\n",
    "\n",
    "DataLicenciamento:  Data do último licenciamento da estação. Formato: AAAA/MM/DD\n",
    "\n",
    "DataPrimeiroLicenciamento: Data do primeiro licenciamento da estação. Formato: AAAA/MM/DD\n",
    "\n",
    "NumRede: Valor numérico, definido pelo usuário, para identificar grupo de estações que se comunicam. Visa facilitar a análise da comunicação das redes.\n",
    "\n",
    "_id:  Identificação da emissão / frequência da estação\n",
    "\n",
    "DataValidade: Validade da RF associada àquela estação.\n",
    "\n",
    "NumFistelAssociado: Campo preenchido quando a emissão for de outro Fistel (do mesmo CNPJ ou diferentes): licenciamento conjunto. Nesse caso, é informado o número do Fistel responsável pelo Ato de RF da emissão dessa linha\n",
    "\n"
   ]
  },
  {
   "cell_type": "markdown",
   "metadata": {},
   "source": [
    "meioAcesso consists of all None values"
   ]
  },
  {
   "cell_type": "code",
   "execution_count": null,
   "metadata": {},
   "outputs": [],
   "source": [
    "pdf['meioAcesso'].value_counts(dropna=False)"
   ]
  },
  {
   "cell_type": "code",
   "execution_count": null,
   "metadata": {},
   "outputs": [],
   "source": [
    "# CodEquipamentoTransmissor\n",
    "print(f\"number of rows: {len(pdf['CodEquipamentoTransmissor'])}\")\n",
    "print(f\"number of unique rows: {pdf['CodEquipamentoTransmissor'].nunique()}\")"
   ]
  },
  {
   "cell_type": "code",
   "execution_count": null,
   "metadata": {},
   "outputs": [],
   "source": [
    "# CodDebitoTFI\n",
    "pdf['CodDebitoTFI'].value_counts()"
   ]
  },
  {
   "cell_type": "code",
   "execution_count": null,
   "metadata": {},
   "outputs": [],
   "source": [
    "# _id\n",
    "pdf['_id'].value_counts()"
   ]
  },
  {
   "cell_type": "code",
   "execution_count": null,
   "metadata": {},
   "outputs": [],
   "source": [
    "# DataValidade\n",
    "pdf['DataValidade'].value_counts()"
   ]
  },
  {
   "cell_type": "code",
   "execution_count": null,
   "metadata": {},
   "outputs": [],
   "source": [
    "pdf['NumFistelAssociado'].value_counts()"
   ]
  },
  {
   "cell_type": "code",
   "execution_count": null,
   "metadata": {},
   "outputs": [],
   "source": [
    "pdf['NomeEntidadeAssociado'].value_counts()"
   ]
  },
  {
   "cell_type": "markdown",
   "metadata": {},
   "source": [
    "## Filtering out irrelevant columns"
   ]
  },
  {
   "cell_type": "code",
   "execution_count": null,
   "metadata": {},
   "outputs": [],
   "source": [
    "pdf = filter_columns(pdf)\n",
    "\n",
    "pdf.head()"
   ]
  },
  {
   "cell_type": "markdown",
   "metadata": {},
   "source": [
    "### NomeEntidade"
   ]
  },
  {
   "cell_type": "markdown",
   "metadata": {},
   "source": [
    "Given the high number of different providers found in this column (sometimes it's the mobile network operator, sometimes it's the venue owner), we will not be using this column."
   ]
  },
  {
   "cell_type": "markdown",
   "metadata": {},
   "source": [
    "## Column Treatment"
   ]
  },
  {
   "cell_type": "markdown",
   "metadata": {},
   "source": [
    "Now we will correctly treat each column in order to have relevant information and prepare it for training."
   ]
  },
  {
   "cell_type": "markdown",
   "metadata": {},
   "source": [
    "### SiglaUf"
   ]
  },
  {
   "cell_type": "code",
   "execution_count": null,
   "metadata": {},
   "outputs": [],
   "source": [
    "pdf['SiglaUf']"
   ]
  },
  {
   "cell_type": "markdown",
   "metadata": {},
   "source": [
    "### CodMunicipio"
   ]
  },
  {
   "cell_type": "code",
   "execution_count": null,
   "metadata": {},
   "outputs": [],
   "source": [
    "pdf['CodMunicipio'] = pdf['CodMunicipio'].fillna(0).astype(int)\n",
    "pdf['CodMunicipio']"
   ]
  },
  {
   "cell_type": "markdown",
   "metadata": {},
   "source": [
    "### DesignacaoEmissao"
   ]
  },
  {
   "cell_type": "code",
   "execution_count": null,
   "metadata": {},
   "outputs": [],
   "source": [
    "pdf[['LarguraFaixaNecessaria', 'CaracteristicasBasicas']] = pdf.apply(process_designacao_emissao, axis=1)\n",
    "pdf.drop(columns=['DesignacaoEmissao'], inplace=True)"
   ]
  },
  {
   "cell_type": "markdown",
   "metadata": {},
   "source": [
    "### Tecnologia & tipoTecnologia"
   ]
  },
  {
   "cell_type": "code",
   "execution_count": null,
   "metadata": {},
   "outputs": [],
   "source": [
    "pdf['Tecnologia_e_Tipo'] = pdf.apply(lambda row: concatenate_columns(row, 'Tecnologia', 'tipoTecnologia'), axis=1)\n",
    "pdf.drop(columns=['Tecnologia', 'tipoTecnologia'], inplace=True)"
   ]
  },
  {
   "cell_type": "code",
   "execution_count": null,
   "metadata": {},
   "outputs": [],
   "source": [
    "x[~x['tipoTecnologia'].isnull()]"
   ]
  },
  {
   "cell_type": "markdown",
   "metadata": {},
   "source": [
    "### FreqTxMHz"
   ]
  },
  {
   "cell_type": "code",
   "execution_count": null,
   "metadata": {},
   "outputs": [],
   "source": [
    "pdf['FreqTxMHz']"
   ]
  },
  {
   "cell_type": "markdown",
   "metadata": {},
   "source": [
    "### FreqRxMHz"
   ]
  },
  {
   "cell_type": "code",
   "execution_count": null,
   "metadata": {},
   "outputs": [],
   "source": [
    "pdf['FreqRxMHz']"
   ]
  },
  {
   "cell_type": "markdown",
   "metadata": {},
   "source": [
    "### CodTipoClasseEstacao"
   ]
  },
  {
   "cell_type": "code",
   "execution_count": null,
   "metadata": {},
   "outputs": [],
   "source": [
    "pdf['CodTipoClasseEstacao'].value_counts()"
   ]
  },
  {
   "cell_type": "markdown",
   "metadata": {},
   "source": [
    "### ClassInfraFisica"
   ]
  },
  {
   "cell_type": "code",
   "execution_count": null,
   "metadata": {},
   "outputs": [],
   "source": [
    "file = 'SP.csv'\n",
    "file_path = os.path.join(csv_files_dir, file)\n",
    "df = read_csv_pl(file_path, separator = ',')\n",
    "pdf = df.to_pandas()\n",
    "pdf = strip_column(pdf, 'ClassInfraFisica')\n",
    "pdf['ClassInfraFisica'] = pdf['ClassInfraFisica'].str.upper()\n",
    "pdf['ClassInfraFisica'].value_counts(dropna=False)"
   ]
  },
  {
   "cell_type": "code",
   "execution_count": null,
   "metadata": {},
   "outputs": [],
   "source": [
    "pdf['ClassInfraFisica'].value_counts(dropna=False)"
   ]
  },
  {
   "cell_type": "code",
   "execution_count": null,
   "metadata": {},
   "outputs": [],
   "source": [
    "pdf = strip_column(pdf, 'ClassInfraFisica')\n",
    "pdf['ClassInfraFisica'] = pdf['ClassInfraFisica'].str.upper()\n",
    "pdf = replace_values(pdf, 'ClassInfraFisica', 'GREENFILD', 'GREENFIELD')\n",
    "pdf['ClassInfraFisica'].value_counts(dropna=False)"
   ]
  },
  {
   "cell_type": "markdown",
   "metadata": {},
   "source": [
    "### CompartilhamentoInfraFisica"
   ]
  },
  {
   "cell_type": "code",
   "execution_count": null,
   "metadata": {},
   "outputs": [],
   "source": [
    "pdf['CompartilhamentoInfraFisica'].value_counts(dropna=False)"
   ]
  },
  {
   "cell_type": "markdown",
   "metadata": {},
   "source": [
    "### CodTipoAntena"
   ]
  },
  {
   "cell_type": "code",
   "execution_count": null,
   "metadata": {},
   "outputs": [],
   "source": [
    "pdf['CodTipoAntena'].value_counts()"
   ]
  },
  {
   "cell_type": "code",
   "execution_count": null,
   "metadata": {},
   "outputs": [],
   "source": [
    "pdf['CodTipoAntena'] = pdf['CodTipoAntena'].fillna(0).astype(int)\n",
    "pdf['CodTipoAntena'] = pdf['CodTipoAntena'].astype(str)\n",
    "pdf['CodTipoAntena'].value_counts()"
   ]
  },
  {
   "cell_type": "markdown",
   "metadata": {},
   "source": [
    "### GanhoAntena"
   ]
  },
  {
   "cell_type": "code",
   "execution_count": null,
   "metadata": {},
   "outputs": [],
   "source": [
    "pdf['GanhoAntena'].value_counts()"
   ]
  },
  {
   "cell_type": "code",
   "execution_count": null,
   "metadata": {},
   "outputs": [],
   "source": [
    "pdf['GanhoAntena'] = pd.to_numeric(pdf['GanhoAntena'], errors='coerce')\n",
    "pdf['GanhoAntena']"
   ]
  },
  {
   "cell_type": "markdown",
   "metadata": {},
   "source": [
    "### FrenteCostaAntena"
   ]
  },
  {
   "cell_type": "code",
   "execution_count": null,
   "metadata": {},
   "outputs": [],
   "source": [
    "pdf['FrenteCostaAntena'] = pd.to_numeric(pdf['FrenteCostaAntena'], errors='coerce')\n",
    "pdf['FrenteCostaAntena']"
   ]
  },
  {
   "cell_type": "markdown",
   "metadata": {},
   "source": [
    "### AnguloMeiaPotenciaAntena"
   ]
  },
  {
   "cell_type": "code",
   "execution_count": null,
   "metadata": {},
   "outputs": [],
   "source": [
    "pdf['AnguloMeiaPotenciaAntena'] = pd.to_numeric(pdf['AnguloMeiaPotenciaAntena'], errors='coerce')\n",
    "pdf['AnguloMeiaPotenciaAntena']"
   ]
  },
  {
   "cell_type": "markdown",
   "metadata": {},
   "source": [
    "### AnguloElevacao"
   ]
  },
  {
   "cell_type": "code",
   "execution_count": null,
   "metadata": {},
   "outputs": [],
   "source": [
    "pdf['AnguloElevacao'] = pd.to_numeric(pdf['AnguloElevacao'], errors='coerce')\n",
    "pdf['AnguloElevacao']"
   ]
  },
  {
   "cell_type": "markdown",
   "metadata": {},
   "source": [
    "### Polarizacao"
   ]
  },
  {
   "cell_type": "code",
   "execution_count": null,
   "metadata": {},
   "outputs": [],
   "source": [
    "pdf['Polarizacao'] = pdf['Polarizacao'].str.upper()\n",
    "pdf['Polarizacao']"
   ]
  },
  {
   "cell_type": "markdown",
   "metadata": {},
   "source": [
    "### AlturaAntena"
   ]
  },
  {
   "cell_type": "code",
   "execution_count": null,
   "metadata": {},
   "outputs": [],
   "source": [
    "pdf['AlturaAntena'] = pd.to_numeric(pdf['AlturaAntena'], errors='coerce')\n",
    "pdf['AlturaAntena']"
   ]
  },
  {
   "cell_type": "markdown",
   "metadata": {},
   "source": [
    "### CodEquipamentoTransmissor"
   ]
  },
  {
   "cell_type": "code",
   "execution_count": null,
   "metadata": {},
   "outputs": [],
   "source": [
    "pdf['CodEquipamentoTransmissor'].value_counts()"
   ]
  },
  {
   "cell_type": "markdown",
   "metadata": {},
   "source": [
    "### PotenciaTransmissorWatts"
   ]
  },
  {
   "cell_type": "code",
   "execution_count": null,
   "metadata": {},
   "outputs": [],
   "source": [
    "pdf['PotenciaTransmissorWatts'].value_counts(dropna=False)"
   ]
  },
  {
   "cell_type": "markdown",
   "metadata": {},
   "source": [
    "### CodDebitoTFI"
   ]
  },
  {
   "cell_type": "code",
   "execution_count": null,
   "metadata": {},
   "outputs": [],
   "source": [
    "pdf['CodDebitoTFI'].value_counts(dropna=False)"
   ]
  },
  {
   "cell_type": "markdown",
   "metadata": {},
   "source": [
    "### DataLicenciamento"
   ]
  },
  {
   "cell_type": "code",
   "execution_count": null,
   "metadata": {},
   "outputs": [],
   "source": [
    "# pdf['DataLicenciamento'] = pd.to_datetime(pdf['DataLicenciamento'], errors='coerce')\n",
    "# pdf['IdadeLicenciamento'] = (pd.to_datetime('today') - pdf['DataLicenciamento']).dt.days\n",
    "# pdf['IdadeLicenciamento'].where(pdf['DataLicenciamento'].notna(), None, inplace=True)\n",
    "pdf['IdadeLicenciamento'] = pdf.apply(process_data, date_column='DataLicenciamento', axis=1)"
   ]
  },
  {
   "cell_type": "code",
   "execution_count": null,
   "metadata": {},
   "outputs": [],
   "source": [
    "# pdf[pdf['DataLicenciamento'].isna()][['DataLicenciamento', 'IdadeLicenciamento']]\n",
    "z = pdf[['DataLicenciamento', 'IdadeLicenciamento']]"
   ]
  },
  {
   "cell_type": "markdown",
   "metadata": {},
   "source": [
    "### DataPrimeiroLicenciamento"
   ]
  },
  {
   "cell_type": "code",
   "execution_count": null,
   "metadata": {},
   "outputs": [],
   "source": [
    "pdf['IdadePrimeiroLicenciamento'] = pdf.apply(process_data, date_column='DataPrimeiroLicenciamento', axis=1)"
   ]
  },
  {
   "cell_type": "code",
   "execution_count": null,
   "metadata": {},
   "outputs": [],
   "source": [
    "z = pdf[['NumEstacao', 'DataLicenciamento', 'IdadeLicenciamento', 'DataPrimeiroLicenciamento', 'IdadePrimeiroLicenciamento']]"
   ]
  },
  {
   "cell_type": "markdown",
   "metadata": {},
   "source": [
    "### DataValidade"
   ]
  },
  {
   "cell_type": "code",
   "execution_count": null,
   "metadata": {},
   "outputs": [],
   "source": [
    "pdf['DiasAteExpirar'] = pdf.apply(process_data, date_column='DataValidade', axis=1)"
   ]
  },
  {
   "cell_type": "code",
   "execution_count": null,
   "metadata": {},
   "outputs": [],
   "source": [
    "pdf[['DiasAteExpirar', 'DataValidade']]"
   ]
  },
  {
   "cell_type": "markdown",
   "metadata": {},
   "source": [
    "### NumFistelAssociado"
   ]
  },
  {
   "cell_type": "markdown",
   "metadata": {},
   "source": [
    "Huge number of NaNs and not that important of a column"
   ]
  },
  {
   "cell_type": "code",
   "execution_count": null,
   "metadata": {},
   "outputs": [],
   "source": [
    "pdf['NumFistelAssociado'].value_counts(dropna=False)"
   ]
  },
  {
   "cell_type": "markdown",
   "metadata": {},
   "source": [
    "# Labeled ClassInfraFisica proportion"
   ]
  },
  {
   "cell_type": "code",
   "execution_count": 22,
   "metadata": {},
   "outputs": [],
   "source": [
    "df = get_cleaned_df('PR')"
   ]
  },
  {
   "cell_type": "code",
   "execution_count": 23,
   "metadata": {},
   "outputs": [],
   "source": [
    "dfg = df.groupby('NumEstacao').agg(lambda x: set_aggregation(x))"
   ]
  },
  {
   "cell_type": "code",
   "execution_count": 4,
   "metadata": {},
   "outputs": [],
   "source": [
    "z = dfg[['ClassInfraFisica']]"
   ]
  },
  {
   "cell_type": "code",
   "execution_count": 24,
   "metadata": {},
   "outputs": [
    {
     "data": {
      "text/html": [
       "<div>\n",
       "<style scoped>\n",
       "    .dataframe tbody tr th:only-of-type {\n",
       "        vertical-align: middle;\n",
       "    }\n",
       "\n",
       "    .dataframe tbody tr th {\n",
       "        vertical-align: top;\n",
       "    }\n",
       "\n",
       "    .dataframe thead th {\n",
       "        text-align: right;\n",
       "    }\n",
       "</style>\n",
       "<table border=\"1\" class=\"dataframe\">\n",
       "  <thead>\n",
       "    <tr style=\"text-align: right;\">\n",
       "      <th></th>\n",
       "      <th>index</th>\n",
       "      <th>NaN_Count</th>\n",
       "      <th>Non_NaN_Count</th>\n",
       "      <th>NaN_proportion</th>\n",
       "    </tr>\n",
       "  </thead>\n",
       "  <tbody>\n",
       "    <tr>\n",
       "      <th>5</th>\n",
       "      <td>ClassInfraFisica</td>\n",
       "      <td>54945</td>\n",
       "      <td>3667</td>\n",
       "      <td>93.743602</td>\n",
       "    </tr>\n",
       "  </tbody>\n",
       "</table>\n",
       "</div>"
      ],
      "text/plain": [
       "              index  NaN_Count  Non_NaN_Count  NaN_proportion\n",
       "5  ClassInfraFisica      54945           3667       93.743602"
      ]
     },
     "execution_count": 24,
     "metadata": {},
     "output_type": "execute_result"
    }
   ],
   "source": [
    "x = dfg.isna().sum().reset_index(name='NaN_Count').merge(dfg.count().reset_index(name='Non_NaN_Count'), how='outer')\n",
    "x['NaN_proportion'] = 100*x['NaN_Count']/(x['NaN_Count'] + x['Non_NaN_Count'])\n",
    "x[x['index']=='ClassInfraFisica']"
   ]
  },
  {
   "cell_type": "markdown",
   "metadata": {},
   "source": [
    "# Defining Grouping Criterion for Each Column"
   ]
  },
  {
   "cell_type": "code",
   "execution_count": 29,
   "metadata": {},
   "outputs": [
    {
     "data": {
      "text/html": [
       "<div>\n",
       "<style scoped>\n",
       "    .dataframe tbody tr th:only-of-type {\n",
       "        vertical-align: middle;\n",
       "    }\n",
       "\n",
       "    .dataframe tbody tr th {\n",
       "        vertical-align: top;\n",
       "    }\n",
       "\n",
       "    .dataframe thead th {\n",
       "        text-align: right;\n",
       "    }\n",
       "</style>\n",
       "<table border=\"1\" class=\"dataframe\">\n",
       "  <thead>\n",
       "    <tr style=\"text-align: right;\">\n",
       "      <th></th>\n",
       "      <th>NumEstacao</th>\n",
       "      <th>SiglaUf</th>\n",
       "      <th>CodMunicipio</th>\n",
       "      <th>FreqTxMHz</th>\n",
       "      <th>FreqRxMHz</th>\n",
       "      <th>CodTipoClasseEstacao</th>\n",
       "      <th>ClassInfraFisica</th>\n",
       "      <th>CompartilhamentoInfraFisica</th>\n",
       "      <th>CodTipoAntena</th>\n",
       "      <th>GanhoAntena</th>\n",
       "      <th>...</th>\n",
       "      <th>CodEquipamentoTransmissor</th>\n",
       "      <th>PotenciaTransmissorWatts</th>\n",
       "      <th>CodDebitoTFI</th>\n",
       "      <th>DataValidade</th>\n",
       "      <th>LarguraFaixaNecessaria</th>\n",
       "      <th>CaracteristicasBasicas</th>\n",
       "      <th>Tecnologia_e_Tipo</th>\n",
       "      <th>DiasDesdeLicenciamento</th>\n",
       "      <th>DiasDesdePrimeiroLicenciamento</th>\n",
       "      <th>DiasAteExpirar</th>\n",
       "    </tr>\n",
       "  </thead>\n",
       "  <tbody>\n",
       "    <tr>\n",
       "      <th>0</th>\n",
       "      <td>211222</td>\n",
       "      <td>PR</td>\n",
       "      <td>4115200</td>\n",
       "      <td>2150.0</td>\n",
       "      <td>1960.0</td>\n",
       "      <td>FB</td>\n",
       "      <td>None</td>\n",
       "      <td>NA</td>\n",
       "      <td>760</td>\n",
       "      <td>15.86</td>\n",
       "      <td>...</td>\n",
       "      <td>2.246100e+10</td>\n",
       "      <td>40.0</td>\n",
       "      <td>G</td>\n",
       "      <td>2029-12-08</td>\n",
       "      <td>{'5M00'}</td>\n",
       "      <td>['G9W']</td>\n",
       "      <td>WCDMA</td>\n",
       "      <td>133.0</td>\n",
       "      <td>7217.0</td>\n",
       "      <td>-2210</td>\n",
       "    </tr>\n",
       "    <tr>\n",
       "      <th>1</th>\n",
       "      <td>211222</td>\n",
       "      <td>PR</td>\n",
       "      <td>4115200</td>\n",
       "      <td>1825.0</td>\n",
       "      <td>1730.0</td>\n",
       "      <td>FB</td>\n",
       "      <td>None</td>\n",
       "      <td>NA</td>\n",
       "      <td>760</td>\n",
       "      <td>15.86</td>\n",
       "      <td>...</td>\n",
       "      <td>8.307180e+10</td>\n",
       "      <td>20.0</td>\n",
       "      <td>G</td>\n",
       "      <td>2029-12-08</td>\n",
       "      <td>{'200K'}</td>\n",
       "      <td>['G7W']</td>\n",
       "      <td>GSM</td>\n",
       "      <td>133.0</td>\n",
       "      <td>7217.0</td>\n",
       "      <td>-2210</td>\n",
       "    </tr>\n",
       "    <tr>\n",
       "      <th>2</th>\n",
       "      <td>211222</td>\n",
       "      <td>PR</td>\n",
       "      <td>4115200</td>\n",
       "      <td>1825.0</td>\n",
       "      <td>1730.0</td>\n",
       "      <td>FB</td>\n",
       "      <td>None</td>\n",
       "      <td>NA</td>\n",
       "      <td>760</td>\n",
       "      <td>15.86</td>\n",
       "      <td>...</td>\n",
       "      <td>8.307180e+10</td>\n",
       "      <td>20.0</td>\n",
       "      <td>G</td>\n",
       "      <td>2029-12-08</td>\n",
       "      <td>{'200K'}</td>\n",
       "      <td>['G7W']</td>\n",
       "      <td>GSM</td>\n",
       "      <td>133.0</td>\n",
       "      <td>7217.0</td>\n",
       "      <td>-2210</td>\n",
       "    </tr>\n",
       "    <tr>\n",
       "      <th>3</th>\n",
       "      <td>211222</td>\n",
       "      <td>PR</td>\n",
       "      <td>4115200</td>\n",
       "      <td>1825.0</td>\n",
       "      <td>1730.0</td>\n",
       "      <td>FB</td>\n",
       "      <td>None</td>\n",
       "      <td>NA</td>\n",
       "      <td>760</td>\n",
       "      <td>15.86</td>\n",
       "      <td>...</td>\n",
       "      <td>8.307180e+10</td>\n",
       "      <td>20.0</td>\n",
       "      <td>G</td>\n",
       "      <td>2029-12-08</td>\n",
       "      <td>{'200K'}</td>\n",
       "      <td>['G7W']</td>\n",
       "      <td>GSM</td>\n",
       "      <td>133.0</td>\n",
       "      <td>7217.0</td>\n",
       "      <td>-2210</td>\n",
       "    </tr>\n",
       "    <tr>\n",
       "      <th>4</th>\n",
       "      <td>211222</td>\n",
       "      <td>PR</td>\n",
       "      <td>4115200</td>\n",
       "      <td>1832.5</td>\n",
       "      <td>1737.5</td>\n",
       "      <td>FB</td>\n",
       "      <td>None</td>\n",
       "      <td>NA</td>\n",
       "      <td>760</td>\n",
       "      <td>15.86</td>\n",
       "      <td>...</td>\n",
       "      <td>8.307180e+10</td>\n",
       "      <td>20.0</td>\n",
       "      <td>G</td>\n",
       "      <td>2029-12-08</td>\n",
       "      <td>{'200K'}</td>\n",
       "      <td>['G7W']</td>\n",
       "      <td>GSM</td>\n",
       "      <td>133.0</td>\n",
       "      <td>7217.0</td>\n",
       "      <td>-2210</td>\n",
       "    </tr>\n",
       "    <tr>\n",
       "      <th>...</th>\n",
       "      <td>...</td>\n",
       "      <td>...</td>\n",
       "      <td>...</td>\n",
       "      <td>...</td>\n",
       "      <td>...</td>\n",
       "      <td>...</td>\n",
       "      <td>...</td>\n",
       "      <td>...</td>\n",
       "      <td>...</td>\n",
       "      <td>...</td>\n",
       "      <td>...</td>\n",
       "      <td>...</td>\n",
       "      <td>...</td>\n",
       "      <td>...</td>\n",
       "      <td>...</td>\n",
       "      <td>...</td>\n",
       "      <td>...</td>\n",
       "      <td>...</td>\n",
       "      <td>...</td>\n",
       "      <td>...</td>\n",
       "      <td>...</td>\n",
       "    </tr>\n",
       "    <tr>\n",
       "      <th>383571</th>\n",
       "      <td>1001101992</td>\n",
       "      <td>PR</td>\n",
       "      <td>4115200</td>\n",
       "      <td>2655.0</td>\n",
       "      <td>2535.0</td>\n",
       "      <td>FB</td>\n",
       "      <td>None</td>\n",
       "      <td>None</td>\n",
       "      <td>760</td>\n",
       "      <td>16.15</td>\n",
       "      <td>...</td>\n",
       "      <td>5.669190e+10</td>\n",
       "      <td>40.0</td>\n",
       "      <td>G</td>\n",
       "      <td>2038-04-30</td>\n",
       "      <td>{'10M0'}</td>\n",
       "      <td>['G7W']</td>\n",
       "      <td>LTE</td>\n",
       "      <td>45.0</td>\n",
       "      <td>3191.0</td>\n",
       "      <td>-5275</td>\n",
       "    </tr>\n",
       "    <tr>\n",
       "      <th>383572</th>\n",
       "      <td>1001101992</td>\n",
       "      <td>PR</td>\n",
       "      <td>4115200</td>\n",
       "      <td>2655.0</td>\n",
       "      <td>2535.0</td>\n",
       "      <td>FB</td>\n",
       "      <td>None</td>\n",
       "      <td>None</td>\n",
       "      <td>760</td>\n",
       "      <td>16.15</td>\n",
       "      <td>...</td>\n",
       "      <td>5.669190e+10</td>\n",
       "      <td>40.0</td>\n",
       "      <td>G</td>\n",
       "      <td>2038-04-30</td>\n",
       "      <td>{'10M0'}</td>\n",
       "      <td>['G7W']</td>\n",
       "      <td>LTE</td>\n",
       "      <td>45.0</td>\n",
       "      <td>3191.0</td>\n",
       "      <td>-5275</td>\n",
       "    </tr>\n",
       "    <tr>\n",
       "      <th>383573</th>\n",
       "      <td>692663517</td>\n",
       "      <td>PR</td>\n",
       "      <td>4115200</td>\n",
       "      <td>2655.0</td>\n",
       "      <td>2535.0</td>\n",
       "      <td>FB</td>\n",
       "      <td>None</td>\n",
       "      <td>None</td>\n",
       "      <td>760</td>\n",
       "      <td>16.15</td>\n",
       "      <td>...</td>\n",
       "      <td>5.669190e+10</td>\n",
       "      <td>40.0</td>\n",
       "      <td>G</td>\n",
       "      <td>2038-04-30</td>\n",
       "      <td>{'10M0'}</td>\n",
       "      <td>['G7W']</td>\n",
       "      <td>LTE</td>\n",
       "      <td>45.0</td>\n",
       "      <td>4781.0</td>\n",
       "      <td>-5275</td>\n",
       "    </tr>\n",
       "    <tr>\n",
       "      <th>383574</th>\n",
       "      <td>692663517</td>\n",
       "      <td>PR</td>\n",
       "      <td>4115200</td>\n",
       "      <td>2655.0</td>\n",
       "      <td>2535.0</td>\n",
       "      <td>FB</td>\n",
       "      <td>None</td>\n",
       "      <td>None</td>\n",
       "      <td>760</td>\n",
       "      <td>16.15</td>\n",
       "      <td>...</td>\n",
       "      <td>5.669190e+10</td>\n",
       "      <td>40.0</td>\n",
       "      <td>G</td>\n",
       "      <td>2038-04-30</td>\n",
       "      <td>{'10M0'}</td>\n",
       "      <td>['G7W']</td>\n",
       "      <td>LTE</td>\n",
       "      <td>45.0</td>\n",
       "      <td>4781.0</td>\n",
       "      <td>-5275</td>\n",
       "    </tr>\n",
       "    <tr>\n",
       "      <th>383575</th>\n",
       "      <td>692663517</td>\n",
       "      <td>PR</td>\n",
       "      <td>4115200</td>\n",
       "      <td>2655.0</td>\n",
       "      <td>2535.0</td>\n",
       "      <td>FB</td>\n",
       "      <td>None</td>\n",
       "      <td>None</td>\n",
       "      <td>760</td>\n",
       "      <td>16.15</td>\n",
       "      <td>...</td>\n",
       "      <td>5.669190e+10</td>\n",
       "      <td>40.0</td>\n",
       "      <td>G</td>\n",
       "      <td>2038-04-30</td>\n",
       "      <td>{'10M0'}</td>\n",
       "      <td>['G7W']</td>\n",
       "      <td>LTE</td>\n",
       "      <td>45.0</td>\n",
       "      <td>4781.0</td>\n",
       "      <td>-5275</td>\n",
       "    </tr>\n",
       "  </tbody>\n",
       "</table>\n",
       "<p>383576 rows × 25 columns</p>\n",
       "</div>"
      ],
      "text/plain": [
       "        NumEstacao SiglaUf  CodMunicipio  FreqTxMHz  FreqRxMHz  \\\n",
       "0           211222      PR       4115200     2150.0     1960.0   \n",
       "1           211222      PR       4115200     1825.0     1730.0   \n",
       "2           211222      PR       4115200     1825.0     1730.0   \n",
       "3           211222      PR       4115200     1825.0     1730.0   \n",
       "4           211222      PR       4115200     1832.5     1737.5   \n",
       "...            ...     ...           ...        ...        ...   \n",
       "383571  1001101992      PR       4115200     2655.0     2535.0   \n",
       "383572  1001101992      PR       4115200     2655.0     2535.0   \n",
       "383573   692663517      PR       4115200     2655.0     2535.0   \n",
       "383574   692663517      PR       4115200     2655.0     2535.0   \n",
       "383575   692663517      PR       4115200     2655.0     2535.0   \n",
       "\n",
       "       CodTipoClasseEstacao ClassInfraFisica CompartilhamentoInfraFisica  \\\n",
       "0                        FB             None                          NA   \n",
       "1                        FB             None                          NA   \n",
       "2                        FB             None                          NA   \n",
       "3                        FB             None                          NA   \n",
       "4                        FB             None                          NA   \n",
       "...                     ...              ...                         ...   \n",
       "383571                   FB             None                        None   \n",
       "383572                   FB             None                        None   \n",
       "383573                   FB             None                        None   \n",
       "383574                   FB             None                        None   \n",
       "383575                   FB             None                        None   \n",
       "\n",
       "        CodTipoAntena GanhoAntena  ...  CodEquipamentoTransmissor  \\\n",
       "0                 760       15.86  ...               2.246100e+10   \n",
       "1                 760       15.86  ...               8.307180e+10   \n",
       "2                 760       15.86  ...               8.307180e+10   \n",
       "3                 760       15.86  ...               8.307180e+10   \n",
       "4                 760       15.86  ...               8.307180e+10   \n",
       "...               ...         ...  ...                        ...   \n",
       "383571            760       16.15  ...               5.669190e+10   \n",
       "383572            760       16.15  ...               5.669190e+10   \n",
       "383573            760       16.15  ...               5.669190e+10   \n",
       "383574            760       16.15  ...               5.669190e+10   \n",
       "383575            760       16.15  ...               5.669190e+10   \n",
       "\n",
       "        PotenciaTransmissorWatts  CodDebitoTFI DataValidade  \\\n",
       "0                           40.0             G   2029-12-08   \n",
       "1                           20.0             G   2029-12-08   \n",
       "2                           20.0             G   2029-12-08   \n",
       "3                           20.0             G   2029-12-08   \n",
       "4                           20.0             G   2029-12-08   \n",
       "...                          ...           ...          ...   \n",
       "383571                      40.0             G   2038-04-30   \n",
       "383572                      40.0             G   2038-04-30   \n",
       "383573                      40.0             G   2038-04-30   \n",
       "383574                      40.0             G   2038-04-30   \n",
       "383575                      40.0             G   2038-04-30   \n",
       "\n",
       "        LarguraFaixaNecessaria  CaracteristicasBasicas  Tecnologia_e_Tipo  \\\n",
       "0                     {'5M00'}                 ['G9W']              WCDMA   \n",
       "1                     {'200K'}                 ['G7W']                GSM   \n",
       "2                     {'200K'}                 ['G7W']                GSM   \n",
       "3                     {'200K'}                 ['G7W']                GSM   \n",
       "4                     {'200K'}                 ['G7W']                GSM   \n",
       "...                        ...                     ...                ...   \n",
       "383571                {'10M0'}                 ['G7W']                LTE   \n",
       "383572                {'10M0'}                 ['G7W']                LTE   \n",
       "383573                {'10M0'}                 ['G7W']                LTE   \n",
       "383574                {'10M0'}                 ['G7W']                LTE   \n",
       "383575                {'10M0'}                 ['G7W']                LTE   \n",
       "\n",
       "       DiasDesdeLicenciamento DiasDesdePrimeiroLicenciamento DiasAteExpirar  \n",
       "0                       133.0                         7217.0          -2210  \n",
       "1                       133.0                         7217.0          -2210  \n",
       "2                       133.0                         7217.0          -2210  \n",
       "3                       133.0                         7217.0          -2210  \n",
       "4                       133.0                         7217.0          -2210  \n",
       "...                       ...                            ...            ...  \n",
       "383571                   45.0                         3191.0          -5275  \n",
       "383572                   45.0                         3191.0          -5275  \n",
       "383573                   45.0                         4781.0          -5275  \n",
       "383574                   45.0                         4781.0          -5275  \n",
       "383575                   45.0                         4781.0          -5275  \n",
       "\n",
       "[383576 rows x 25 columns]"
      ]
     },
     "execution_count": 29,
     "metadata": {},
     "output_type": "execute_result"
    }
   ],
   "source": [
    "df = get_cleaned_df('PR')\n",
    "df"
   ]
  }
 ],
 "metadata": {
  "kernelspec": {
   "display_name": "Python 3",
   "language": "python",
   "name": "python3"
  },
  "language_info": {
   "codemirror_mode": {
    "name": "ipython",
    "version": 3
   },
   "file_extension": ".py",
   "mimetype": "text/x-python",
   "name": "python",
   "nbconvert_exporter": "python",
   "pygments_lexer": "ipython3",
   "version": "3.12.0"
  }
 },
 "nbformat": 4,
 "nbformat_minor": 2
}
