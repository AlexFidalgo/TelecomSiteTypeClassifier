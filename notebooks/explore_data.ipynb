{
 "cells": [
  {
   "cell_type": "markdown",
   "metadata": {},
   "source": [
    "## Importing modules and reading csv file"
   ]
  },
  {
   "cell_type": "code",
   "execution_count": 1,
   "metadata": {},
   "outputs": [],
   "source": [
    "import os\n",
    "import polars as pl\n",
    "from utils import *\n",
    "import pandas as pd"
   ]
  },
  {
   "cell_type": "markdown",
   "metadata": {},
   "source": [
    "Let's read the data corresponding to a single state ('AC' in this case) to explore it."
   ]
  },
  {
   "cell_type": "code",
   "execution_count": 2,
   "metadata": {},
   "outputs": [],
   "source": [
    "csv_files_dir = '../data/csv_files'\n",
    "file = 'RS.csv'\n",
    "file_path = os.path.join(csv_files_dir, file)\n",
    "df = read_csv_pl(file_path, separator = ',')\n",
    "pdf = df.to_pandas()"
   ]
  },
  {
   "cell_type": "markdown",
   "metadata": {},
   "source": [
    "Let's check the different types of 'ClassInfraFisica' present."
   ]
  },
  {
   "cell_type": "code",
   "execution_count": null,
   "metadata": {},
   "outputs": [],
   "source": [
    "df.group_by('ClassInfraFisica').count()"
   ]
  },
  {
   "cell_type": "markdown",
   "metadata": {},
   "source": [
    "Let's fix the typo:"
   ]
  },
  {
   "cell_type": "code",
   "execution_count": null,
   "metadata": {},
   "outputs": [],
   "source": [
    "df = strip_column_pl(df, 'ClassInfraFisica')"
   ]
  },
  {
   "cell_type": "code",
   "execution_count": null,
   "metadata": {},
   "outputs": [],
   "source": [
    "df.group_by('ClassInfraFisica').agg(pl.col('ClassInfraFisica').count().alias('Count'))"
   ]
  },
  {
   "cell_type": "code",
   "execution_count": null,
   "metadata": {},
   "outputs": [],
   "source": [
    "df = replace_values_pl(df, 'ClassInfraFisica', 'Greenfild', 'Greenfield')"
   ]
  },
  {
   "cell_type": "markdown",
   "metadata": {},
   "source": [
    "## Investigating the relationship between ClassInfraFisica and NumEstacao"
   ]
  },
  {
   "cell_type": "markdown",
   "metadata": {},
   "source": [
    "Now, we have to check whether each station (indicated by the column 'NumEstacao') corresponds to a single type of 'ClassInfraFisica'; which is the expected behavior (assumption)."
   ]
  },
  {
   "cell_type": "code",
   "execution_count": null,
   "metadata": {},
   "outputs": [],
   "source": [
    "count_unique_values = df.group_by('NumEstacao').agg(pl.col('ClassInfraFisica').n_unique().alias('unique_count'))\n",
    "instances_with_different_values = count_unique_values.filter(count_unique_values['unique_count'] > 1)\n",
    "print(instances_with_different_values)"
   ]
  },
  {
   "cell_type": "markdown",
   "metadata": {},
   "source": [
    "We found that we can actually get two different 'ClassInfraFisica' for any individual station. But if we check further, we'll see that it's actually pairing types with 'null' values, which does not compromise the assumption."
   ]
  },
  {
   "cell_type": "code",
   "execution_count": null,
   "metadata": {},
   "outputs": [],
   "source": [
    "df.filter(df['NumEstacao'] == 1007447238)[['NumEstacao', 'ClassInfraFisica']]"
   ]
  },
  {
   "cell_type": "markdown",
   "metadata": {},
   "source": [
    "Let's group by 'NumEstacao', but keeping all the info present in the rows as sets (or as a single value if all rows match)"
   ]
  },
  {
   "cell_type": "code",
   "execution_count": null,
   "metadata": {},
   "outputs": [],
   "source": [
    "def set_aggregation(x):\n",
    "\n",
    "    if len(set(x)) == 1:\n",
    "        return x.iloc[0]  \n",
    "    else:\n",
    "        return set(x)  \n",
    "\n",
    "dfg = dfp.groupby('NumEstacao').agg(lambda x: set_aggregation(x))\n",
    "dfg.head(4)"
   ]
  },
  {
   "cell_type": "code",
   "execution_count": null,
   "metadata": {},
   "outputs": [],
   "source": [
    "print(f\"Percentage of initial rows kept when grouping = {len(dfg)*100/len(df):.2f}%\")"
   ]
  },
  {
   "cell_type": "markdown",
   "metadata": {},
   "source": [
    "Now we have a dataframe with all the original information, but only 16% of the rows; in which each represents a single station"
   ]
  },
  {
   "cell_type": "markdown",
   "metadata": {},
   "source": [
    "## Understanding the Columns"
   ]
  },
  {
   "cell_type": "markdown",
   "metadata": {},
   "source": [
    "Let's understand what the columns are about. This will futurely enable us to better make sense of them, process them if necessary, or drop irrelevant ones."
   ]
  },
  {
   "cell_type": "markdown",
   "metadata": {},
   "source": [
    "From [Página de Emissões - Anatel](https://sistemas.anatel.gov.br/anexar-api/publico/anexos/download/9cfc11fc83fcfc2d2586cdb887f72cb5), we can understand what each column refers to.\n",
    "\n",
    "Status.state: Situação da solicitação na Anatel.\n",
    "\n",
    "NumFistel: É um código numérico definido pela Anatel, composto de onze dígitos que identifica a autorização que a empresa possui para determinado serviço em determinada região.\n",
    "\n",
    "NumServico: Código do serviço de telecomunicações na Anatel.\n",
    "\n",
    "NumAto: Número do Ato de Autorização de Uso de Radiofrequência, sendo que os quatro últimos dígitos se referem ao ano da assinatura do respectivo ato. Exemplo XYZW2017, ato XYZW de 2017.\n",
    "\n",
    "EnderecoEstacao: Endereço completo onde a estação está instalada.\n",
    "\n",
    "EndComplemento: Complemento do endereço, caso haja.\n",
    "\n",
    "DesignacaoEmissao: Baseado em [Método de Designação - Anatel](https://www.anatel.gov.br/Portal/verificaDocumentos/documento.asp?numeroPublicacao=60403&assuntoPublicacao=null&caminhoRel=null&filtro=1&documentoPath=outros/autocadastramento/metodo_de_designacao.pdf)\n",
    "\n",
    "Designação de emissão. Para uma completa designação da emissão, necessitamos sempre de 9 caracteres alfanuméricos. Os quatros primeiros representam a _largura de faixa necessária_; os três seguintes as _características básicas_ e os dois últimos as _características adicionais facultativas_.\n",
    "- Largura de faixa necessária: Para uma dada classe de emissão, o valor mínimo da largura de faixa ocupada pela emissão, suficiente para garantir a transmissão da informação com a velocidade de transmissão e com a qualidade requerida para o sistema empregado, nas condições especificadas. A largura de faixa necessária será sempre expressa por meio de três algarismos, que indicam os três primeiros algarismos significativos de largura de faixa necessária e uma letra que ocupa a posição da virgula decimal e representa a Unidade de largura de faixa e será H para Hertz, K para Kilohertz, M para Megahertz ou G para Gigahertz.\n",
    "- Características básicas: descritas por três símbolos:\n",
    "    - Primeiro símbolo: tipo de modulação da portaria principal.\n",
    "    - Segundo símbolo: natureza do(s) sinais que modulam a portaria principal.\n",
    "    - Terceiro símbolo: tipo de informação a ser transmitida.\n",
    "- Características adicionais facultativas: Para descrição mais completa de uma emissão, são previstas duas características facultativas, as quais são expressas pelos quarto e quinto símbolos. Quando não se utiliza o quarto ou o quinto símbolo, convém indicar isso mediante um traço no lugar em que cada símbolo apareceria.\n",
    "\n",
    "meioAcesso: é um campo de ‘estações dispensadas de licenciamento’. As opções são: fibra, par metálico, cabo coaxial e radiação restrita.\n",
    "\n",
    "Azimute: posicionamento m graus em relação ao Norte do lóbulo principal de radiação da antena. Quando for utilizada antena omnidirecional será 0.\n",
    "\n",
    "CodTipoClasseEstacao: Classe da Estação conforme lista permitida no sistema de canalização do Mosaico, conforme o Regulamento da faixa de frequência utilizada conforme Manual de Projetos Técnicos do SITAR, disponível em [Manual de Projeto - Anatel](https://www.anatel.gov.br/Portal/verificaDocumentos/documento.asp?numeroPublicacao=60402&assuntoPublicacao=MANUAL%20DE%20PROJETOS%20T%C9CNICOS%20(SITAR)&caminhoRel=CidadaoComunica%E7%E3o%20via%20R%E1dioServi%E7o%20Limitado&filtro=1&documentoPath=outros/). Exemplos:\n",
    "- ML: Estação móvel terrestre\n",
    "- FX: Estação fixa\n",
    "- FB: Estação de base\n",
    "- XR: Estação fixa repetidora\n",
    "- FA: Estação aeronáutica\n",
    "- RC: Radiofarol não direcional\n",
    "\n",
    "ClassInfraFisica: Classificação de Infraestrutura Física. Apenas para estações dos serviços de interesse coletivo (STFC, SCM e SMP). Para serviços de interesse restrito (SLP), estará em branco. Valores válidos: Greenfield, Streetlevel, Ran Sharing, Small Cell, COW, Picocelula, Harmonizada, Rooftop, Indoor, Outdoor\n",
    "\n",
    "CompartilhamentoInfraFisica: Compartilhamento de Infraestrutura Física. Apenas para estações dos serviços de interesse coletivo (não se aplica para SLP).\n",
    "\n",
    "CodTipoAntena: Tipo Antena: campo obrigatório, onde é inserido o código conforme item 2.3.4 do [Manual de Projeto - Anatel](https://www.anatel.gov.br/Portal/verificaDocumentos/documento.asp?numeroPublicacao=60402&assuntoPublicacao=MANUAL%20DE%20PROJETOS%20T%C9CNICOS%20(SITAR)&caminhoRel=CidadaoComunica%E7%E3o%20via%20R%E1dioServi%E7o%20Limitado&filtro=1&documentoPath=outros/). Exemplos:\n",
    "- 019: Monopolo vertical\n",
    "- 060: V invertido\n",
    "- 213: Cabo fendido\n",
    "\n",
    "GanhoAntena: Ganho da Antena em dB. Se a frequência for superior a 28.000 kHz, é informado o ganho da antena em relação a uma antena isotrópica (dbi); se inferior, este é dado em relação a uma antena dipolo (dBd).\n",
    "\n",
    "FrenteCostaAntena: Relação Frente/Costa em dBi (campo obrigatório). Deve ser menor que 90 dbi. Será 0 (zero) quando for utilizada antena omnidirecional.\n",
    "\n",
    "AnguloMeiaPotenciaAntena: Ângulo de meia potência em graus decimais (campo obrigatório). Pontos no diagrama onde a potência radiada equivale à metade da radiada na direção principal.\n",
    "\n",
    "AnguloElevacao: : Ângulo de elevação mecânico em graus decimais. O valor deve estar entre 0 e 90 e ser medido com relação à linha de horizonte, sendo negativo quando a linha de visada estiver abaixo desta referência.\n",
    "\n",
    "Polarizacao:  a orientação do campo elétrico da onda de rádio com respeito a terra ou direção de propagação; e é determinado pela estrutura física da antena e por sua orientação. Valores aceitos: H (horizontal), V (vertical), CR (circular á direita), CL (circular à esquerda) e X (horizontal e vertical simultâneas ou não).\n",
    "\n",
    "AlturaAntena: Altura da antena (em relação a cota do terreno). Deve ser menor que 200 m.\n",
    "\n",
    "PotenciaTransmissorWatts: Potência nominal (saída do transmissor) em watts.\n",
    "\n",
    "CodDebitoTFI: Código da Taxa de Fiscalização de Instalação (TFI) conforme lei nº 5.070, de 7 de julho de 1966.\n",
    "Taxa de fiscalização da instalação é aquela devida pelas concessionárias e permissionárias de serviços de telecomunicações, no momento em que lhes é outorgada autorização para a execução do serviço e tem a finalidade de ressarcir as despesas realizadas pelo Poder Público até o licenciamento das respectivas estações. Não serão licenciadas as estações das permissionárias e concessionárias de serviços de telecomunicações que não efetuarem o pagamento da taxa de fiscalização da instalação.\n",
    "[Lei do Fistel](https://www2.camara.leg.br/legin/fed/lei/1960-1969/lei-5070-7-julho-1966-364619-anexo-pl.pdf)\n",
    "\n",
    "DataLicenciamento:  Data do último licenciamento da estação. Formato: AAAA/MM/DD\n",
    "\n",
    "DataPrimeiroLicenciamento: Data do primeiro licenciamento da estação. Formato: AAAA/MM/DD\n",
    "\n",
    "NumRede: Valor numérico, definido pelo usuário, para identificar grupo de estações que se comunicam. Visa facilitar a análise da comunicação das redes.\n",
    "\n",
    "_id:  Identificação da emissão / frequência da estação\n",
    "\n",
    "DataValidade: Validade da RF associada àquela estação.\n",
    "\n",
    "NumFistelAssociado: Campo preenchido quando a emissão for de outro Fistel (do mesmo CNPJ ou diferentes): licenciamento conjunto. Nesse caso, é informado o número do Fistel responsável pelo Ato de RF da emissão dessa linha\n",
    "\n"
   ]
  },
  {
   "cell_type": "markdown",
   "metadata": {},
   "source": [
    "meioAcesso consists of all None values"
   ]
  },
  {
   "cell_type": "code",
   "execution_count": null,
   "metadata": {},
   "outputs": [],
   "source": [
    "pdf['meioAcesso'].value_counts(dropna=False)"
   ]
  },
  {
   "cell_type": "code",
   "execution_count": null,
   "metadata": {},
   "outputs": [],
   "source": [
    "# CodEquipamentoTransmissor\n",
    "print(f\"number of rows: {len(pdf['CodEquipamentoTransmissor'])}\")\n",
    "print(f\"number of unique rows: {pdf['CodEquipamentoTransmissor'].nunique()}\")"
   ]
  },
  {
   "cell_type": "code",
   "execution_count": null,
   "metadata": {},
   "outputs": [],
   "source": [
    "# CodDebitoTFI\n",
    "pdf['CodDebitoTFI'].value_counts()"
   ]
  },
  {
   "cell_type": "code",
   "execution_count": null,
   "metadata": {},
   "outputs": [],
   "source": [
    "# _id\n",
    "pdf['_id'].value_counts()"
   ]
  },
  {
   "cell_type": "code",
   "execution_count": null,
   "metadata": {},
   "outputs": [],
   "source": [
    "# DataValidade\n",
    "pdf['DataValidade'].value_counts()"
   ]
  },
  {
   "cell_type": "code",
   "execution_count": null,
   "metadata": {},
   "outputs": [],
   "source": [
    "pdf['NumFistelAssociado'].value_counts()"
   ]
  },
  {
   "cell_type": "code",
   "execution_count": null,
   "metadata": {},
   "outputs": [],
   "source": [
    "pdf['NomeEntidadeAssociado'].value_counts()"
   ]
  },
  {
   "cell_type": "markdown",
   "metadata": {},
   "source": [
    "## Filtering out irrelevant columns"
   ]
  },
  {
   "cell_type": "code",
   "execution_count": 5,
   "metadata": {},
   "outputs": [
    {
     "data": {
      "text/html": [
       "<div>\n",
       "<style scoped>\n",
       "    .dataframe tbody tr th:only-of-type {\n",
       "        vertical-align: middle;\n",
       "    }\n",
       "\n",
       "    .dataframe tbody tr th {\n",
       "        vertical-align: top;\n",
       "    }\n",
       "\n",
       "    .dataframe thead th {\n",
       "        text-align: right;\n",
       "    }\n",
       "</style>\n",
       "<table border=\"1\" class=\"dataframe\">\n",
       "  <thead>\n",
       "    <tr style=\"text-align: right;\">\n",
       "      <th></th>\n",
       "      <th>NomeEntidade</th>\n",
       "      <th>SiglaUf</th>\n",
       "      <th>CodMunicipio</th>\n",
       "      <th>DesignacaoEmissao</th>\n",
       "      <th>Tecnologia</th>\n",
       "      <th>tipoTecnologia</th>\n",
       "      <th>FreqTxMHz</th>\n",
       "      <th>FreqRxMHz</th>\n",
       "      <th>CodTipoClasseEstacao</th>\n",
       "      <th>ClassInfraFisica</th>\n",
       "      <th>...</th>\n",
       "      <th>AnguloElevacao</th>\n",
       "      <th>Polarizacao</th>\n",
       "      <th>AlturaAntena</th>\n",
       "      <th>CodEquipamentoTransmissor</th>\n",
       "      <th>PotenciaTransmissorWatts</th>\n",
       "      <th>CodDebitoTFI</th>\n",
       "      <th>DataLicenciamento</th>\n",
       "      <th>DataPrimeiroLicenciamento</th>\n",
       "      <th>DataValidade</th>\n",
       "      <th>NumFistelAssociado</th>\n",
       "    </tr>\n",
       "  </thead>\n",
       "  <tbody>\n",
       "    <tr>\n",
       "      <th>0</th>\n",
       "      <td>TELEFONICA BRASIL S.A.</td>\n",
       "      <td>RS</td>\n",
       "      <td>4322509</td>\n",
       "      <td>5M00D7W</td>\n",
       "      <td>WCDMA</td>\n",
       "      <td>None</td>\n",
       "      <td>2160.0</td>\n",
       "      <td>1970.0</td>\n",
       "      <td>FB</td>\n",
       "      <td>Greenfield</td>\n",
       "      <td>...</td>\n",
       "      <td>15.6</td>\n",
       "      <td>X</td>\n",
       "      <td>55.0</td>\n",
       "      <td>1.391130e+10</td>\n",
       "      <td>85.7</td>\n",
       "      <td>G</td>\n",
       "      <td>2023-09-16</td>\n",
       "      <td>2000-09-27</td>\n",
       "      <td>2038-04-30</td>\n",
       "      <td>None</td>\n",
       "    </tr>\n",
       "    <tr>\n",
       "      <th>1</th>\n",
       "      <td>TELEFONICA BRASIL S.A.</td>\n",
       "      <td>RS</td>\n",
       "      <td>4322509</td>\n",
       "      <td>5M00D7W</td>\n",
       "      <td>WCDMA</td>\n",
       "      <td>None</td>\n",
       "      <td>2160.0</td>\n",
       "      <td>1970.0</td>\n",
       "      <td>FB</td>\n",
       "      <td>Greenfield</td>\n",
       "      <td>...</td>\n",
       "      <td>15.6</td>\n",
       "      <td>X</td>\n",
       "      <td>55.0</td>\n",
       "      <td>1.391130e+10</td>\n",
       "      <td>85.7</td>\n",
       "      <td>G</td>\n",
       "      <td>2023-09-16</td>\n",
       "      <td>2000-09-27</td>\n",
       "      <td>2038-04-30</td>\n",
       "      <td>None</td>\n",
       "    </tr>\n",
       "    <tr>\n",
       "      <th>2</th>\n",
       "      <td>TELEFONICA BRASIL S.A.</td>\n",
       "      <td>RS</td>\n",
       "      <td>4322509</td>\n",
       "      <td>5M00G9W</td>\n",
       "      <td>WCDMA</td>\n",
       "      <td>None</td>\n",
       "      <td>2167.5</td>\n",
       "      <td>1977.5</td>\n",
       "      <td>FB</td>\n",
       "      <td>Greenfield</td>\n",
       "      <td>...</td>\n",
       "      <td>15.6</td>\n",
       "      <td>X</td>\n",
       "      <td>55.0</td>\n",
       "      <td>2.245100e+10</td>\n",
       "      <td>78.0</td>\n",
       "      <td>G</td>\n",
       "      <td>2023-09-16</td>\n",
       "      <td>2000-09-27</td>\n",
       "      <td>2038-04-30</td>\n",
       "      <td>None</td>\n",
       "    </tr>\n",
       "    <tr>\n",
       "      <th>3</th>\n",
       "      <td>TELEFONICA BRASIL S.A.</td>\n",
       "      <td>RS</td>\n",
       "      <td>4322509</td>\n",
       "      <td>200KG7W</td>\n",
       "      <td>GSM</td>\n",
       "      <td>None</td>\n",
       "      <td>874.5</td>\n",
       "      <td>829.5</td>\n",
       "      <td>FB</td>\n",
       "      <td>Greenfield</td>\n",
       "      <td>...</td>\n",
       "      <td>15.6</td>\n",
       "      <td>X</td>\n",
       "      <td>52.0</td>\n",
       "      <td>7.160803e+09</td>\n",
       "      <td>55.0</td>\n",
       "      <td>G</td>\n",
       "      <td>2023-09-16</td>\n",
       "      <td>2000-09-27</td>\n",
       "      <td>2038-04-30</td>\n",
       "      <td>None</td>\n",
       "    </tr>\n",
       "    <tr>\n",
       "      <th>4</th>\n",
       "      <td>TELEFONICA BRASIL S.A.</td>\n",
       "      <td>RS</td>\n",
       "      <td>4322509</td>\n",
       "      <td>200KG7W</td>\n",
       "      <td>GSM</td>\n",
       "      <td>None</td>\n",
       "      <td>874.5</td>\n",
       "      <td>829.5</td>\n",
       "      <td>FB</td>\n",
       "      <td>Greenfield</td>\n",
       "      <td>...</td>\n",
       "      <td>15.6</td>\n",
       "      <td>X</td>\n",
       "      <td>52.0</td>\n",
       "      <td>1.703060e+10</td>\n",
       "      <td>64.5</td>\n",
       "      <td>G</td>\n",
       "      <td>2023-09-16</td>\n",
       "      <td>2000-09-27</td>\n",
       "      <td>2038-04-30</td>\n",
       "      <td>None</td>\n",
       "    </tr>\n",
       "  </tbody>\n",
       "</table>\n",
       "<p>5 rows × 25 columns</p>\n",
       "</div>"
      ],
      "text/plain": [
       "             NomeEntidade SiglaUf  CodMunicipio DesignacaoEmissao Tecnologia  \\\n",
       "0  TELEFONICA BRASIL S.A.      RS       4322509           5M00D7W      WCDMA   \n",
       "1  TELEFONICA BRASIL S.A.      RS       4322509           5M00D7W      WCDMA   \n",
       "2  TELEFONICA BRASIL S.A.      RS       4322509           5M00G9W      WCDMA   \n",
       "3  TELEFONICA BRASIL S.A.      RS       4322509           200KG7W        GSM   \n",
       "4  TELEFONICA BRASIL S.A.      RS       4322509           200KG7W        GSM   \n",
       "\n",
       "  tipoTecnologia  FreqTxMHz  FreqRxMHz CodTipoClasseEstacao ClassInfraFisica  \\\n",
       "0           None     2160.0     1970.0                   FB       Greenfield   \n",
       "1           None     2160.0     1970.0                   FB       Greenfield   \n",
       "2           None     2167.5     1977.5                   FB       Greenfield   \n",
       "3           None      874.5      829.5                   FB       Greenfield   \n",
       "4           None      874.5      829.5                   FB       Greenfield   \n",
       "\n",
       "   ... AnguloElevacao  Polarizacao AlturaAntena  CodEquipamentoTransmissor  \\\n",
       "0  ...           15.6            X         55.0               1.391130e+10   \n",
       "1  ...           15.6            X         55.0               1.391130e+10   \n",
       "2  ...           15.6            X         55.0               2.245100e+10   \n",
       "3  ...           15.6            X         52.0               7.160803e+09   \n",
       "4  ...           15.6            X         52.0               1.703060e+10   \n",
       "\n",
       "   PotenciaTransmissorWatts  CodDebitoTFI DataLicenciamento  \\\n",
       "0                      85.7             G        2023-09-16   \n",
       "1                      85.7             G        2023-09-16   \n",
       "2                      78.0             G        2023-09-16   \n",
       "3                      55.0             G        2023-09-16   \n",
       "4                      64.5             G        2023-09-16   \n",
       "\n",
       "   DataPrimeiroLicenciamento  DataValidade  NumFistelAssociado  \n",
       "0                 2000-09-27    2038-04-30                None  \n",
       "1                 2000-09-27    2038-04-30                None  \n",
       "2                 2000-09-27    2038-04-30                None  \n",
       "3                 2000-09-27    2038-04-30                None  \n",
       "4                 2000-09-27    2038-04-30                None  \n",
       "\n",
       "[5 rows x 25 columns]"
      ]
     },
     "execution_count": 5,
     "metadata": {},
     "output_type": "execute_result"
    }
   ],
   "source": [
    "pdf = filter_columns(pdf)\n",
    "\n",
    "pdf.head()"
   ]
  },
  {
   "cell_type": "markdown",
   "metadata": {},
   "source": [
    "## Column Treatment"
   ]
  },
  {
   "cell_type": "markdown",
   "metadata": {},
   "source": [
    "Now we will correctly treat each column in order to have relevant information and prepare it for training."
   ]
  },
  {
   "cell_type": "markdown",
   "metadata": {},
   "source": [
    "### NomeEntidade"
   ]
  },
  {
   "cell_type": "code",
   "execution_count": 6,
   "metadata": {},
   "outputs": [
    {
     "data": {
      "text/plain": [
       "NomeEntidade\n",
       "TELEFONICA BRASIL S.A.                                             46111\n",
       "CLARO S.A.                                                         39651\n",
       "TIM S A                                                            30199\n",
       "COMPANHIA ESTADUAL DE DISTRIBUICAO DE ENERGIA ELETRICA - CEEE-D     9878\n",
       "TECON RIO GRANDE S/A                                                8588\n",
       "                                                                   ...  \n",
       "AGROFUTURA COMERCIO E REPRESENTACOES DE INSUMOS AGRICOLAS LTDA.        1\n",
       "INFORMATICA ITAPIRANGA LTDA                                            1\n",
       "CENTRONET INTERNET LTDA                                                1\n",
       "AEROCLUBE DE ELDORADO DO SUL                                           1\n",
       "DELGADO & SCHNEIDER LTDA - ME                                          1\n",
       "Name: count, Length: 502, dtype: int64"
      ]
     },
     "execution_count": 6,
     "metadata": {},
     "output_type": "execute_result"
    }
   ],
   "source": [
    "pdf['NomeEntidade'].value_counts(sort = True)"
   ]
  },
  {
   "cell_type": "code",
   "execution_count": 8,
   "metadata": {},
   "outputs": [
    {
     "data": {
      "text/plain": [
       "NomeEntidade\n",
       "TIM S A                                                                                                                     30199\n",
       "TIM S/A                                                                                                                      5172\n",
       "TIM S A                                                                                                                      4155\n",
       "VOTORANTIM CIMENTOS S.A.                                                                                                      401\n",
       "TERMINAL MARITIMO LUIZ FOGLIATTO SA                                                                                           224\n",
       "TIM S/A                                                                                                                       187\n",
       "SALETE TELO TIMM                                                                                                                9\n",
       "FLYBYTE COMUNICACAO MULTIMIDIA LTDA.                                                                                            6\n",
       "CAMAQUANET SERVICO DE COMUNICACAO MULTIMIDIA EIRELI                                                                             1\n",
       "NUNES & GUATIMUZIM LTDA                                                                                                         1\n",
       "Name: count, dtype: int64"
      ]
     },
     "execution_count": 8,
     "metadata": {},
     "output_type": "execute_result"
    }
   ],
   "source": [
    "pdf[pdf['NomeEntidade'].astype(str).str.lower().str.contains('tim')]['NomeEntidade'].value_counts(sort = True)"
   ]
  }
 ],
 "metadata": {
  "kernelspec": {
   "display_name": "Python 3",
   "language": "python",
   "name": "python3"
  },
  "language_info": {
   "codemirror_mode": {
    "name": "ipython",
    "version": 3
   },
   "file_extension": ".py",
   "mimetype": "text/x-python",
   "name": "python",
   "nbconvert_exporter": "python",
   "pygments_lexer": "ipython3",
   "version": "3.12.0"
  }
 },
 "nbformat": 4,
 "nbformat_minor": 2
}
