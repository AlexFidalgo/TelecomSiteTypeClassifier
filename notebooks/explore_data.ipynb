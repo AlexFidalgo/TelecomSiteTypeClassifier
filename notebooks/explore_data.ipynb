{
 "cells": [
  {
   "cell_type": "markdown",
   "metadata": {},
   "source": [
    "## Exploring the Data"
   ]
  },
  {
   "cell_type": "code",
   "execution_count": 1,
   "metadata": {},
   "outputs": [],
   "source": [
    "import os\n",
    "import polars as pl\n",
    "from transform_data import *"
   ]
  },
  {
   "cell_type": "markdown",
   "metadata": {},
   "source": [
    "Let's read the data corresponding to a single state ('AC' in this case) to explore it."
   ]
  },
  {
   "cell_type": "code",
   "execution_count": 2,
   "metadata": {},
   "outputs": [],
   "source": [
    "csv_files_dir = '../data/csv_files'\n",
    "file = 'AC.csv'\n",
    "file_path = os.path.join(csv_files_dir, file)\n",
    "df = read_csv(file_path, separator = ',')"
   ]
  },
  {
   "cell_type": "markdown",
   "metadata": {},
   "source": [
    "Let's check the different types of 'ClassInfraFisica' present."
   ]
  },
  {
   "cell_type": "code",
   "execution_count": 3,
   "metadata": {},
   "outputs": [
    {
     "data": {
      "text/html": [
       "<div><style>\n",
       ".dataframe > thead > tr > th,\n",
       ".dataframe > tbody > tr > td {\n",
       "  text-align: right;\n",
       "  white-space: pre-wrap;\n",
       "}\n",
       "</style>\n",
       "<small>shape: (7, 2)</small><table border=\"1\" class=\"dataframe\"><thead><tr><th>ClassInfraFisica</th><th>count</th></tr><tr><td>str</td><td>u32</td></tr></thead><tbody><tr><td>&quot;Rooftop&quot;</td><td>129</td></tr><tr><td>&quot;Ran Sharing&quot;</td><td>39</td></tr><tr><td>&quot;Greenfield&quot;</td><td>2532</td></tr><tr><td>null</td><td>6108</td></tr><tr><td>&quot;Indoor&quot;</td><td>7</td></tr><tr><td>&quot;Streetlevel &quot;</td><td>9</td></tr><tr><td>&quot;Streetlevel&quot;</td><td>15</td></tr></tbody></table></div>"
      ],
      "text/plain": [
       "shape: (7, 2)\n",
       "┌──────────────────┬───────┐\n",
       "│ ClassInfraFisica ┆ count │\n",
       "│ ---              ┆ ---   │\n",
       "│ str              ┆ u32   │\n",
       "╞══════════════════╪═══════╡\n",
       "│ Rooftop          ┆ 129   │\n",
       "│ Ran Sharing      ┆ 39    │\n",
       "│ Greenfield       ┆ 2532  │\n",
       "│ null             ┆ 6108  │\n",
       "│ Indoor           ┆ 7     │\n",
       "│ Streetlevel      ┆ 9     │\n",
       "│ Streetlevel      ┆ 15    │\n",
       "└──────────────────┴───────┘"
      ]
     },
     "execution_count": 3,
     "metadata": {},
     "output_type": "execute_result"
    }
   ],
   "source": [
    "df.group_by('ClassInfraFisica').count()"
   ]
  },
  {
   "cell_type": "markdown",
   "metadata": {},
   "source": [
    "Let's fix the typo:"
   ]
  },
  {
   "cell_type": "code",
   "execution_count": 4,
   "metadata": {},
   "outputs": [],
   "source": [
    "df = replace_values(df, 'ClassInfraFisica', 'Streetlevel ', 'Streetlevel')"
   ]
  },
  {
   "cell_type": "code",
   "execution_count": 5,
   "metadata": {},
   "outputs": [
    {
     "data": {
      "text/html": [
       "<div><style>\n",
       ".dataframe > thead > tr > th,\n",
       ".dataframe > tbody > tr > td {\n",
       "  text-align: right;\n",
       "  white-space: pre-wrap;\n",
       "}\n",
       "</style>\n",
       "<small>shape: (6, 2)</small><table border=\"1\" class=\"dataframe\"><thead><tr><th>ClassInfraFisica</th><th>Count</th></tr><tr><td>str</td><td>u32</td></tr></thead><tbody><tr><td>&quot;Greenfield&quot;</td><td>2532</td></tr><tr><td>&quot;Ran Sharing&quot;</td><td>39</td></tr><tr><td>&quot;Indoor&quot;</td><td>7</td></tr><tr><td>&quot;Streetlevel&quot;</td><td>24</td></tr><tr><td>null</td><td>6108</td></tr><tr><td>&quot;Rooftop&quot;</td><td>129</td></tr></tbody></table></div>"
      ],
      "text/plain": [
       "shape: (6, 2)\n",
       "┌──────────────────┬───────┐\n",
       "│ ClassInfraFisica ┆ Count │\n",
       "│ ---              ┆ ---   │\n",
       "│ str              ┆ u32   │\n",
       "╞══════════════════╪═══════╡\n",
       "│ Greenfield       ┆ 2532  │\n",
       "│ Ran Sharing      ┆ 39    │\n",
       "│ Indoor           ┆ 7     │\n",
       "│ Streetlevel      ┆ 24    │\n",
       "│ null             ┆ 6108  │\n",
       "│ Rooftop          ┆ 129   │\n",
       "└──────────────────┴───────┘"
      ]
     },
     "execution_count": 5,
     "metadata": {},
     "output_type": "execute_result"
    }
   ],
   "source": [
    "df.group_by('ClassInfraFisica').agg(pl.col('ClassInfraFisica').count().alias('Count'))"
   ]
  },
  {
   "cell_type": "markdown",
   "metadata": {},
   "source": [
    "Now, we have to check whether each station (indicated by the column 'NumEstacao') corresponds to a single type of 'ClassInfraFisica'; which is the expected behavior (assumption)."
   ]
  },
  {
   "cell_type": "code",
   "execution_count": 6,
   "metadata": {},
   "outputs": [
    {
     "name": "stdout",
     "output_type": "stream",
     "text": [
      "shape: (162, 2)\n",
      "┌────────────┬──────────────┐\n",
      "│ NumEstacao ┆ unique_count │\n",
      "│ ---        ┆ ---          │\n",
      "│ i64        ┆ u32          │\n",
      "╞════════════╪══════════════╡\n",
      "│ 1006947148 ┆ 2            │\n",
      "│ 686898176  ┆ 2            │\n",
      "│ 1002285060 ┆ 2            │\n",
      "│ 691336580  ┆ 2            │\n",
      "│ …          ┆ …            │\n",
      "│ 1009442667 ┆ 2            │\n",
      "│ 684498219  ┆ 2            │\n",
      "│ 684782715  ┆ 2            │\n",
      "│ 1002900295 ┆ 2            │\n",
      "└────────────┴──────────────┘\n"
     ]
    }
   ],
   "source": [
    "count_unique_values = df.group_by('NumEstacao').agg(pl.col('ClassInfraFisica').n_unique().alias('unique_count'))\n",
    "instances_with_different_values = count_unique_values.filter(count_unique_values['unique_count'] > 1)\n",
    "print(instances_with_different_values)"
   ]
  },
  {
   "cell_type": "markdown",
   "metadata": {},
   "source": [
    "We found that we can actually get two different 'ClassInfraFisica' for any individual station. But if we check further, we'll see that it's actually pairing types with 'null' values, which does not compromise the assumption."
   ]
  },
  {
   "cell_type": "code",
   "execution_count": 7,
   "metadata": {},
   "outputs": [
    {
     "data": {
      "text/html": [
       "<div><style>\n",
       ".dataframe > thead > tr > th,\n",
       ".dataframe > tbody > tr > td {\n",
       "  text-align: right;\n",
       "  white-space: pre-wrap;\n",
       "}\n",
       "</style>\n",
       "<small>shape: (21, 2)</small><table border=\"1\" class=\"dataframe\"><thead><tr><th>NumEstacao</th><th>ClassInfraFisica</th></tr><tr><td>i64</td><td>str</td></tr></thead><tbody><tr><td>699785804</td><td>null</td></tr><tr><td>699785804</td><td>null</td></tr><tr><td>699785804</td><td>null</td></tr><tr><td>699785804</td><td>&quot;Greenfield&quot;</td></tr><tr><td>699785804</td><td>&quot;Greenfield&quot;</td></tr><tr><td>699785804</td><td>&quot;Greenfield&quot;</td></tr><tr><td>699785804</td><td>&quot;Greenfield&quot;</td></tr><tr><td>699785804</td><td>&quot;Greenfield&quot;</td></tr><tr><td>699785804</td><td>&quot;Greenfield&quot;</td></tr><tr><td>699785804</td><td>null</td></tr><tr><td>699785804</td><td>null</td></tr><tr><td>699785804</td><td>null</td></tr><tr><td>699785804</td><td>null</td></tr><tr><td>699785804</td><td>null</td></tr><tr><td>699785804</td><td>null</td></tr><tr><td>699785804</td><td>null</td></tr><tr><td>699785804</td><td>null</td></tr><tr><td>699785804</td><td>null</td></tr><tr><td>699785804</td><td>null</td></tr><tr><td>699785804</td><td>null</td></tr><tr><td>699785804</td><td>null</td></tr></tbody></table></div>"
      ],
      "text/plain": [
       "shape: (21, 2)\n",
       "┌────────────┬──────────────────┐\n",
       "│ NumEstacao ┆ ClassInfraFisica │\n",
       "│ ---        ┆ ---              │\n",
       "│ i64        ┆ str              │\n",
       "╞════════════╪══════════════════╡\n",
       "│ 699785804  ┆ null             │\n",
       "│ 699785804  ┆ null             │\n",
       "│ 699785804  ┆ null             │\n",
       "│ 699785804  ┆ Greenfield       │\n",
       "│ …          ┆ …                │\n",
       "│ 699785804  ┆ null             │\n",
       "│ 699785804  ┆ null             │\n",
       "│ 699785804  ┆ null             │\n",
       "│ 699785804  ┆ null             │\n",
       "└────────────┴──────────────────┘"
      ]
     },
     "execution_count": 7,
     "metadata": {},
     "output_type": "execute_result"
    }
   ],
   "source": [
    "df.filter(df['NumEstacao'] == 699785804)[['NumEstacao', 'ClassInfraFisica']]"
   ]
  },
  {
   "cell_type": "markdown",
   "metadata": {},
   "source": [
    "That's as far as I can go with polars. Let's move to pandas."
   ]
  },
  {
   "cell_type": "code",
   "execution_count": 8,
   "metadata": {},
   "outputs": [],
   "source": [
    "df = df.to_pandas()          "
   ]
  },
  {
   "cell_type": "markdown",
   "metadata": {},
   "source": [
    "Let's group by 'NumEstacao', but keeping all the info present in the rows as sets (or as a single value if all rows match)"
   ]
  },
  {
   "cell_type": "code",
   "execution_count": 16,
   "metadata": {},
   "outputs": [
    {
     "data": {
      "text/html": [
       "<div>\n",
       "<style scoped>\n",
       "    .dataframe tbody tr th:only-of-type {\n",
       "        vertical-align: middle;\n",
       "    }\n",
       "\n",
       "    .dataframe tbody tr th {\n",
       "        vertical-align: top;\n",
       "    }\n",
       "\n",
       "    .dataframe thead th {\n",
       "        text-align: right;\n",
       "    }\n",
       "</style>\n",
       "<table border=\"1\" class=\"dataframe\">\n",
       "  <thead>\n",
       "    <tr style=\"text-align: right;\">\n",
       "      <th></th>\n",
       "      <th>Status.state</th>\n",
       "      <th>NomeEntidade</th>\n",
       "      <th>NumFistel</th>\n",
       "      <th>NumServico</th>\n",
       "      <th>NumAto</th>\n",
       "      <th>EnderecoEstacao</th>\n",
       "      <th>EndComplemento</th>\n",
       "      <th>SiglaUf</th>\n",
       "      <th>CodMunicipio</th>\n",
       "      <th>DesignacaoEmissao</th>\n",
       "      <th>...</th>\n",
       "      <th>Latitude</th>\n",
       "      <th>Longitude</th>\n",
       "      <th>CodDebitoTFI</th>\n",
       "      <th>DataLicenciamento</th>\n",
       "      <th>DataPrimeiroLicenciamento</th>\n",
       "      <th>NumRede</th>\n",
       "      <th>_id</th>\n",
       "      <th>DataValidade</th>\n",
       "      <th>NumFistelAssociado</th>\n",
       "      <th>NomeEntidadeAssociado</th>\n",
       "    </tr>\n",
       "    <tr>\n",
       "      <th>NumEstacao</th>\n",
       "      <th></th>\n",
       "      <th></th>\n",
       "      <th></th>\n",
       "      <th></th>\n",
       "      <th></th>\n",
       "      <th></th>\n",
       "      <th></th>\n",
       "      <th></th>\n",
       "      <th></th>\n",
       "      <th></th>\n",
       "      <th></th>\n",
       "      <th></th>\n",
       "      <th></th>\n",
       "      <th></th>\n",
       "      <th></th>\n",
       "      <th></th>\n",
       "      <th></th>\n",
       "      <th></th>\n",
       "      <th></th>\n",
       "      <th></th>\n",
       "      <th></th>\n",
       "    </tr>\n",
       "  </thead>\n",
       "  <tbody>\n",
       "    <tr>\n",
       "      <th>19453</th>\n",
       "      <td>LIC-LIC-01</td>\n",
       "      <td>EMPRESA BRASILEIRA DE INFRA-ESTRUTURA AEROPORT...</td>\n",
       "      <td>11030016470</td>\n",
       "      <td>19</td>\n",
       "      <td>655742007.0</td>\n",
       "      <td>BR  364,  KM 18  -   COA s/n AEROPORTO  SBRB</td>\n",
       "      <td>None</td>\n",
       "      <td>AC</td>\n",
       "      <td>1200401</td>\n",
       "      <td>16K0F3E</td>\n",
       "      <td>...</td>\n",
       "      <td>-9.9925</td>\n",
       "      <td>-67.804167</td>\n",
       "      <td>A</td>\n",
       "      <td>2016-03-03</td>\n",
       "      <td>2001-10-09</td>\n",
       "      <td>705</td>\n",
       "      <td>{4d469248e6c2d201, 4d469248e6c2d1fe, 4d469248e...</td>\n",
       "      <td>2027-07-16</td>\n",
       "      <td>None</td>\n",
       "      <td>None</td>\n",
       "    </tr>\n",
       "    <tr>\n",
       "      <th>19461</th>\n",
       "      <td>LIC-LIC-01</td>\n",
       "      <td>EMPRESA BRASILEIRA DE INFRA-ESTRUTURA AEROPORT...</td>\n",
       "      <td>11030016470</td>\n",
       "      <td>19</td>\n",
       "      <td>18652020.0</td>\n",
       "      <td>BR 364,  KM 18  -  COE s/n AEROPORTO  SBRB</td>\n",
       "      <td>None</td>\n",
       "      <td>AC</td>\n",
       "      <td>1200401</td>\n",
       "      <td>16K0F3E</td>\n",
       "      <td>...</td>\n",
       "      <td>-9.992778</td>\n",
       "      <td>-67.804444</td>\n",
       "      <td>A</td>\n",
       "      <td>2016-03-03</td>\n",
       "      <td>2001-10-09</td>\n",
       "      <td>705</td>\n",
       "      <td>{4d469248e6c2d208, 4d469248e6c2d20c, 4d469248e...</td>\n",
       "      <td>2027-07-16</td>\n",
       "      <td>None</td>\n",
       "      <td>None</td>\n",
       "    </tr>\n",
       "    <tr>\n",
       "      <th>19470</th>\n",
       "      <td>LIC-LIC-01</td>\n",
       "      <td>EMPRESA BRASILEIRA DE INFRA-ESTRUTURA AEROPORT...</td>\n",
       "      <td>11030016470</td>\n",
       "      <td>19</td>\n",
       "      <td>18652020.0</td>\n",
       "      <td>BR  364,  KM 18  -  SCI s/n AEROPORTO  SBRB</td>\n",
       "      <td>None</td>\n",
       "      <td>AC</td>\n",
       "      <td>1200401</td>\n",
       "      <td>16K0F3E</td>\n",
       "      <td>...</td>\n",
       "      <td>-9.992778</td>\n",
       "      <td>-67.804722</td>\n",
       "      <td>A</td>\n",
       "      <td>2016-03-03</td>\n",
       "      <td>2001-10-09</td>\n",
       "      <td>705</td>\n",
       "      <td>{4d469248e6c2d219, 4d469248e6c2d21a, 4d469248e...</td>\n",
       "      <td>2027-07-16</td>\n",
       "      <td>None</td>\n",
       "      <td>None</td>\n",
       "    </tr>\n",
       "    <tr>\n",
       "      <th>64300</th>\n",
       "      <td>LIC-LIC-01</td>\n",
       "      <td>TELEFONICA BRASIL S.A.</td>\n",
       "      <td>50409146366</td>\n",
       "      <td>10</td>\n",
       "      <td>{105802021.0, 48422023.0, 59072012.0, 97432014...</td>\n",
       "      <td>RUA FLORIANO PEIXOTO, 358</td>\n",
       "      <td>None</td>\n",
       "      <td>AC</td>\n",
       "      <td>1200401</td>\n",
       "      <td>{100MG7W, 200KG7W, 20M0G7W, 5M00G9W, 10M0G7W, ...</td>\n",
       "      <td>...</td>\n",
       "      <td>-9.972025</td>\n",
       "      <td>-67.813556</td>\n",
       "      <td>G</td>\n",
       "      <td>2023-08-05</td>\n",
       "      <td>2000-11-27</td>\n",
       "      <td>None</td>\n",
       "      <td>{5afddca464627, 378dd5f8bd2f226d, 5f75c76038db...</td>\n",
       "      <td>2024-07-21</td>\n",
       "      <td>None</td>\n",
       "      <td>None</td>\n",
       "    </tr>\n",
       "  </tbody>\n",
       "</table>\n",
       "<p>4 rows × 39 columns</p>\n",
       "</div>"
      ],
      "text/plain": [
       "           Status.state                                       NomeEntidade  \\\n",
       "NumEstacao                                                                   \n",
       "19453        LIC-LIC-01  EMPRESA BRASILEIRA DE INFRA-ESTRUTURA AEROPORT...   \n",
       "19461        LIC-LIC-01  EMPRESA BRASILEIRA DE INFRA-ESTRUTURA AEROPORT...   \n",
       "19470        LIC-LIC-01  EMPRESA BRASILEIRA DE INFRA-ESTRUTURA AEROPORT...   \n",
       "64300        LIC-LIC-01                             TELEFONICA BRASIL S.A.   \n",
       "\n",
       "              NumFistel  NumServico  \\\n",
       "NumEstacao                            \n",
       "19453       11030016470          19   \n",
       "19461       11030016470          19   \n",
       "19470       11030016470          19   \n",
       "64300       50409146366          10   \n",
       "\n",
       "                                                       NumAto  \\\n",
       "NumEstacao                                                      \n",
       "19453                                             655742007.0   \n",
       "19461                                              18652020.0   \n",
       "19470                                              18652020.0   \n",
       "64300       {105802021.0, 48422023.0, 59072012.0, 97432014...   \n",
       "\n",
       "                                         EnderecoEstacao EndComplemento  \\\n",
       "NumEstacao                                                                \n",
       "19453       BR  364,  KM 18  -   COA s/n AEROPORTO  SBRB           None   \n",
       "19461         BR 364,  KM 18  -  COE s/n AEROPORTO  SBRB           None   \n",
       "19470        BR  364,  KM 18  -  SCI s/n AEROPORTO  SBRB           None   \n",
       "64300                          RUA FLORIANO PEIXOTO, 358           None   \n",
       "\n",
       "           SiglaUf  CodMunicipio  \\\n",
       "NumEstacao                         \n",
       "19453           AC       1200401   \n",
       "19461           AC       1200401   \n",
       "19470           AC       1200401   \n",
       "64300           AC       1200401   \n",
       "\n",
       "                                            DesignacaoEmissao  ...  Latitude  \\\n",
       "NumEstacao                                                     ...             \n",
       "19453                                                 16K0F3E  ...   -9.9925   \n",
       "19461                                                 16K0F3E  ... -9.992778   \n",
       "19470                                                 16K0F3E  ... -9.992778   \n",
       "64300       {100MG7W, 200KG7W, 20M0G7W, 5M00G9W, 10M0G7W, ...  ... -9.972025   \n",
       "\n",
       "            Longitude CodDebitoTFI DataLicenciamento  \\\n",
       "NumEstacao                                             \n",
       "19453      -67.804167            A        2016-03-03   \n",
       "19461      -67.804444            A        2016-03-03   \n",
       "19470      -67.804722            A        2016-03-03   \n",
       "64300      -67.813556            G        2023-08-05   \n",
       "\n",
       "           DataPrimeiroLicenciamento NumRede  \\\n",
       "NumEstacao                                     \n",
       "19453                     2001-10-09     705   \n",
       "19461                     2001-10-09     705   \n",
       "19470                     2001-10-09     705   \n",
       "64300                     2000-11-27    None   \n",
       "\n",
       "                                                          _id DataValidade  \\\n",
       "NumEstacao                                                                   \n",
       "19453       {4d469248e6c2d201, 4d469248e6c2d1fe, 4d469248e...   2027-07-16   \n",
       "19461       {4d469248e6c2d208, 4d469248e6c2d20c, 4d469248e...   2027-07-16   \n",
       "19470       {4d469248e6c2d219, 4d469248e6c2d21a, 4d469248e...   2027-07-16   \n",
       "64300       {5afddca464627, 378dd5f8bd2f226d, 5f75c76038db...   2024-07-21   \n",
       "\n",
       "           NumFistelAssociado NomeEntidadeAssociado  \n",
       "NumEstacao                                           \n",
       "19453                    None                  None  \n",
       "19461                    None                  None  \n",
       "19470                    None                  None  \n",
       "64300                    None                  None  \n",
       "\n",
       "[4 rows x 39 columns]"
      ]
     },
     "execution_count": 16,
     "metadata": {},
     "output_type": "execute_result"
    }
   ],
   "source": [
    "def set_aggregation(x):\n",
    "\n",
    "    if len(set(x)) == 1:\n",
    "        return x.iloc[0]  \n",
    "    else:\n",
    "        return set(x)  \n",
    "\n",
    "dfg = df.groupby('NumEstacao').agg(lambda x: set_aggregation(x))\n",
    "dfg.head(4)"
   ]
  },
  {
   "cell_type": "code",
   "execution_count": 10,
   "metadata": {},
   "outputs": [
    {
     "name": "stdout",
     "output_type": "stream",
     "text": [
      "Percentage of initial rows kept when grouping = 16.97%\n"
     ]
    }
   ],
   "source": [
    "print(f\"Percentage of initial rows kept when grouping = {len(dfg)*100/len(df):.2f}%\")"
   ]
  },
  {
   "cell_type": "markdown",
   "metadata": {},
   "source": [
    "Now we have a dataframe with all the original information, but only 16% of the rows; in which each represents a single station"
   ]
  },
  {
   "cell_type": "markdown",
   "metadata": {},
   "source": [
    "## Understanding the Columns"
   ]
  },
  {
   "cell_type": "markdown",
   "metadata": {},
   "source": [
    "Some columns will not yield constructive information to classify the stations. We can get rid of them."
   ]
  },
  {
   "cell_type": "code",
   "execution_count": 18,
   "metadata": {},
   "outputs": [
    {
     "data": {
      "text/plain": [
       "Index(['Status.state', 'NomeEntidade', 'NumFistel', 'NumServico', 'NumAto',\n",
       "       'EnderecoEstacao', 'EndComplemento', 'SiglaUf', 'CodMunicipio',\n",
       "       'DesignacaoEmissao', 'Tecnologia', 'tipoTecnologia', 'meioAcesso',\n",
       "       'FreqTxMHz', 'FreqRxMHz', 'Azimute', 'CodTipoClasseEstacao',\n",
       "       'ClassInfraFisica', 'CompartilhamentoInfraFisica', 'CodTipoAntena',\n",
       "       'CodEquipamentoAntena', 'GanhoAntena', 'FrenteCostaAntena',\n",
       "       'AnguloMeiaPotenciaAntena', 'AnguloElevacao', 'Polarizacao',\n",
       "       'AlturaAntena', 'CodEquipamentoTransmissor', 'PotenciaTransmissorWatts',\n",
       "       'Latitude', 'Longitude', 'CodDebitoTFI', 'DataLicenciamento',\n",
       "       'DataPrimeiroLicenciamento', 'NumRede', '_id', 'DataValidade',\n",
       "       'NumFistelAssociado', 'NomeEntidadeAssociado'],\n",
       "      dtype='object')"
      ]
     },
     "execution_count": 18,
     "metadata": {},
     "output_type": "execute_result"
    }
   ],
   "source": [
    "dfg.columns"
   ]
  },
  {
   "cell_type": "markdown",
   "metadata": {},
   "source": [
    "From [Anatel](https://sistemas.anatel.gov.br/anexar-api/publico/anexos/download/9cfc11fc83fcfc2d2586cdb887f72cb5), we can understand what each column refers to.\n",
    "\n",
    "Status.state: Situação da solicitação na Anatel.\n",
    "\n",
    "NumFistel: É um código numérico definido pela Anatel, composto de onze dígitos que identifica a autorização que a empresa possui para determinado serviço em determinada região.\n",
    "\n",
    "NumServico: Código do serviço de telecomunicações na Anatel.\n",
    "\n",
    "NumAto: Número do Ato de Autorização de Uso de Radiofrequência, sendo que os quatro últimos dígitos se referem ao ano da assinatura do respectivo ato. Exemplo XYZW2017, ato XYZW de 2017.\n",
    "\n",
    "EnderecoEstacao: Endereço completo onde a estação está instalada.\n",
    "\n",
    "EndComplemento: Complemento do endereço, caso haja.\n",
    "\n",
    "DesignacaoEmissao: Designação de emissão. Para uma completa designação da emissão, necessitamos sempre de 9 caracteres alfanuméricos. Os quatros primeiros representam a _largura de faixa necessária_; os três seguintes as _características básicas_ e os dois últimos as _características adicionais facultativas_.\n",
    "- Largura de faixa necessária: Para uma dada classe de emissão, o valor mínimo da largura de faixa ocupada pela emissão, suficiente para garantir a transmissão da informação com a velocidade de transmissão e com a qualidade requerida para o sistema empregado, nas condições especificadas. A largura de faixa necessária será sempre expressa por meio de três algarismos, que indicam os três primeiros algarismos significativos de largura de faixa necessária e uma letra que ocupa a posição da virgula decimal e representa a Unidade de largura de faixa e será H para Hertz, K para Kilohertz, M para Megahertz ou G para Gigahertz.\n"
   ]
  },
  {
   "cell_type": "code",
   "execution_count": 20,
   "metadata": {},
   "outputs": [
    {
     "data": {
      "text/plain": [
       "NumEstacao\n",
       "19453                                                   16K0F3E\n",
       "19461                                                   16K0F3E\n",
       "19470                                                   16K0F3E\n",
       "64300         {100MG7W, 200KG7W, 20M0G7W, 5M00G9W, 10M0G7W, ...\n",
       "356271                                                  16K0F3E\n",
       "                                    ...                        \n",
       "1015180580                                              40M0D7W\n",
       "1015180598                                              40M0D7W\n",
       "1015180601                                              29M6D7W\n",
       "1015180610                                              29M6D7W\n",
       "1015180628                                              56M0D7W\n",
       "Name: DesignacaoEmissao, Length: 1500, dtype: object"
      ]
     },
     "execution_count": 20,
     "metadata": {},
     "output_type": "execute_result"
    }
   ],
   "source": [
    "dfg['DesignacaoEmissao']"
   ]
  },
  {
   "cell_type": "code",
   "execution_count": 19,
   "metadata": {},
   "outputs": [],
   "source": [
    "dfg = dfg.drop(['Status.state', 'NumFistel'], axis=1)\n"
   ]
  }
 ],
 "metadata": {
  "kernelspec": {
   "display_name": "Python 3",
   "language": "python",
   "name": "python3"
  },
  "language_info": {
   "codemirror_mode": {
    "name": "ipython",
    "version": 3
   },
   "file_extension": ".py",
   "mimetype": "text/x-python",
   "name": "python",
   "nbconvert_exporter": "python",
   "pygments_lexer": "ipython3",
   "version": "3.11.5"
  }
 },
 "nbformat": 4,
 "nbformat_minor": 2
}
