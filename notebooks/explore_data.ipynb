{
 "cells": [
  {
   "cell_type": "markdown",
   "metadata": {},
   "source": [
    "## Exploring the Data"
   ]
  },
  {
   "cell_type": "code",
   "execution_count": 1,
   "metadata": {},
   "outputs": [],
   "source": [
    "import os\n",
    "import polars as pl\n",
    "from utils import *\n",
    "import pandas as pd"
   ]
  },
  {
   "cell_type": "markdown",
   "metadata": {},
   "source": [
    "Let's read the data corresponding to a single state ('AC' in this case) to explore it."
   ]
  },
  {
   "cell_type": "code",
   "execution_count": 2,
   "metadata": {},
   "outputs": [],
   "source": [
    "csv_files_dir = '../data/csv_files'\n",
    "file = 'SP.csv'\n",
    "file_path = os.path.join(csv_files_dir, file)\n",
    "df = read_csv(file_path, separator = ',')"
   ]
  },
  {
   "cell_type": "markdown",
   "metadata": {},
   "source": [
    "Let's check the different types of 'ClassInfraFisica' present."
   ]
  },
  {
   "cell_type": "code",
   "execution_count": null,
   "metadata": {},
   "outputs": [],
   "source": [
    "df.group_by('ClassInfraFisica').count()"
   ]
  },
  {
   "cell_type": "markdown",
   "metadata": {},
   "source": [
    "Let's fix the typo:"
   ]
  },
  {
   "cell_type": "code",
   "execution_count": 3,
   "metadata": {},
   "outputs": [],
   "source": [
    "df = strip_column(df, 'ClassInfraFisica')"
   ]
  },
  {
   "cell_type": "code",
   "execution_count": 4,
   "metadata": {},
   "outputs": [
    {
     "data": {
      "text/html": [
       "<div><style>\n",
       ".dataframe > thead > tr > th,\n",
       ".dataframe > tbody > tr > td {\n",
       "  text-align: right;\n",
       "  white-space: pre-wrap;\n",
       "}\n",
       "</style>\n",
       "<small>shape: (11, 2)</small><table border=\"1\" class=\"dataframe\"><thead><tr><th>ClassInfraFisica</th><th>Count</th></tr><tr><td>str</td><td>u32</td></tr></thead><tbody><tr><td>null</td><td>2067448</td></tr><tr><td>&quot;Outdoor&quot;</td><td>143</td></tr><tr><td>&quot;Harmonizada&quot;</td><td>288</td></tr><tr><td>&quot;Fastsite&quot;</td><td>87</td></tr><tr><td>&quot;COW&quot;</td><td>1339</td></tr><tr><td>&quot;Greenfield&quot;</td><td>165328</td></tr><tr><td>&quot;Streetlevel&quot;</td><td>812</td></tr><tr><td>&quot;Rooftop&quot;</td><td>49716</td></tr><tr><td>&quot;Ran Sharing&quot;</td><td>2143</td></tr><tr><td>&quot;Indoor&quot;</td><td>5790</td></tr><tr><td>&quot;SmallCell&quot;</td><td>439</td></tr></tbody></table></div>"
      ],
      "text/plain": [
       "shape: (11, 2)\n",
       "┌──────────────────┬─────────┐\n",
       "│ ClassInfraFisica ┆ Count   │\n",
       "│ ---              ┆ ---     │\n",
       "│ str              ┆ u32     │\n",
       "╞══════════════════╪═════════╡\n",
       "│ null             ┆ 2067448 │\n",
       "│ Outdoor          ┆ 143     │\n",
       "│ Harmonizada      ┆ 288     │\n",
       "│ Fastsite         ┆ 87      │\n",
       "│ …                ┆ …       │\n",
       "│ Rooftop          ┆ 49716   │\n",
       "│ Ran Sharing      ┆ 2143    │\n",
       "│ Indoor           ┆ 5790    │\n",
       "│ SmallCell        ┆ 439     │\n",
       "└──────────────────┴─────────┘"
      ]
     },
     "execution_count": 4,
     "metadata": {},
     "output_type": "execute_result"
    }
   ],
   "source": [
    "df.group_by('ClassInfraFisica').agg(pl.col('ClassInfraFisica').count().alias('Count'))"
   ]
  },
  {
   "cell_type": "markdown",
   "metadata": {},
   "source": [
    "Now, we have to check whether each station (indicated by the column 'NumEstacao') corresponds to a single type of 'ClassInfraFisica'; which is the expected behavior (assumption)."
   ]
  },
  {
   "cell_type": "code",
   "execution_count": 5,
   "metadata": {},
   "outputs": [
    {
     "name": "stdout",
     "output_type": "stream",
     "text": [
      "shape: (8_081, 2)\n",
      "┌────────────┬──────────────┐\n",
      "│ NumEstacao ┆ unique_count │\n",
      "│ ---        ┆ ---          │\n",
      "│ i64        ┆ u32          │\n",
      "╞════════════╪══════════════╡\n",
      "│ 1007447238 ┆ 2            │\n",
      "│ 687422329  ┆ 2            │\n",
      "│ 698139917  ┆ 2            │\n",
      "│ 683889192  ┆ 2            │\n",
      "│ …          ┆ …            │\n",
      "│ 1008765098 ┆ 2            │\n",
      "│ 1011786505 ┆ 2            │\n",
      "│ 689693885  ┆ 2            │\n",
      "│ 641263155  ┆ 2            │\n",
      "└────────────┴──────────────┘\n"
     ]
    }
   ],
   "source": [
    "count_unique_values = df.group_by('NumEstacao').agg(pl.col('ClassInfraFisica').n_unique().alias('unique_count'))\n",
    "instances_with_different_values = count_unique_values.filter(count_unique_values['unique_count'] > 1)\n",
    "print(instances_with_different_values)"
   ]
  },
  {
   "cell_type": "markdown",
   "metadata": {},
   "source": [
    "We found that we can actually get two different 'ClassInfraFisica' for any individual station. But if we check further, we'll see that it's actually pairing types with 'null' values, which does not compromise the assumption."
   ]
  },
  {
   "cell_type": "code",
   "execution_count": 6,
   "metadata": {},
   "outputs": [
    {
     "data": {
      "text/html": [
       "<div><style>\n",
       ".dataframe > thead > tr > th,\n",
       ".dataframe > tbody > tr > td {\n",
       "  text-align: right;\n",
       "  white-space: pre-wrap;\n",
       "}\n",
       "</style>\n",
       "<small>shape: (24, 2)</small><table border=\"1\" class=\"dataframe\"><thead><tr><th>NumEstacao</th><th>ClassInfraFisica</th></tr><tr><td>i64</td><td>str</td></tr></thead><tbody><tr><td>1007447238</td><td>&quot;Greenfield&quot;</td></tr><tr><td>1007447238</td><td>&quot;Greenfield&quot;</td></tr><tr><td>1007447238</td><td>&quot;Greenfield&quot;</td></tr><tr><td>1007447238</td><td>&quot;Greenfield&quot;</td></tr><tr><td>1007447238</td><td>&quot;Greenfield&quot;</td></tr><tr><td>1007447238</td><td>&quot;Greenfield&quot;</td></tr><tr><td>1007447238</td><td>&quot;Greenfield&quot;</td></tr><tr><td>1007447238</td><td>&quot;Greenfield&quot;</td></tr><tr><td>1007447238</td><td>&quot;Greenfield&quot;</td></tr><tr><td>1007447238</td><td>&quot;Greenfield&quot;</td></tr><tr><td>1007447238</td><td>&quot;Greenfield&quot;</td></tr><tr><td>1007447238</td><td>&quot;Greenfield&quot;</td></tr><tr><td>1007447238</td><td>&quot;Greenfield&quot;</td></tr><tr><td>1007447238</td><td>&quot;Greenfield&quot;</td></tr><tr><td>1007447238</td><td>&quot;Greenfield&quot;</td></tr><tr><td>1007447238</td><td>null</td></tr><tr><td>1007447238</td><td>null</td></tr><tr><td>1007447238</td><td>null</td></tr><tr><td>1007447238</td><td>null</td></tr><tr><td>1007447238</td><td>null</td></tr><tr><td>1007447238</td><td>null</td></tr><tr><td>1007447238</td><td>null</td></tr><tr><td>1007447238</td><td>null</td></tr><tr><td>1007447238</td><td>null</td></tr></tbody></table></div>"
      ],
      "text/plain": [
       "shape: (24, 2)\n",
       "┌────────────┬──────────────────┐\n",
       "│ NumEstacao ┆ ClassInfraFisica │\n",
       "│ ---        ┆ ---              │\n",
       "│ i64        ┆ str              │\n",
       "╞════════════╪══════════════════╡\n",
       "│ 1007447238 ┆ Greenfield       │\n",
       "│ 1007447238 ┆ Greenfield       │\n",
       "│ 1007447238 ┆ Greenfield       │\n",
       "│ 1007447238 ┆ Greenfield       │\n",
       "│ …          ┆ …                │\n",
       "│ 1007447238 ┆ null             │\n",
       "│ 1007447238 ┆ null             │\n",
       "│ 1007447238 ┆ null             │\n",
       "│ 1007447238 ┆ null             │\n",
       "└────────────┴──────────────────┘"
      ]
     },
     "execution_count": 6,
     "metadata": {},
     "output_type": "execute_result"
    }
   ],
   "source": [
    "df.filter(df['NumEstacao'] == 1007447238)[['NumEstacao', 'ClassInfraFisica']]"
   ]
  },
  {
   "cell_type": "markdown",
   "metadata": {},
   "source": [
    "Let's group by 'NumEstacao', but keeping all the info present in the rows as sets (or as a single value if all rows match)"
   ]
  },
  {
   "cell_type": "code",
   "execution_count": null,
   "metadata": {},
   "outputs": [],
   "source": [
    "dfp = df.to_pandas()          \n",
    "def set_aggregation(x):\n",
    "\n",
    "    if len(set(x)) == 1:\n",
    "        return x.iloc[0]  \n",
    "    else:\n",
    "        return set(x)  \n",
    "\n",
    "dfg = dfp.groupby('NumEstacao').agg(lambda x: set_aggregation(x))\n",
    "dfg.head(4)"
   ]
  },
  {
   "cell_type": "code",
   "execution_count": null,
   "metadata": {},
   "outputs": [],
   "source": [
    "print(f\"Percentage of initial rows kept when grouping = {len(dfg)*100/len(df):.2f}%\")"
   ]
  },
  {
   "cell_type": "markdown",
   "metadata": {},
   "source": [
    "Now we have a dataframe with all the original information, but only 16% of the rows; in which each represents a single station"
   ]
  },
  {
   "cell_type": "markdown",
   "metadata": {},
   "source": [
    "## Understanding the Columns"
   ]
  },
  {
   "cell_type": "markdown",
   "metadata": {},
   "source": [
    "Let's understand what the columns are about. This will futurely enable us to better make sense of them, process them if necessary, or drop irrelevant ones."
   ]
  },
  {
   "cell_type": "code",
   "execution_count": 41,
   "metadata": {},
   "outputs": [
    {
     "data": {
      "text/html": [
       "<div>\n",
       "<style scoped>\n",
       "    .dataframe tbody tr th:only-of-type {\n",
       "        vertical-align: middle;\n",
       "    }\n",
       "\n",
       "    .dataframe tbody tr th {\n",
       "        vertical-align: top;\n",
       "    }\n",
       "\n",
       "    .dataframe thead th {\n",
       "        text-align: right;\n",
       "    }\n",
       "</style>\n",
       "<table border=\"1\" class=\"dataframe\">\n",
       "  <thead>\n",
       "    <tr style=\"text-align: right;\">\n",
       "      <th></th>\n",
       "      <th>tech</th>\n",
       "    </tr>\n",
       "  </thead>\n",
       "  <tbody>\n",
       "    <tr>\n",
       "      <th>12419</th>\n",
       "      <td>NR_SA-NSA</td>\n",
       "    </tr>\n",
       "    <tr>\n",
       "      <th>12424</th>\n",
       "      <td>NR_SA-NSA</td>\n",
       "    </tr>\n",
       "    <tr>\n",
       "      <th>12425</th>\n",
       "      <td>NR_SA-NSA</td>\n",
       "    </tr>\n",
       "    <tr>\n",
       "      <th>13863</th>\n",
       "      <td>NR_SA-NSA</td>\n",
       "    </tr>\n",
       "    <tr>\n",
       "      <th>13864</th>\n",
       "      <td>NR_SA-NSA</td>\n",
       "    </tr>\n",
       "    <tr>\n",
       "      <th>...</th>\n",
       "      <td>...</td>\n",
       "    </tr>\n",
       "    <tr>\n",
       "      <th>2293519</th>\n",
       "      <td>NR_NSA</td>\n",
       "    </tr>\n",
       "    <tr>\n",
       "      <th>2293520</th>\n",
       "      <td>NR_NSA</td>\n",
       "    </tr>\n",
       "    <tr>\n",
       "      <th>2293521</th>\n",
       "      <td>NR_NSA</td>\n",
       "    </tr>\n",
       "    <tr>\n",
       "      <th>2293522</th>\n",
       "      <td>NR_NSA</td>\n",
       "    </tr>\n",
       "    <tr>\n",
       "      <th>2293523</th>\n",
       "      <td>NR_NSA</td>\n",
       "    </tr>\n",
       "  </tbody>\n",
       "</table>\n",
       "<p>25322 rows × 1 columns</p>\n",
       "</div>"
      ],
      "text/plain": [
       "              tech\n",
       "12419    NR_SA-NSA\n",
       "12424    NR_SA-NSA\n",
       "12425    NR_SA-NSA\n",
       "13863    NR_SA-NSA\n",
       "13864    NR_SA-NSA\n",
       "...            ...\n",
       "2293519     NR_NSA\n",
       "2293520     NR_NSA\n",
       "2293521     NR_NSA\n",
       "2293522     NR_NSA\n",
       "2293523     NR_NSA\n",
       "\n",
       "[25322 rows x 1 columns]"
      ]
     },
     "execution_count": 41,
     "metadata": {},
     "output_type": "execute_result"
    }
   ],
   "source": [
    "pandas_df = df.to_pandas()\n",
    "\n",
    "pandas_df['Technology'] = pandas_df.apply(lambda row: concatenate_columns(row, 'Tecnologia', 'tipoTecnologia'), axis=1)\n",
    "\n"
   ]
  },
  {
   "cell_type": "markdown",
   "metadata": {},
   "source": [
    "From [Página de Emissões - Anatel](https://sistemas.anatel.gov.br/anexar-api/publico/anexos/download/9cfc11fc83fcfc2d2586cdb887f72cb5), we can understand what each column refers to.\n",
    "\n",
    "Status.state: Situação da solicitação na Anatel.\n",
    "\n",
    "NumFistel: É um código numérico definido pela Anatel, composto de onze dígitos que identifica a autorização que a empresa possui para determinado serviço em determinada região.\n",
    "\n",
    "NumServico: Código do serviço de telecomunicações na Anatel.\n",
    "\n",
    "NumAto: Número do Ato de Autorização de Uso de Radiofrequência, sendo que os quatro últimos dígitos se referem ao ano da assinatura do respectivo ato. Exemplo XYZW2017, ato XYZW de 2017.\n",
    "\n",
    "EnderecoEstacao: Endereço completo onde a estação está instalada.\n",
    "\n",
    "EndComplemento: Complemento do endereço, caso haja.\n",
    "\n",
    "DesignacaoEmissao: Baseado em [Método de Designação - Anatel](https://www.anatel.gov.br/Portal/verificaDocumentos/documento.asp?numeroPublicacao=60403&assuntoPublicacao=null&caminhoRel=null&filtro=1&documentoPath=outros/autocadastramento/metodo_de_designacao.pdf)\n",
    "\n",
    "Designação de emissão. Para uma completa designação da emissão, necessitamos sempre de 9 caracteres alfanuméricos. Os quatros primeiros representam a _largura de faixa necessária_; os três seguintes as _características básicas_ e os dois últimos as _características adicionais facultativas_.\n",
    "- Largura de faixa necessária: Para uma dada classe de emissão, o valor mínimo da largura de faixa ocupada pela emissão, suficiente para garantir a transmissão da informação com a velocidade de transmissão e com a qualidade requerida para o sistema empregado, nas condições especificadas. A largura de faixa necessária será sempre expressa por meio de três algarismos, que indicam os três primeiros algarismos significativos de largura de faixa necessária e uma letra que ocupa a posição da virgula decimal e representa a Unidade de largura de faixa e será H para Hertz, K para Kilohertz, M para Megahertz ou G para Gigahertz.\n",
    "- Características básicas: descritas por três símbolos:\n",
    "    - Primeiro símbolo: tipo de modulação da portaria principal.\n",
    "    - Segundo símbolo: natureza do(s) sinais que modulam a portaria principal.\n",
    "    - Terceiro símbolo: tipo de informação a ser transmitida.\n",
    "- Características adicionais facultativas: Para descrição mais completa de uma emissão, são previstas duas características facultativas, as quais são expressas pelos quarto e quinto símbolos. Quando não se utiliza o quarto ou o quinto símbolo, convém indicar isso mediante um traço no lugar em que cada símbolo apareceria.\n",
    "\n",
    "meioAcesso: é um campo de ‘estações dispensadas de licenciamento’. As opções são: fibra, par metálico, cabo coaxial e radiação restrita.\n",
    "\n",
    "Azimute: posicionamento m graus em relação ao Norte do lóbulo principal de radiação da antena. Quando for utilizada antena omnidirecional será 0.\n",
    "\n",
    "CodTipoClasseEstacao: Classe da Estação conforme lista permitida no sistema de canalização do Mosaico, conforme o Regulamento da faixa de frequência utilizada conforme Manual de Projetos Técnicos do SITAR, disponível em [Manual de Projeto - Anatel](https://www.anatel.gov.br/Portal/verificaDocumentos/documento.asp?numeroPublicacao=60402&assuntoPublicacao=MANUAL%20DE%20PROJETOS%20T%C9CNICOS%20(SITAR)&caminhoRel=CidadaoComunica%E7%E3o%20via%20R%E1dioServi%E7o%20Limitado&filtro=1&documentoPath=outros/). Exemplos:\n",
    "- ML: Estação móvel terrestre\n",
    "- FX: Estação fixa\n",
    "- FB: Estação de base\n",
    "- XR: Estação fixa repetidora\n",
    "- FA: Estação aeronáutica\n",
    "- RC: Radiofarol não direcional\n",
    "\n",
    "ClassInfraFisica: Classificação de Infraestrutura Física. Apenas para estações dos serviços de interesse coletivo (STFC, SCM e SMP). Para serviços de interesse restrito (SLP), estará em branco. Valores válidos: Greenfield, Streetlevel, Ran Sharing, Small Cell, COW, Picocelula, Harmonizada, Rooftop, Indoor, Outdoor\n",
    "\n",
    "CompartilhamentoInfraFisica: Compartilhamento de Infraestrutura Física. Apenas para estações dos serviços de interesse coletivo (não se aplica para SLP).\n",
    "\n",
    "CodTipoAntena: Tipo Antena: campo obrigatório, onde é inserido o código conforme item 2.3.4 do [Manual de Projeto - Anatel](https://www.anatel.gov.br/Portal/verificaDocumentos/documento.asp?numeroPublicacao=60402&assuntoPublicacao=MANUAL%20DE%20PROJETOS%20T%C9CNICOS%20(SITAR)&caminhoRel=CidadaoComunica%E7%E3o%20via%20R%E1dioServi%E7o%20Limitado&filtro=1&documentoPath=outros/). Exemplos:\n",
    "- 019: Monopolo vertical\n",
    "- 060: V invertido\n",
    "- 213: Cabo fendido\n",
    "\n",
    "GanhoAntena: Ganho da Antena em dB. Se a frequência for superior a 28.000 kHz, é informado o ganho da antena em relação a uma antena isotrópica (dbi); se inferior, este é dado em relação a uma antena dipolo (dBd).\n",
    "\n",
    "FrenteCostaAntena: Relação Frente/Costa em dBi (campo obrigatório). Deve ser menor que 90 dbi. Será 0 (zero) quando for utilizada antena omnidirecional.\n",
    "\n",
    "AnguloMeiaPotenciaAntena: Ângulo de meia potência em graus decimais (campo obrigatório). Pontos no diagrama onde a potência radiada equivale à metade da radiada na direção principal.\n",
    "\n",
    "AnguloElevacao: : Ângulo de elevação mecânico em graus decimais. O valor deve estar entre 0 e 90 e ser medido com relação à linha de horizonte, sendo negativo quando a linha de visada estiver abaixo desta referência.\n",
    "\n",
    "Polarizacao:  a orientação do campo elétrico da onda de rádio com respeito a terra ou direção de propagação; e é determinado pela estrutura física da antena e por sua orientação. Valores aceitos: H (horizontal), V (vertical), CR (circular á direita), CL (circular à esquerda) e X (horizontal e vertical simultâneas ou não).\n",
    "\n",
    "AlturaAntena: Altura da antena (em relação a cota do terreno). Deve ser menor que 200 m.\n",
    "\n",
    "PotenciaTransmissorWatts: Potência nominal (saída do transmissor) em watts.\n",
    "\n",
    "DataLicenciamento:  Data do último licenciamento da estação. Formato: AAAA/MM/DD\n",
    "\n",
    "DataPrimeiroLicenciamento: Data do primeiro licenciamento da estação. Formato: AAAA/MM/DD\n",
    "\n",
    "NumRede: Valor numérico, definido pelo usuário, para identificar grupo de estações que se comunicam. Visa facilitar a análise da comunicação das redes.\n",
    "\n",
    "_id:  Identificação da emissão / frequência da estação\n",
    "\n",
    "DataValidade: Validade da RF associada àquela estação.\n",
    "\n",
    "NumFistelAssociado: Campo preenchido quando a emissão for de outro Fistel (do mesmo CNPJ ou diferentes): licenciamento conjunto. Nesse caso, é informado o número do Fistel responsável pelo Ato de RF da emissão dessa linha\n",
    "\n"
   ]
  },
  {
   "cell_type": "markdown",
   "metadata": {},
   "source": [
    "meioAcesso consists of all None values"
   ]
  },
  {
   "cell_type": "code",
   "execution_count": null,
   "metadata": {},
   "outputs": [],
   "source": [
    "# meioAcesso\n",
    "dfg['meioAcesso'].value_counts(dropna=False)"
   ]
  },
  {
   "cell_type": "code",
   "execution_count": null,
   "metadata": {},
   "outputs": [],
   "source": [
    "dfg['CodTipoClasseEstacao'].value_counts()"
   ]
  }
 ],
 "metadata": {
  "kernelspec": {
   "display_name": "Python 3",
   "language": "python",
   "name": "python3"
  },
  "language_info": {
   "codemirror_mode": {
    "name": "ipython",
    "version": 3
   },
   "file_extension": ".py",
   "mimetype": "text/x-python",
   "name": "python",
   "nbconvert_exporter": "python",
   "pygments_lexer": "ipython3",
   "version": "3.12.0"
  }
 },
 "nbformat": 4,
 "nbformat_minor": 2
}
