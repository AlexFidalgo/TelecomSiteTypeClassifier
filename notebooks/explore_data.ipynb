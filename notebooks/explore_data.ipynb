{
 "cells": [
  {
   "cell_type": "markdown",
   "metadata": {},
   "source": [
    "## Importing modules and reading csv file"
   ]
  },
  {
   "cell_type": "code",
   "execution_count": 1,
   "metadata": {},
   "outputs": [],
   "source": [
    "import os\n",
    "import polars as pl\n",
    "from utils import *\n",
    "import pandas as pd\n",
    "from datetime import datetime"
   ]
  },
  {
   "cell_type": "code",
   "execution_count": 2,
   "metadata": {},
   "outputs": [],
   "source": [
    "def get_cleaned_df(state):\n",
    "    csv_files_dir = '../data/cleaned_csv_files'\n",
    "    file = f'{state}.csv'\n",
    "    file_path = os.path.join(csv_files_dir, file)\n",
    "    df = read_csv_pl(file_path, separator = ',')\n",
    "    df = df.to_pandas()\n",
    "    return df"
   ]
  },
  {
   "cell_type": "markdown",
   "metadata": {},
   "source": [
    "Let's read the data corresponding to a single state ('AC' in this case) to explore it."
   ]
  },
  {
   "cell_type": "code",
   "execution_count": null,
   "metadata": {},
   "outputs": [],
   "source": [
    "csv_files_dir = '../data/csv_files'\n",
    "file = 'RS.csv'\n",
    "file_path = os.path.join(csv_files_dir, file)\n",
    "df = read_csv_pl(file_path, separator = ',')\n",
    "pdf = df.to_pandas()"
   ]
  },
  {
   "cell_type": "markdown",
   "metadata": {},
   "source": [
    "Let's check the different types of 'ClassInfraFisica' present."
   ]
  },
  {
   "cell_type": "code",
   "execution_count": null,
   "metadata": {},
   "outputs": [],
   "source": [
    "df.group_by('ClassInfraFisica').count()"
   ]
  },
  {
   "cell_type": "markdown",
   "metadata": {},
   "source": [
    "Let's fix the typo:"
   ]
  },
  {
   "cell_type": "code",
   "execution_count": null,
   "metadata": {},
   "outputs": [],
   "source": [
    "df = strip_column_pl(df, 'ClassInfraFisica')"
   ]
  },
  {
   "cell_type": "code",
   "execution_count": null,
   "metadata": {},
   "outputs": [],
   "source": [
    "df.group_by('ClassInfraFisica').agg(pl.col('ClassInfraFisica').count().alias('Count'))"
   ]
  },
  {
   "cell_type": "code",
   "execution_count": null,
   "metadata": {},
   "outputs": [],
   "source": [
    "df = replace_values_pl(df, 'ClassInfraFisica', 'Greenfild', 'Greenfield')"
   ]
  },
  {
   "cell_type": "markdown",
   "metadata": {},
   "source": [
    "## Investigating the relationship between ClassInfraFisica and NumEstacao"
   ]
  },
  {
   "cell_type": "markdown",
   "metadata": {},
   "source": [
    "Now, we have to check whether each station (indicated by the column 'NumEstacao') corresponds to a single type of 'ClassInfraFisica'; which is the expected behavior (assumption)."
   ]
  },
  {
   "cell_type": "code",
   "execution_count": null,
   "metadata": {},
   "outputs": [],
   "source": [
    "count_unique_values = df.group_by('NumEstacao').agg(pl.col('ClassInfraFisica').n_unique().alias('unique_count'))\n",
    "instances_with_different_values = count_unique_values.filter(count_unique_values['unique_count'] > 1)\n",
    "print(instances_with_different_values)"
   ]
  },
  {
   "cell_type": "markdown",
   "metadata": {},
   "source": [
    "We found that we can actually get two different 'ClassInfraFisica' for any individual station. But if we check further, we'll see that it's actually pairing types with 'null' values, which does not compromise the assumption."
   ]
  },
  {
   "cell_type": "code",
   "execution_count": null,
   "metadata": {},
   "outputs": [],
   "source": [
    "df.filter(df['NumEstacao'] == 1007447238)[['NumEstacao', 'ClassInfraFisica']]"
   ]
  },
  {
   "cell_type": "markdown",
   "metadata": {},
   "source": [
    "Let's group by 'NumEstacao', but keeping all the info present in the rows as sets (or as a single value if all rows match)"
   ]
  },
  {
   "cell_type": "code",
   "execution_count": null,
   "metadata": {},
   "outputs": [],
   "source": [
    "dfg = pdf.groupby('NumEstacao').agg(lambda x: set_aggregation(x))\n",
    "dfg.head(4)"
   ]
  },
  {
   "cell_type": "code",
   "execution_count": null,
   "metadata": {},
   "outputs": [],
   "source": [
    "print(f\"Percentage of initial rows kept when grouping = {len(dfg)*100/len(df):.2f}%\")"
   ]
  },
  {
   "cell_type": "markdown",
   "metadata": {},
   "source": [
    "Now we have a dataframe with all the original information, but only 16% of the rows; in which each represents a single station"
   ]
  },
  {
   "cell_type": "markdown",
   "metadata": {},
   "source": [
    "## Understanding the Columns"
   ]
  },
  {
   "cell_type": "markdown",
   "metadata": {},
   "source": [
    "Let's understand what the columns are about. This will futurely enable us to better make sense of them, process them if necessary, or drop irrelevant ones."
   ]
  },
  {
   "cell_type": "markdown",
   "metadata": {},
   "source": [
    "From [Página de Emissões - Anatel](https://sistemas.anatel.gov.br/anexar-api/publico/anexos/download/9cfc11fc83fcfc2d2586cdb887f72cb5), we can understand what each column refers to.\n",
    "\n",
    "Status.state: Situação da solicitação na Anatel.\n",
    "\n",
    "NumFistel: É um código numérico definido pela Anatel, composto de onze dígitos que identifica a autorização que a empresa possui para determinado serviço em determinada região.\n",
    "\n",
    "NomeEntidade: Nome da Empresa detentora da estação.\n",
    "\n",
    "NumServico: Código do serviço de telecomunicações na Anatel.\n",
    "\n",
    "NumAto: Número do Ato de Autorização de Uso de Radiofrequência, sendo que os quatro últimos dígitos se referem ao ano da assinatura do respectivo ato. Exemplo XYZW2017, ato XYZW de 2017.\n",
    "\n",
    "EnderecoEstacao: Endereço completo onde a estação está instalada.\n",
    "\n",
    "EndComplemento: Complemento do endereço, caso haja.\n",
    "\n",
    "DesignacaoEmissao: Baseado em [Método de Designação - Anatel](https://www.anatel.gov.br/Portal/verificaDocumentos/documento.asp?numeroPublicacao=60403&assuntoPublicacao=null&caminhoRel=null&filtro=1&documentoPath=outros/autocadastramento/metodo_de_designacao.pdf)\n",
    "\n",
    "Designação de emissão. Para uma completa designação da emissão, necessitamos sempre de 9 caracteres alfanuméricos. Os quatros primeiros representam a _largura de faixa necessária_; os três seguintes as _características básicas_ e os dois últimos as _características adicionais facultativas_.\n",
    "- Largura de faixa necessária: Para uma dada classe de emissão, o valor mínimo da largura de faixa ocupada pela emissão, suficiente para garantir a transmissão da informação com a velocidade de transmissão e com a qualidade requerida para o sistema empregado, nas condições especificadas. A largura de faixa necessária será sempre expressa por meio de três algarismos, que indicam os três primeiros algarismos significativos de largura de faixa necessária e uma letra que ocupa a posição da virgula decimal e representa a Unidade de largura de faixa e será H para Hertz, K para Kilohertz, M para Megahertz ou G para Gigahertz.\n",
    "- Características básicas: descritas por três símbolos:\n",
    "    - Primeiro símbolo: tipo de modulação da portaria principal.\n",
    "    - Segundo símbolo: natureza do(s) sinais que modulam a portaria principal.\n",
    "    - Terceiro símbolo: tipo de informação a ser transmitida.\n",
    "- Características adicionais facultativas: Para descrição mais completa de uma emissão, são previstas duas características facultativas, as quais são expressas pelos quarto e quinto símbolos. Quando não se utiliza o quarto ou o quinto símbolo, convém indicar isso mediante um traço no lugar em que cada símbolo apareceria.\n",
    "\n",
    "meioAcesso: é um campo de ‘estações dispensadas de licenciamento’. As opções são: fibra, par metálico, cabo coaxial e radiação restrita.\n",
    "\n",
    "Azimute: posicionamento m graus em relação ao Norte do lóbulo principal de radiação da antena. Quando for utilizada antena omnidirecional será 0.\n",
    "\n",
    "CodTipoClasseEstacao: Classe da Estação conforme lista permitida no sistema de canalização do Mosaico, conforme o Regulamento da faixa de frequência utilizada conforme Manual de Projetos Técnicos do SITAR, disponível em [Manual de Projeto - Anatel](https://www.anatel.gov.br/Portal/verificaDocumentos/documento.asp?numeroPublicacao=60402&assuntoPublicacao=MANUAL%20DE%20PROJETOS%20T%C9CNICOS%20(SITAR)&caminhoRel=CidadaoComunica%E7%E3o%20via%20R%E1dioServi%E7o%20Limitado&filtro=1&documentoPath=outros/). Exemplos:\n",
    "- ML: Estação móvel terrestre\n",
    "- FX: Estação fixa\n",
    "- FB: Estação de base\n",
    "- XR: Estação fixa repetidora\n",
    "- FA: Estação aeronáutica\n",
    "- RC: Radiofarol não direcional\n",
    "\n",
    "ClassInfraFisica: Classificação de Infraestrutura Física. Apenas para estações dos serviços de interesse coletivo (STFC, SCM e SMP). Para serviços de interesse restrito (SLP), estará em branco. Valores válidos: Greenfield, Streetlevel, Ran Sharing, Small Cell, COW, Picocelula, Harmonizada, Rooftop, Indoor, Outdoor\n",
    "\n",
    "CompartilhamentoInfraFisica: Compartilhamento de Infraestrutura Física. Apenas para estações dos serviços de interesse coletivo (não se aplica para SLP).\n",
    "\n",
    "CodTipoAntena: Tipo Antena: campo obrigatório, onde é inserido o código conforme item 2.3.4 do [Manual de Projeto - Anatel](https://www.anatel.gov.br/Portal/verificaDocumentos/documento.asp?numeroPublicacao=60402&assuntoPublicacao=MANUAL%20DE%20PROJETOS%20T%C9CNICOS%20(SITAR)&caminhoRel=CidadaoComunica%E7%E3o%20via%20R%E1dioServi%E7o%20Limitado&filtro=1&documentoPath=outros/). Exemplos:\n",
    "- 019: Monopolo vertical\n",
    "- 060: V invertido\n",
    "- 213: Cabo fendido\n",
    "\n",
    "GanhoAntena: Ganho da Antena em dB. Se a frequência for superior a 28.000 kHz, é informado o ganho da antena em relação a uma antena isotrópica (dbi); se inferior, este é dado em relação a uma antena dipolo (dBd).\n",
    "\n",
    "FrenteCostaAntena: Relação Frente/Costa em dBi (campo obrigatório). Deve ser menor que 90 dbi. Será 0 (zero) quando for utilizada antena omnidirecional.\n",
    "\n",
    "AnguloMeiaPotenciaAntena: Ângulo de meia potência em graus decimais (campo obrigatório). Pontos no diagrama onde a potência radiada equivale à metade da radiada na direção principal.\n",
    "\n",
    "AnguloElevacao: : Ângulo de elevação mecânico em graus decimais. O valor deve estar entre 0 e 90 e ser medido com relação à linha de horizonte, sendo negativo quando a linha de visada estiver abaixo desta referência.\n",
    "\n",
    "Polarizacao:  a orientação do campo elétrico da onda de rádio com respeito a terra ou direção de propagação; e é determinado pela estrutura física da antena e por sua orientação. Valores aceitos: H (horizontal), V (vertical), CR (circular á direita), CL (circular à esquerda) e X (horizontal e vertical simultâneas ou não).\n",
    "\n",
    "AlturaAntena: Altura da antena (em relação a cota do terreno). Deve ser menor que 200 m.\n",
    "\n",
    "PotenciaTransmissorWatts: Potência nominal (saída do transmissor) em watts.\n",
    "\n",
    "CodDebitoTFI: Código da Taxa de Fiscalização de Instalação (TFI) conforme lei nº 5.070, de 7 de julho de 1966.\n",
    "Taxa de fiscalização da instalação é aquela devida pelas concessionárias e permissionárias de serviços de telecomunicações, no momento em que lhes é outorgada autorização para a execução do serviço e tem a finalidade de ressarcir as despesas realizadas pelo Poder Público até o licenciamento das respectivas estações. Não serão licenciadas as estações das permissionárias e concessionárias de serviços de telecomunicações que não efetuarem o pagamento da taxa de fiscalização da instalação.\n",
    "[Lei do Fistel](https://www2.camara.leg.br/legin/fed/lei/1960-1969/lei-5070-7-julho-1966-364619-anexo-pl.pdf)\n",
    "\n",
    "DataLicenciamento:  Data do último licenciamento da estação. Formato: AAAA/MM/DD\n",
    "\n",
    "DataPrimeiroLicenciamento: Data do primeiro licenciamento da estação. Formato: AAAA/MM/DD\n",
    "\n",
    "NumRede: Valor numérico, definido pelo usuário, para identificar grupo de estações que se comunicam. Visa facilitar a análise da comunicação das redes.\n",
    "\n",
    "_id:  Identificação da emissão / frequência da estação\n",
    "\n",
    "DataValidade: Validade da RF associada àquela estação.\n",
    "\n",
    "NumFistelAssociado: Campo preenchido quando a emissão for de outro Fistel (do mesmo CNPJ ou diferentes): licenciamento conjunto. Nesse caso, é informado o número do Fistel responsável pelo Ato de RF da emissão dessa linha\n",
    "\n"
   ]
  },
  {
   "cell_type": "markdown",
   "metadata": {},
   "source": [
    "meioAcesso consists of all None values"
   ]
  },
  {
   "cell_type": "code",
   "execution_count": null,
   "metadata": {},
   "outputs": [],
   "source": [
    "pdf['meioAcesso'].value_counts(dropna=False)"
   ]
  },
  {
   "cell_type": "code",
   "execution_count": null,
   "metadata": {},
   "outputs": [],
   "source": [
    "# CodEquipamentoTransmissor\n",
    "print(f\"number of rows: {len(pdf['CodEquipamentoTransmissor'])}\")\n",
    "print(f\"number of unique rows: {pdf['CodEquipamentoTransmissor'].nunique()}\")"
   ]
  },
  {
   "cell_type": "code",
   "execution_count": null,
   "metadata": {},
   "outputs": [],
   "source": [
    "# CodDebitoTFI\n",
    "pdf['CodDebitoTFI'].value_counts()"
   ]
  },
  {
   "cell_type": "code",
   "execution_count": null,
   "metadata": {},
   "outputs": [],
   "source": [
    "# _id\n",
    "pdf['_id'].value_counts()"
   ]
  },
  {
   "cell_type": "code",
   "execution_count": null,
   "metadata": {},
   "outputs": [],
   "source": [
    "# DataValidade\n",
    "pdf['DataValidade'].value_counts()"
   ]
  },
  {
   "cell_type": "code",
   "execution_count": null,
   "metadata": {},
   "outputs": [],
   "source": [
    "pdf['NumFistelAssociado'].value_counts()"
   ]
  },
  {
   "cell_type": "code",
   "execution_count": null,
   "metadata": {},
   "outputs": [],
   "source": [
    "pdf['NomeEntidadeAssociado'].value_counts()"
   ]
  },
  {
   "cell_type": "markdown",
   "metadata": {},
   "source": [
    "## Filtering out irrelevant columns"
   ]
  },
  {
   "cell_type": "code",
   "execution_count": null,
   "metadata": {},
   "outputs": [],
   "source": [
    "pdf = filter_columns(pdf)\n",
    "\n",
    "pdf.head()"
   ]
  },
  {
   "cell_type": "markdown",
   "metadata": {},
   "source": [
    "### NomeEntidade"
   ]
  },
  {
   "cell_type": "markdown",
   "metadata": {},
   "source": [
    "Given the high number of different providers found in this column (sometimes it's the mobile network operator, sometimes it's the venue owner), we will not be using this column."
   ]
  },
  {
   "cell_type": "markdown",
   "metadata": {},
   "source": [
    "## Column Treatment"
   ]
  },
  {
   "cell_type": "markdown",
   "metadata": {},
   "source": [
    "Now we will correctly treat each column in order to have relevant information and prepare it for training."
   ]
  },
  {
   "cell_type": "markdown",
   "metadata": {},
   "source": [
    "### SiglaUf"
   ]
  },
  {
   "cell_type": "code",
   "execution_count": null,
   "metadata": {},
   "outputs": [],
   "source": [
    "pdf['SiglaUf']"
   ]
  },
  {
   "cell_type": "markdown",
   "metadata": {},
   "source": [
    "### CodMunicipio"
   ]
  },
  {
   "cell_type": "code",
   "execution_count": null,
   "metadata": {},
   "outputs": [],
   "source": [
    "pdf['CodMunicipio'] = pdf['CodMunicipio'].fillna(0).astype(int)\n",
    "pdf['CodMunicipio']"
   ]
  },
  {
   "cell_type": "markdown",
   "metadata": {},
   "source": [
    "### DesignacaoEmissao"
   ]
  },
  {
   "cell_type": "code",
   "execution_count": null,
   "metadata": {},
   "outputs": [],
   "source": [
    "pdf[['LarguraFaixaNecessaria', 'CaracteristicasBasicas']] = pdf.apply(process_designacao_emissao, axis=1)\n",
    "pdf.drop(columns=['DesignacaoEmissao'], inplace=True)"
   ]
  },
  {
   "cell_type": "markdown",
   "metadata": {},
   "source": [
    "### Tecnologia & tipoTecnologia"
   ]
  },
  {
   "cell_type": "code",
   "execution_count": null,
   "metadata": {},
   "outputs": [],
   "source": [
    "pdf['Tecnologia_e_Tipo'] = pdf.apply(lambda row: concatenate_columns(row, 'Tecnologia', 'tipoTecnologia'), axis=1)\n",
    "pdf.drop(columns=['Tecnologia', 'tipoTecnologia'], inplace=True)"
   ]
  },
  {
   "cell_type": "code",
   "execution_count": null,
   "metadata": {},
   "outputs": [],
   "source": [
    "x[~x['tipoTecnologia'].isnull()]"
   ]
  },
  {
   "cell_type": "markdown",
   "metadata": {},
   "source": [
    "### FreqTxMHz"
   ]
  },
  {
   "cell_type": "code",
   "execution_count": null,
   "metadata": {},
   "outputs": [],
   "source": [
    "pdf['FreqTxMHz']"
   ]
  },
  {
   "cell_type": "markdown",
   "metadata": {},
   "source": [
    "### FreqRxMHz"
   ]
  },
  {
   "cell_type": "code",
   "execution_count": null,
   "metadata": {},
   "outputs": [],
   "source": [
    "pdf['FreqRxMHz']"
   ]
  },
  {
   "cell_type": "markdown",
   "metadata": {},
   "source": [
    "### CodTipoClasseEstacao"
   ]
  },
  {
   "cell_type": "code",
   "execution_count": null,
   "metadata": {},
   "outputs": [],
   "source": [
    "pdf['CodTipoClasseEstacao'].value_counts()"
   ]
  },
  {
   "cell_type": "markdown",
   "metadata": {},
   "source": [
    "### ClassInfraFisica"
   ]
  },
  {
   "cell_type": "code",
   "execution_count": null,
   "metadata": {},
   "outputs": [],
   "source": [
    "file = 'SP.csv'\n",
    "file_path = os.path.join(csv_files_dir, file)\n",
    "df = read_csv_pl(file_path, separator = ',')\n",
    "pdf = df.to_pandas()\n",
    "pdf = strip_column(pdf, 'ClassInfraFisica')\n",
    "pdf['ClassInfraFisica'] = pdf['ClassInfraFisica'].str.upper()\n",
    "pdf['ClassInfraFisica'].value_counts(dropna=False)"
   ]
  },
  {
   "cell_type": "code",
   "execution_count": null,
   "metadata": {},
   "outputs": [],
   "source": [
    "pdf['ClassInfraFisica'].value_counts(dropna=False)"
   ]
  },
  {
   "cell_type": "code",
   "execution_count": null,
   "metadata": {},
   "outputs": [],
   "source": [
    "pdf = strip_column(pdf, 'ClassInfraFisica')\n",
    "pdf['ClassInfraFisica'] = pdf['ClassInfraFisica'].str.upper()\n",
    "pdf = replace_values(pdf, 'ClassInfraFisica', 'GREENFILD', 'GREENFIELD')\n",
    "pdf['ClassInfraFisica'].value_counts(dropna=False)"
   ]
  },
  {
   "cell_type": "markdown",
   "metadata": {},
   "source": [
    "### CompartilhamentoInfraFisica"
   ]
  },
  {
   "cell_type": "code",
   "execution_count": null,
   "metadata": {},
   "outputs": [],
   "source": [
    "pdf['CompartilhamentoInfraFisica'].value_counts(dropna=False)"
   ]
  },
  {
   "cell_type": "markdown",
   "metadata": {},
   "source": [
    "### CodTipoAntena"
   ]
  },
  {
   "cell_type": "code",
   "execution_count": null,
   "metadata": {},
   "outputs": [],
   "source": [
    "pdf['CodTipoAntena'].value_counts()"
   ]
  },
  {
   "cell_type": "code",
   "execution_count": null,
   "metadata": {},
   "outputs": [],
   "source": [
    "pdf['CodTipoAntena'] = pdf['CodTipoAntena'].fillna(0).astype(int)\n",
    "pdf['CodTipoAntena'] = pdf['CodTipoAntena'].astype(str)\n",
    "pdf['CodTipoAntena'].value_counts()"
   ]
  },
  {
   "cell_type": "markdown",
   "metadata": {},
   "source": [
    "### GanhoAntena"
   ]
  },
  {
   "cell_type": "code",
   "execution_count": null,
   "metadata": {},
   "outputs": [],
   "source": [
    "pdf['GanhoAntena'].value_counts()"
   ]
  },
  {
   "cell_type": "code",
   "execution_count": null,
   "metadata": {},
   "outputs": [],
   "source": [
    "pdf['GanhoAntena'] = pd.to_numeric(pdf['GanhoAntena'], errors='coerce')\n",
    "pdf['GanhoAntena']"
   ]
  },
  {
   "cell_type": "markdown",
   "metadata": {},
   "source": [
    "### FrenteCostaAntena"
   ]
  },
  {
   "cell_type": "code",
   "execution_count": null,
   "metadata": {},
   "outputs": [],
   "source": [
    "pdf['FrenteCostaAntena'] = pd.to_numeric(pdf['FrenteCostaAntena'], errors='coerce')\n",
    "pdf['FrenteCostaAntena']"
   ]
  },
  {
   "cell_type": "markdown",
   "metadata": {},
   "source": [
    "### AnguloMeiaPotenciaAntena"
   ]
  },
  {
   "cell_type": "code",
   "execution_count": null,
   "metadata": {},
   "outputs": [],
   "source": [
    "pdf['AnguloMeiaPotenciaAntena'] = pd.to_numeric(pdf['AnguloMeiaPotenciaAntena'], errors='coerce')\n",
    "pdf['AnguloMeiaPotenciaAntena']"
   ]
  },
  {
   "cell_type": "markdown",
   "metadata": {},
   "source": [
    "### AnguloElevacao"
   ]
  },
  {
   "cell_type": "code",
   "execution_count": null,
   "metadata": {},
   "outputs": [],
   "source": [
    "pdf['AnguloElevacao'] = pd.to_numeric(pdf['AnguloElevacao'], errors='coerce')\n",
    "pdf['AnguloElevacao']"
   ]
  },
  {
   "cell_type": "markdown",
   "metadata": {},
   "source": [
    "### Polarizacao"
   ]
  },
  {
   "cell_type": "code",
   "execution_count": null,
   "metadata": {},
   "outputs": [],
   "source": [
    "pdf['Polarizacao'] = pdf['Polarizacao'].str.upper()\n",
    "pdf['Polarizacao']"
   ]
  },
  {
   "cell_type": "markdown",
   "metadata": {},
   "source": [
    "### AlturaAntena"
   ]
  },
  {
   "cell_type": "code",
   "execution_count": null,
   "metadata": {},
   "outputs": [],
   "source": [
    "pdf['AlturaAntena'] = pd.to_numeric(pdf['AlturaAntena'], errors='coerce')\n",
    "pdf['AlturaAntena']"
   ]
  },
  {
   "cell_type": "markdown",
   "metadata": {},
   "source": [
    "### CodEquipamentoTransmissor"
   ]
  },
  {
   "cell_type": "code",
   "execution_count": null,
   "metadata": {},
   "outputs": [],
   "source": [
    "pdf['CodEquipamentoTransmissor'].value_counts()"
   ]
  },
  {
   "cell_type": "markdown",
   "metadata": {},
   "source": [
    "### PotenciaTransmissorWatts"
   ]
  },
  {
   "cell_type": "code",
   "execution_count": null,
   "metadata": {},
   "outputs": [],
   "source": [
    "pdf['PotenciaTransmissorWatts'].value_counts(dropna=False)"
   ]
  },
  {
   "cell_type": "markdown",
   "metadata": {},
   "source": [
    "### CodDebitoTFI"
   ]
  },
  {
   "cell_type": "code",
   "execution_count": null,
   "metadata": {},
   "outputs": [],
   "source": [
    "pdf['CodDebitoTFI'].value_counts(dropna=False)"
   ]
  },
  {
   "cell_type": "markdown",
   "metadata": {},
   "source": [
    "### DataLicenciamento"
   ]
  },
  {
   "cell_type": "code",
   "execution_count": null,
   "metadata": {},
   "outputs": [],
   "source": [
    "# pdf['DataLicenciamento'] = pd.to_datetime(pdf['DataLicenciamento'], errors='coerce')\n",
    "# pdf['IdadeLicenciamento'] = (pd.to_datetime('today') - pdf['DataLicenciamento']).dt.days\n",
    "# pdf['IdadeLicenciamento'].where(pdf['DataLicenciamento'].notna(), None, inplace=True)\n",
    "pdf['IdadeLicenciamento'] = pdf.apply(process_data, date_column='DataLicenciamento', axis=1)"
   ]
  },
  {
   "cell_type": "code",
   "execution_count": null,
   "metadata": {},
   "outputs": [],
   "source": [
    "# pdf[pdf['DataLicenciamento'].isna()][['DataLicenciamento', 'IdadeLicenciamento']]\n",
    "z = pdf[['DataLicenciamento', 'IdadeLicenciamento']]"
   ]
  },
  {
   "cell_type": "markdown",
   "metadata": {},
   "source": [
    "### DataPrimeiroLicenciamento"
   ]
  },
  {
   "cell_type": "code",
   "execution_count": null,
   "metadata": {},
   "outputs": [],
   "source": [
    "pdf['IdadePrimeiroLicenciamento'] = pdf.apply(process_data, date_column='DataPrimeiroLicenciamento', axis=1)"
   ]
  },
  {
   "cell_type": "code",
   "execution_count": null,
   "metadata": {},
   "outputs": [],
   "source": [
    "z = pdf[['NumEstacao', 'DataLicenciamento', 'IdadeLicenciamento', 'DataPrimeiroLicenciamento', 'IdadePrimeiroLicenciamento']]"
   ]
  },
  {
   "cell_type": "markdown",
   "metadata": {},
   "source": [
    "### DataValidade"
   ]
  },
  {
   "cell_type": "code",
   "execution_count": null,
   "metadata": {},
   "outputs": [],
   "source": [
    "pdf['DiasAteExpirar'] = pdf.apply(process_data, date_column='DataValidade', axis=1)"
   ]
  },
  {
   "cell_type": "code",
   "execution_count": null,
   "metadata": {},
   "outputs": [],
   "source": [
    "pdf[['DiasAteExpirar', 'DataValidade']]"
   ]
  },
  {
   "cell_type": "markdown",
   "metadata": {},
   "source": [
    "### NumFistelAssociado"
   ]
  },
  {
   "cell_type": "markdown",
   "metadata": {},
   "source": [
    "Huge number of NaNs and not that important of a column"
   ]
  },
  {
   "cell_type": "code",
   "execution_count": null,
   "metadata": {},
   "outputs": [],
   "source": [
    "pdf['NumFistelAssociado'].value_counts(dropna=False)"
   ]
  },
  {
   "cell_type": "markdown",
   "metadata": {},
   "source": [
    "# Labeled ClassInfraFisica proportion"
   ]
  },
  {
   "cell_type": "code",
   "execution_count": null,
   "metadata": {},
   "outputs": [],
   "source": [
    "df = get_cleaned_df('PR')"
   ]
  },
  {
   "cell_type": "code",
   "execution_count": null,
   "metadata": {},
   "outputs": [],
   "source": [
    "dfg = df.groupby('NumEstacao').agg(lambda x: set_aggregation(x))"
   ]
  },
  {
   "cell_type": "code",
   "execution_count": null,
   "metadata": {},
   "outputs": [],
   "source": [
    "z = dfg[['ClassInfraFisica']]"
   ]
  },
  {
   "cell_type": "code",
   "execution_count": null,
   "metadata": {},
   "outputs": [],
   "source": [
    "x = dfg.isna().sum().reset_index(name='NaN_Count').merge(dfg.count().reset_index(name='Non_NaN_Count'), how='outer')\n",
    "x['NaN_proportion'] = 100*x['NaN_Count']/(x['NaN_Count'] + x['Non_NaN_Count'])\n",
    "x[x['index']=='ClassInfraFisica']"
   ]
  },
  {
   "cell_type": "markdown",
   "metadata": {},
   "source": [
    "# Defining Grouping Criterion for Each Column"
   ]
  },
  {
   "cell_type": "code",
   "execution_count": null,
   "metadata": {},
   "outputs": [],
   "source": [
    "df = get_cleaned_df('PR')\n",
    "df.head(1)"
   ]
  },
  {
   "cell_type": "code",
   "execution_count": 9,
   "metadata": {},
   "outputs": [
    {
     "name": "stdout",
     "output_type": "stream",
     "text": [
      "Column: NumEstacao, Data Type: int64\n",
      "Column: SiglaUf, Data Type: object\n",
      "Column: CodMunicipio, Data Type: int64\n",
      "Column: FreqTxMHz, Data Type: float64\n",
      "Column: FreqRxMHz, Data Type: float64\n",
      "Column: CodTipoClasseEstacao, Data Type: object\n",
      "Column: ClassInfraFisica, Data Type: object\n",
      "Column: CompartilhamentoInfraFisica, Data Type: object\n",
      "Column: CodTipoAntena, Data Type: int64\n",
      "Column: GanhoAntena, Data Type: object\n",
      "Column: FrenteCostaAntena, Data Type: float64\n",
      "Column: AnguloMeiaPotenciaAntena, Data Type: float64\n",
      "Column: AnguloElevacao, Data Type: float64\n",
      "Column: Polarizacao, Data Type: object\n",
      "Column: AlturaAntena, Data Type: float64\n",
      "Column: CodEquipamentoTransmissor, Data Type: float64\n",
      "Column: PotenciaTransmissorWatts, Data Type: float64\n",
      "Column: CodDebitoTFI, Data Type: object\n",
      "Column: DataValidade, Data Type: object\n",
      "Column: LarguraFaixaNecessaria, Data Type: object\n",
      "Column: CaracteristicasBasicas, Data Type: object\n",
      "Column: Tecnologia_e_Tipo, Data Type: object\n",
      "Column: DiasDesdeLicenciamento, Data Type: float64\n",
      "Column: DiasDesdePrimeiroLicenciamento, Data Type: int64\n",
      "Column: DiasAteExpirar, Data Type: int64\n"
     ]
    }
   ],
   "source": [
    "for col in df.columns:\n",
    "    print(f\"Column: {col}, Data Type: {df[col].dtype}\")"
   ]
  },
  {
   "cell_type": "markdown",
   "metadata": {},
   "source": [
    "### Checking columns whose type is _object_"
   ]
  },
  {
   "cell_type": "code",
   "execution_count": null,
   "metadata": {},
   "outputs": [],
   "source": [
    "# df['SiglaUf'].astype(str)\n",
    "# df['CodTipoClasseEstacao'].astype(str)\n",
    "# df['ClassInfraFisica'].astype(str).sort_values()\n",
    "# df['CompartilhamentoInfraFisica'].astype(str).sort_values()\n",
    "# df['GanhoAntena'].astype(float)\n",
    "# df['Polarizacao'].astype(str)\n",
    "# df['CodDebitoTFI'].astype(str)\n",
    "x=df['LarguraFaixaNecessaria'].astype(str) #pegar so a string entre ''\n",
    "y = df['CaracteristicasBasicas'].astype(str) #pegar so a string entre ''"
   ]
  },
  {
   "cell_type": "code",
   "execution_count": null,
   "metadata": {},
   "outputs": [],
   "source": [
    "problematic_rows_indices = df[df['DataValidade'].apply(lambda x: pd.to_datetime(x, errors='coerce') is pd.NaT)].index\n",
    "\n",
    "for index in problematic_rows_indices:\n",
    "    print(f\"Index: {index}, Value: {df.at[index, 'DataValidade']}\")\n"
   ]
  },
  {
   "cell_type": "code",
   "execution_count": 11,
   "metadata": {},
   "outputs": [
    {
     "data": {
      "text/plain": [
       "0          WCDMA\n",
       "1          WCDMA\n",
       "2          WCDMA\n",
       "3            GSM\n",
       "4            GSM\n",
       "           ...  \n",
       "263452    NR_NSA\n",
       "263453    NR_NSA\n",
       "263454     WCDMA\n",
       "263455     WCDMA\n",
       "263456     WCDMA\n",
       "Name: Tecnologia_e_Tipo, Length: 263457, dtype: object"
      ]
     },
     "execution_count": 11,
     "metadata": {},
     "output_type": "execute_result"
    }
   ],
   "source": [
    "df['Tecnologia_e_Tipo'].astype(str)"
   ]
  },
  {
   "cell_type": "code",
   "execution_count": 3,
   "metadata": {},
   "outputs": [],
   "source": []
  },
  {
   "cell_type": "markdown",
   "metadata": {},
   "source": [
    "## Nan Treatment"
   ]
  },
  {
   "cell_type": "code",
   "execution_count": 10,
   "metadata": {},
   "outputs": [
    {
     "data": {
      "text/plain": [
       "Index(['NumEstacao', 'SiglaUf', 'CodMunicipio', 'FreqTxMHz', 'FreqRxMHz',\n",
       "       'CodTipoClasseEstacao', 'ClassInfraFisica',\n",
       "       'CompartilhamentoInfraFisica', 'CodTipoAntena', 'GanhoAntena',\n",
       "       'FrenteCostaAntena', 'AnguloMeiaPotenciaAntena', 'AnguloElevacao',\n",
       "       'Polarizacao', 'AlturaAntena', 'CodEquipamentoTransmissor',\n",
       "       'PotenciaTransmissorWatts', 'CodDebitoTFI', 'LarguraFaixaNecessaria',\n",
       "       'CaracteristicasBasicas', 'Tecnologia_e_Tipo', 'DiasDesdeLicenciamento',\n",
       "       'DiasDesdePrimeiroLicenciamento', 'DiasAteExpirar'],\n",
       "      dtype='object')"
      ]
     },
     "execution_count": 10,
     "metadata": {},
     "output_type": "execute_result"
    }
   ],
   "source": [
    "df = get_cleaned_df('AC')\n",
    "df.columns"
   ]
  },
  {
   "cell_type": "code",
   "execution_count": 11,
   "metadata": {},
   "outputs": [
    {
     "name": "stdout",
     "output_type": "stream",
     "text": [
      "None\n",
      "nan\n",
      "None\n",
      "nan\n",
      "--\n",
      "<class 'NoneType'>\n",
      "<class 'numpy.float64'>\n",
      "<class 'str'>\n",
      "<class 'numpy.float64'>\n"
     ]
    }
   ],
   "source": [
    "print(df.iloc[6999]['GanhoAntena'])\n",
    "print(df.iloc[6999]['FreqRxMHz'])\n",
    "print(df.iloc[6999]['ClassInfraFisica'])\n",
    "print(df.iloc[4245]['CodEquipamentoTransmissor'])\n",
    "print('--')\n",
    "print(type(df.iloc[6999]['GanhoAntena']))\n",
    "print(type(df.iloc[6999]['FreqRxMHz']))\n",
    "print(type(df.iloc[6999]['ClassInfraFisica']))\n",
    "print(type(df.iloc[4245]['CodEquipamentoTransmissor']))"
   ]
  },
  {
   "cell_type": "code",
   "execution_count": 12,
   "metadata": {},
   "outputs": [
    {
     "data": {
      "text/plain": [
       "Tecnologia_e_Tipo\n",
       "DMR             6\n",
       "GSM           983\n",
       "LTE          3719\n",
       "NR_NSA         24\n",
       "NR_SA-NSA     245\n",
       "None         3004\n",
       "VHF             8\n",
       "WCDMA         902\n",
       "dtype: int64"
      ]
     },
     "execution_count": 12,
     "metadata": {},
     "output_type": "execute_result"
    }
   ],
   "source": [
    "df.groupby('Tecnologia_e_Tipo', dropna=False).size()"
   ]
  },
  {
   "cell_type": "code",
   "execution_count": 17,
   "metadata": {},
   "outputs": [
    {
     "data": {
      "text/plain": [
       "2294    None\n",
       "2295    None\n",
       "2296    None\n",
       "2297    None\n",
       "2298    None\n",
       "        ... \n",
       "8878    None\n",
       "8879    None\n",
       "8880    None\n",
       "8881    None\n",
       "8882    None\n",
       "Name: Tecnologia_e_Tipo, Length: 3004, dtype: object"
      ]
     },
     "execution_count": 17,
     "metadata": {},
     "output_type": "execute_result"
    }
   ],
   "source": [
    "df[df['Tecnologia_e_Tipo'] == 'None']['Tecnologia_e_Tipo']"
   ]
  },
  {
   "cell_type": "code",
   "execution_count": 19,
   "metadata": {},
   "outputs": [
    {
     "data": {
      "text/plain": [
       "NumEstacao\n",
       "684990849     63\n",
       "684990822     50\n",
       "684991233     48\n",
       "1000628164    45\n",
       "700024506     45\n",
       "              ..\n",
       "695315803      1\n",
       "695315790      1\n",
       "1000602092     1\n",
       "1000602084     1\n",
       "1006972150     1\n",
       "Length: 1506, dtype: int64"
      ]
     },
     "execution_count": 19,
     "metadata": {},
     "output_type": "execute_result"
    }
   ],
   "source": [
    "df.groupby('NumEstacao', dropna=False).size().sort_values(ascending=False)"
   ]
  },
  {
   "cell_type": "code",
   "execution_count": 21,
   "metadata": {},
   "outputs": [
    {
     "data": {
      "text/plain": [
       "CodTipoClasseEstacao\n",
       "FB    6198\n",
       "FX    1427\n",
       "ML    1202\n",
       "BR      25\n",
       "XR      22\n",
       "FC       6\n",
       "FP       6\n",
       "FA       3\n",
       "RC       2\n",
       "dtype: int64"
      ]
     },
     "execution_count": 21,
     "metadata": {},
     "output_type": "execute_result"
    }
   ],
   "source": [
    "df.groupby('CodTipoClasseEstacao', dropna=False).size().sort_values(ascending=False)"
   ]
  },
  {
   "cell_type": "code",
   "execution_count": 22,
   "metadata": {},
   "outputs": [
    {
     "data": {
      "text/plain": [
       "ClassInfraFisica\n",
       "None           6157\n",
       "GREENFIELD     2535\n",
       "ROOFTOP         129\n",
       "RAN SHARING      39\n",
       "STREETLEVEL      24\n",
       "INDOOR            7\n",
       "dtype: int64"
      ]
     },
     "execution_count": 22,
     "metadata": {},
     "output_type": "execute_result"
    }
   ],
   "source": [
    "df.groupby('ClassInfraFisica', dropna=False).size().sort_values(ascending=False)"
   ]
  },
  {
   "cell_type": "code",
   "execution_count": 27,
   "metadata": {},
   "outputs": [
    {
     "data": {
      "text/html": [
       "<div>\n",
       "<style scoped>\n",
       "    .dataframe tbody tr th:only-of-type {\n",
       "        vertical-align: middle;\n",
       "    }\n",
       "\n",
       "    .dataframe tbody tr th {\n",
       "        vertical-align: top;\n",
       "    }\n",
       "\n",
       "    .dataframe thead th {\n",
       "        text-align: right;\n",
       "    }\n",
       "</style>\n",
       "<table border=\"1\" class=\"dataframe\">\n",
       "  <thead>\n",
       "    <tr style=\"text-align: right;\">\n",
       "      <th></th>\n",
       "      <th>NumEstacao</th>\n",
       "      <th>SiglaUf</th>\n",
       "      <th>CodMunicipio</th>\n",
       "      <th>FreqTxMHz</th>\n",
       "      <th>FreqRxMHz</th>\n",
       "      <th>CodTipoClasseEstacao</th>\n",
       "      <th>ClassInfraFisica</th>\n",
       "      <th>CompartilhamentoInfraFisica</th>\n",
       "      <th>CodTipoAntena</th>\n",
       "      <th>GanhoAntena</th>\n",
       "      <th>...</th>\n",
       "      <th>AlturaAntena</th>\n",
       "      <th>CodEquipamentoTransmissor</th>\n",
       "      <th>PotenciaTransmissorWatts</th>\n",
       "      <th>CodDebitoTFI</th>\n",
       "      <th>LarguraFaixaNecessaria</th>\n",
       "      <th>CaracteristicasBasicas</th>\n",
       "      <th>Tecnologia_e_Tipo</th>\n",
       "      <th>DiasDesdeLicenciamento</th>\n",
       "      <th>DiasDesdePrimeiroLicenciamento</th>\n",
       "      <th>DiasAteExpirar</th>\n",
       "    </tr>\n",
       "  </thead>\n",
       "  <tbody>\n",
       "  </tbody>\n",
       "</table>\n",
       "<p>0 rows × 24 columns</p>\n",
       "</div>"
      ],
      "text/plain": [
       "Empty DataFrame\n",
       "Columns: [NumEstacao, SiglaUf, CodMunicipio, FreqTxMHz, FreqRxMHz, CodTipoClasseEstacao, ClassInfraFisica, CompartilhamentoInfraFisica, CodTipoAntena, GanhoAntena, FrenteCostaAntena, AnguloMeiaPotenciaAntena, AnguloElevacao, Polarizacao, AlturaAntena, CodEquipamentoTransmissor, PotenciaTransmissorWatts, CodDebitoTFI, LarguraFaixaNecessaria, CaracteristicasBasicas, Tecnologia_e_Tipo, DiasDesdeLicenciamento, DiasDesdePrimeiroLicenciamento, DiasAteExpirar]\n",
       "Index: []\n",
       "\n",
       "[0 rows x 24 columns]"
      ]
     },
     "execution_count": 27,
     "metadata": {},
     "output_type": "execute_result"
    }
   ],
   "source": [
    "df.groupby('FrenteCostaAntena', dropna=False).size().sort_values(ascending=False)\n",
    "df[df['FrenteCostaAntena'] == 'NaN']"
   ]
  },
  {
   "cell_type": "code",
   "execution_count": 34,
   "metadata": {},
   "outputs": [
    {
     "data": {
      "text/html": [
       "<div>\n",
       "<style scoped>\n",
       "    .dataframe tbody tr th:only-of-type {\n",
       "        vertical-align: middle;\n",
       "    }\n",
       "\n",
       "    .dataframe tbody tr th {\n",
       "        vertical-align: top;\n",
       "    }\n",
       "\n",
       "    .dataframe thead th {\n",
       "        text-align: right;\n",
       "    }\n",
       "</style>\n",
       "<table border=\"1\" class=\"dataframe\">\n",
       "  <thead>\n",
       "    <tr style=\"text-align: right;\">\n",
       "      <th></th>\n",
       "      <th>NumEstacao</th>\n",
       "      <th>SiglaUf</th>\n",
       "      <th>CodMunicipio</th>\n",
       "      <th>FreqTxMHz</th>\n",
       "      <th>FreqRxMHz</th>\n",
       "      <th>CodTipoClasseEstacao</th>\n",
       "      <th>ClassInfraFisica</th>\n",
       "      <th>CompartilhamentoInfraFisica</th>\n",
       "      <th>CodTipoAntena</th>\n",
       "      <th>GanhoAntena</th>\n",
       "      <th>...</th>\n",
       "      <th>AlturaAntena</th>\n",
       "      <th>CodEquipamentoTransmissor</th>\n",
       "      <th>PotenciaTransmissorWatts</th>\n",
       "      <th>CodDebitoTFI</th>\n",
       "      <th>LarguraFaixaNecessaria</th>\n",
       "      <th>CaracteristicasBasicas</th>\n",
       "      <th>Tecnologia_e_Tipo</th>\n",
       "      <th>DiasDesdeLicenciamento</th>\n",
       "      <th>DiasDesdePrimeiroLicenciamento</th>\n",
       "      <th>DiasAteExpirar</th>\n",
       "    </tr>\n",
       "  </thead>\n",
       "  <tbody>\n",
       "  </tbody>\n",
       "</table>\n",
       "<p>0 rows × 24 columns</p>\n",
       "</div>"
      ],
      "text/plain": [
       "Empty DataFrame\n",
       "Columns: [NumEstacao, SiglaUf, CodMunicipio, FreqTxMHz, FreqRxMHz, CodTipoClasseEstacao, ClassInfraFisica, CompartilhamentoInfraFisica, CodTipoAntena, GanhoAntena, FrenteCostaAntena, AnguloMeiaPotenciaAntena, AnguloElevacao, Polarizacao, AlturaAntena, CodEquipamentoTransmissor, PotenciaTransmissorWatts, CodDebitoTFI, LarguraFaixaNecessaria, CaracteristicasBasicas, Tecnologia_e_Tipo, DiasDesdeLicenciamento, DiasDesdePrimeiroLicenciamento, DiasAteExpirar]\n",
       "Index: []\n",
       "\n",
       "[0 rows x 24 columns]"
      ]
     },
     "execution_count": 34,
     "metadata": {},
     "output_type": "execute_result"
    }
   ],
   "source": [
    "df.groupby('CodEquipamentoTransmissor', dropna=False).size().sort_values(ascending=False)\n",
    "df[df['CodEquipamentoTransmissor'] == 'NaN']"
   ]
  },
  {
   "cell_type": "code",
   "execution_count": 41,
   "metadata": {},
   "outputs": [
    {
     "data": {
      "text/plain": [
       "DiasAteExpirar\n",
       "-3309    2111\n",
       "-2199    1181\n",
       "-2657     828\n",
       "-1323     490\n",
       "-5264     472\n",
       "         ... \n",
       "-3713       2\n",
       "-3619       2\n",
       "-3943       2\n",
       "-913        1\n",
       " 1          1\n",
       "Length: 69, dtype: int64"
      ]
     },
     "execution_count": 41,
     "metadata": {},
     "output_type": "execute_result"
    }
   ],
   "source": [
    "df.groupby('DiasAteExpirar', dropna=False).size().sort_values(ascending=False)"
   ]
  },
  {
   "cell_type": "markdown",
   "metadata": {},
   "source": [
    "## Grouping"
   ]
  },
  {
   "cell_type": "code",
   "execution_count": 5,
   "metadata": {},
   "outputs": [
    {
     "data": {
      "text/html": [
       "<div>\n",
       "<style scoped>\n",
       "    .dataframe tbody tr th:only-of-type {\n",
       "        vertical-align: middle;\n",
       "    }\n",
       "\n",
       "    .dataframe tbody tr th {\n",
       "        vertical-align: top;\n",
       "    }\n",
       "\n",
       "    .dataframe thead th {\n",
       "        text-align: right;\n",
       "    }\n",
       "</style>\n",
       "<table border=\"1\" class=\"dataframe\">\n",
       "  <thead>\n",
       "    <tr style=\"text-align: right;\">\n",
       "      <th></th>\n",
       "      <th>NumEstacao</th>\n",
       "      <th>SiglaUf</th>\n",
       "      <th>CodMunicipio</th>\n",
       "      <th>FreqTxMHz</th>\n",
       "      <th>FreqRxMHz</th>\n",
       "      <th>CodTipoClasseEstacao</th>\n",
       "      <th>ClassInfraFisica</th>\n",
       "      <th>CompartilhamentoInfraFisica</th>\n",
       "      <th>CodTipoAntena</th>\n",
       "      <th>GanhoAntena</th>\n",
       "      <th>...</th>\n",
       "      <th>AlturaAntena</th>\n",
       "      <th>CodEquipamentoTransmissor</th>\n",
       "      <th>PotenciaTransmissorWatts</th>\n",
       "      <th>CodDebitoTFI</th>\n",
       "      <th>LarguraFaixaNecessaria</th>\n",
       "      <th>CaracteristicasBasicas</th>\n",
       "      <th>Tecnologia_e_Tipo</th>\n",
       "      <th>DiasDesdeLicenciamento</th>\n",
       "      <th>DiasDesdePrimeiroLicenciamento</th>\n",
       "      <th>DiasAteExpirar</th>\n",
       "    </tr>\n",
       "  </thead>\n",
       "  <tbody>\n",
       "    <tr>\n",
       "      <th>0</th>\n",
       "      <td>64300</td>\n",
       "      <td>AC</td>\n",
       "      <td>1200401</td>\n",
       "      <td>874.5</td>\n",
       "      <td>829.5</td>\n",
       "      <td>FB</td>\n",
       "      <td>None</td>\n",
       "      <td>11.2</td>\n",
       "      <td>760</td>\n",
       "      <td>11.2</td>\n",
       "      <td>...</td>\n",
       "      <td>35.0</td>\n",
       "      <td>1.998070e+10</td>\n",
       "      <td>40.0</td>\n",
       "      <td>G</td>\n",
       "      <td>5M00</td>\n",
       "      <td>G9W</td>\n",
       "      <td>WCDMA</td>\n",
       "      <td>118.0</td>\n",
       "      <td>8404</td>\n",
       "      <td>-233</td>\n",
       "    </tr>\n",
       "  </tbody>\n",
       "</table>\n",
       "<p>1 rows × 24 columns</p>\n",
       "</div>"
      ],
      "text/plain": [
       "   NumEstacao SiglaUf  CodMunicipio  FreqTxMHz  FreqRxMHz  \\\n",
       "0       64300      AC       1200401      874.5      829.5   \n",
       "\n",
       "  CodTipoClasseEstacao ClassInfraFisica  CompartilhamentoInfraFisica  \\\n",
       "0                   FB             None                         11.2   \n",
       "\n",
       "   CodTipoAntena GanhoAntena  ...  AlturaAntena  CodEquipamentoTransmissor  \\\n",
       "0            760        11.2  ...          35.0               1.998070e+10   \n",
       "\n",
       "   PotenciaTransmissorWatts CodDebitoTFI  LarguraFaixaNecessaria  \\\n",
       "0                      40.0            G                    5M00   \n",
       "\n",
       "   CaracteristicasBasicas  Tecnologia_e_Tipo DiasDesdeLicenciamento  \\\n",
       "0                     G9W              WCDMA                  118.0   \n",
       "\n",
       "  DiasDesdePrimeiroLicenciamento DiasAteExpirar  \n",
       "0                           8404           -233  \n",
       "\n",
       "[1 rows x 24 columns]"
      ]
     },
     "execution_count": 5,
     "metadata": {},
     "output_type": "execute_result"
    }
   ],
   "source": [
    "df = get_cleaned_df('AC')\n",
    "df.head(1)"
   ]
  },
  {
   "cell_type": "code",
   "execution_count": null,
   "metadata": {},
   "outputs": [],
   "source": [
    "aggregation_criteria = {\n",
    "    'SiglaUf': 'max',\n",
    "    'CodMunicipio': 'max',\n",
    "    'FreqTxMHz': 'mean',\n",
    "    'FreqRxMHz': 'mean',\n",
    "    'CodTipoClasseEstacao': lambda x: set(x),\n",
    "    'ClassInfraFisica': 'max',\n",
    "    'CompartilhamentoInfraFisica': 'max',\n",
    "    'CodTipoAntena': lambda x: set(x),\n",
    "    'GanhoAntena': 'mean',\n",
    "    'CodDebitoTFI': lambda x: set(x)\n",
    "}\n",
    "\n",
    "g = df.groupby('NumEstacao').agg(aggregation_criteria).reset_index()"
   ]
  }
 ],
 "metadata": {
  "kernelspec": {
   "display_name": "Python 3",
   "language": "python",
   "name": "python3"
  },
  "language_info": {
   "codemirror_mode": {
    "name": "ipython",
    "version": 3
   },
   "file_extension": ".py",
   "mimetype": "text/x-python",
   "name": "python",
   "nbconvert_exporter": "python",
   "pygments_lexer": "ipython3",
   "version": "3.12.0"
  }
 },
 "nbformat": 4,
 "nbformat_minor": 2
}
