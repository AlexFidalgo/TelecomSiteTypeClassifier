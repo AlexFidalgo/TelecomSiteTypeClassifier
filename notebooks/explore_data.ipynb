{
 "cells": [
  {
   "cell_type": "code",
   "execution_count": 29,
   "metadata": {},
   "outputs": [],
   "source": [
    "import os\n",
    "import polars as pl\n",
    "from transform_data import read_csv\n"
   ]
  },
  {
   "cell_type": "code",
   "execution_count": 25,
   "metadata": {},
   "outputs": [
    {
     "data": {
      "text/html": [
       "<div><style>\n",
       ".dataframe > thead > tr > th,\n",
       ".dataframe > tbody > tr > td {\n",
       "  text-align: right;\n",
       "  white-space: pre-wrap;\n",
       "}\n",
       "</style>\n",
       "<small>shape: (5, 40)</small><table border=\"1\" class=\"dataframe\"><thead><tr><th>Status.state</th><th>NomeEntidade</th><th>NumFistel</th><th>NumServico</th><th>NumAto</th><th>NumEstacao</th><th>EnderecoEstacao</th><th>EndComplemento</th><th>SiglaUf</th><th>CodMunicipio</th><th>DesignacaoEmissao</th><th>Tecnologia</th><th>tipoTecnologia</th><th>meioAcesso</th><th>FreqTxMHz</th><th>FreqRxMHz</th><th>Azimute</th><th>CodTipoClasseEstacao</th><th>ClassInfraFisica</th><th>CompartilhamentoInfraFisica</th><th>CodTipoAntena</th><th>CodEquipamentoAntena</th><th>GanhoAntena</th><th>FrenteCostaAntena</th><th>AnguloMeiaPotenciaAntena</th><th>AnguloElevacao</th><th>Polarizacao</th><th>AlturaAntena</th><th>CodEquipamentoTransmissor</th><th>PotenciaTransmissorWatts</th><th>Latitude</th><th>Longitude</th><th>CodDebitoTFI</th><th>DataLicenciamento</th><th>DataPrimeiroLicenciamento</th><th>NumRede</th><th>_id</th><th>DataValidade</th><th>NumFistelAssociado</th><th>NomeEntidadeAssociado</th></tr><tr><td>str</td><td>str</td><td>i64</td><td>i64</td><td>f64</td><td>i64</td><td>str</td><td>str</td><td>str</td><td>i64</td><td>str</td><td>str</td><td>str</td><td>str</td><td>f64</td><td>f64</td><td>f64</td><td>str</td><td>str</td><td>str</td><td>i64</td><td>i64</td><td>str</td><td>f64</td><td>f64</td><td>f64</td><td>str</td><td>f64</td><td>i64</td><td>f64</td><td>f64</td><td>f64</td><td>str</td><td>str</td><td>str</td><td>str</td><td>str</td><td>str</td><td>str</td><td>str</td></tr></thead><tbody><tr><td>&quot;LIC-LIC-01&quot;</td><td>&quot;TELEFONICA BRA…</td><td>50409146366</td><td>10</td><td>7.1842008e7</td><td>64300</td><td>&quot;RUA FLORIANO P…</td><td>null</td><td>&quot;AC&quot;</td><td>1200401</td><td>&quot;5M00G9W&quot;</td><td>&quot;WCDMA&quot;</td><td>null</td><td>null</td><td>874.5</td><td>829.5</td><td>40.0</td><td>&quot;FB&quot;</td><td>null</td><td>&quot;NA&quot;</td><td>760</td><td>5200301293</td><td>&quot;11.2&quot;</td><td>23.0</td><td>65.0</td><td>0.0</td><td>&quot;X&quot;</td><td>35.0</td><td>19980701882</td><td>40.0</td><td>-9.972025</td><td>-67.813556</td><td>&quot;G&quot;</td><td>&quot;2023-08-05&quot;</td><td>&quot;2000-11-27&quot;</td><td>null</td><td>&quot;4d5c019f58c7e&quot;</td><td>&quot;2024-07-21&quot;</td><td>null</td><td>null</td></tr><tr><td>&quot;LIC-LIC-01&quot;</td><td>&quot;TELEFONICA BRA…</td><td>50409146366</td><td>10</td><td>7.1842008e7</td><td>64300</td><td>&quot;RUA FLORIANO P…</td><td>null</td><td>&quot;AC&quot;</td><td>1200401</td><td>&quot;200KG7W&quot;</td><td>&quot;GSM&quot;</td><td>null</td><td>null</td><td>874.5</td><td>829.5</td><td>40.0</td><td>&quot;FB&quot;</td><td>null</td><td>&quot;NA&quot;</td><td>760</td><td>7690501705</td><td>&quot;14.3&quot;</td><td>26.0</td><td>82.0</td><td>0.0</td><td>&quot;X&quot;</td><td>35.0</td><td>910502519</td><td>32.5</td><td>-9.972025</td><td>-67.813556</td><td>&quot;G&quot;</td><td>&quot;2023-08-05&quot;</td><td>&quot;2000-11-27&quot;</td><td>null</td><td>&quot;4d5c019f58c85&quot;</td><td>&quot;2024-07-21&quot;</td><td>null</td><td>null</td></tr><tr><td>&quot;LIC-LIC-01&quot;</td><td>&quot;TELEFONICA BRA…</td><td>50409146366</td><td>10</td><td>7.1842008e7</td><td>64300</td><td>&quot;RUA FLORIANO P…</td><td>null</td><td>&quot;AC&quot;</td><td>1200401</td><td>&quot;200KG7W&quot;</td><td>&quot;GSM&quot;</td><td>null</td><td>null</td><td>874.5</td><td>829.5</td><td>180.0</td><td>&quot;FB&quot;</td><td>null</td><td>&quot;NA&quot;</td><td>760</td><td>7690501705</td><td>&quot;14.3&quot;</td><td>26.0</td><td>82.0</td><td>0.0</td><td>&quot;X&quot;</td><td>35.0</td><td>910502519</td><td>32.5</td><td>-9.972025</td><td>-67.813556</td><td>&quot;G&quot;</td><td>&quot;2023-08-05&quot;</td><td>&quot;2000-11-27&quot;</td><td>null</td><td>&quot;4d5c019f58c86&quot;</td><td>&quot;2024-07-21&quot;</td><td>null</td><td>null</td></tr><tr><td>&quot;LIC-LIC-01&quot;</td><td>&quot;TELEFONICA BRA…</td><td>50409146366</td><td>10</td><td>7.1842008e7</td><td>64300</td><td>&quot;RUA FLORIANO P…</td><td>null</td><td>&quot;AC&quot;</td><td>1200401</td><td>&quot;5M00G9W&quot;</td><td>&quot;WCDMA&quot;</td><td>null</td><td>null</td><td>874.5</td><td>829.5</td><td>180.0</td><td>&quot;FB&quot;</td><td>null</td><td>&quot;NA&quot;</td><td>760</td><td>5200301293</td><td>&quot;11.2&quot;</td><td>23.0</td><td>65.0</td><td>0.0</td><td>&quot;X&quot;</td><td>35.0</td><td>19980701882</td><td>40.0</td><td>-9.972025</td><td>-67.813556</td><td>&quot;G&quot;</td><td>&quot;2023-08-05&quot;</td><td>&quot;2000-11-27&quot;</td><td>null</td><td>&quot;4d5c019f58c87&quot;</td><td>&quot;2024-07-21&quot;</td><td>null</td><td>null</td></tr><tr><td>&quot;LIC-LIC-01&quot;</td><td>&quot;TELEFONICA BRA…</td><td>50409146366</td><td>10</td><td>7.1842008e7</td><td>64300</td><td>&quot;RUA FLORIANO P…</td><td>null</td><td>&quot;AC&quot;</td><td>1200401</td><td>&quot;200KG7W&quot;</td><td>&quot;GSM&quot;</td><td>null</td><td>null</td><td>874.5</td><td>829.5</td><td>280.0</td><td>&quot;FB&quot;</td><td>null</td><td>&quot;NA&quot;</td><td>760</td><td>7690501705</td><td>&quot;14.3&quot;</td><td>26.0</td><td>82.0</td><td>0.0</td><td>&quot;X&quot;</td><td>35.0</td><td>910502519</td><td>32.5</td><td>-9.972025</td><td>-67.813556</td><td>&quot;G&quot;</td><td>&quot;2023-08-05&quot;</td><td>&quot;2000-11-27&quot;</td><td>null</td><td>&quot;4d5c019f58c8f&quot;</td><td>&quot;2024-07-21&quot;</td><td>null</td><td>null</td></tr></tbody></table></div>"
      ],
      "text/plain": [
       "shape: (5, 40)\n",
       "┌───────────┬───────────┬───────────┬───────────┬───┬───────────┬───────────┬───────────┬──────────┐\n",
       "│ Status.st ┆ NomeEntid ┆ NumFistel ┆ NumServic ┆ … ┆ _id       ┆ DataValid ┆ NumFistel ┆ NomeEnti │\n",
       "│ ate       ┆ ade       ┆ ---       ┆ o         ┆   ┆ ---       ┆ ade       ┆ Associado ┆ dadeAsso │\n",
       "│ ---       ┆ ---       ┆ i64       ┆ ---       ┆   ┆ str       ┆ ---       ┆ ---       ┆ ciado    │\n",
       "│ str       ┆ str       ┆           ┆ i64       ┆   ┆           ┆ str       ┆ str       ┆ ---      │\n",
       "│           ┆           ┆           ┆           ┆   ┆           ┆           ┆           ┆ str      │\n",
       "╞═══════════╪═══════════╪═══════════╪═══════════╪═══╪═══════════╪═══════════╪═══════════╪══════════╡\n",
       "│ LIC-LIC-0 ┆ TELEFONIC ┆ 504091463 ┆ 10        ┆ … ┆ 4d5c019f5 ┆ 2024-07-2 ┆ null      ┆ null     │\n",
       "│ 1         ┆ A BRASIL  ┆ 66        ┆           ┆   ┆ 8c7e      ┆ 1         ┆           ┆          │\n",
       "│           ┆ S.A.      ┆           ┆           ┆   ┆           ┆           ┆           ┆          │\n",
       "│ LIC-LIC-0 ┆ TELEFONIC ┆ 504091463 ┆ 10        ┆ … ┆ 4d5c019f5 ┆ 2024-07-2 ┆ null      ┆ null     │\n",
       "│ 1         ┆ A BRASIL  ┆ 66        ┆           ┆   ┆ 8c85      ┆ 1         ┆           ┆          │\n",
       "│           ┆ S.A.      ┆           ┆           ┆   ┆           ┆           ┆           ┆          │\n",
       "│ LIC-LIC-0 ┆ TELEFONIC ┆ 504091463 ┆ 10        ┆ … ┆ 4d5c019f5 ┆ 2024-07-2 ┆ null      ┆ null     │\n",
       "│ 1         ┆ A BRASIL  ┆ 66        ┆           ┆   ┆ 8c86      ┆ 1         ┆           ┆          │\n",
       "│           ┆ S.A.      ┆           ┆           ┆   ┆           ┆           ┆           ┆          │\n",
       "│ LIC-LIC-0 ┆ TELEFONIC ┆ 504091463 ┆ 10        ┆ … ┆ 4d5c019f5 ┆ 2024-07-2 ┆ null      ┆ null     │\n",
       "│ 1         ┆ A BRASIL  ┆ 66        ┆           ┆   ┆ 8c87      ┆ 1         ┆           ┆          │\n",
       "│           ┆ S.A.      ┆           ┆           ┆   ┆           ┆           ┆           ┆          │\n",
       "│ LIC-LIC-0 ┆ TELEFONIC ┆ 504091463 ┆ 10        ┆ … ┆ 4d5c019f5 ┆ 2024-07-2 ┆ null      ┆ null     │\n",
       "│ 1         ┆ A BRASIL  ┆ 66        ┆           ┆   ┆ 8c8f      ┆ 1         ┆           ┆          │\n",
       "│           ┆ S.A.      ┆           ┆           ┆   ┆           ┆           ┆           ┆          │\n",
       "└───────────┴───────────┴───────────┴───────────┴───┴───────────┴───────────┴───────────┴──────────┘"
      ]
     },
     "execution_count": 25,
     "metadata": {},
     "output_type": "execute_result"
    }
   ],
   "source": [
    "csv_files_dir = '../data/csv_files'\n",
    "file = 'AC.csv'\n",
    "file_path = os.path.join(csv_files_dir, file)\n",
    "df = read_csv(file_path, separator = ',')\n",
    "df.head()"
   ]
  },
  {
   "cell_type": "code",
   "execution_count": 27,
   "metadata": {},
   "outputs": [
    {
     "data": {
      "text/html": [
       "<div><style>\n",
       ".dataframe > thead > tr > th,\n",
       ".dataframe > tbody > tr > td {\n",
       "  text-align: right;\n",
       "  white-space: pre-wrap;\n",
       "}\n",
       "</style>\n",
       "<small>shape: (5, 40)</small><table border=\"1\" class=\"dataframe\"><thead><tr><th>Status.state</th><th>NomeEntidade</th><th>NumFistel</th><th>NumServico</th><th>NumAto</th><th>NumEstacao</th><th>EnderecoEstacao</th><th>EndComplemento</th><th>SiglaUf</th><th>CodMunicipio</th><th>DesignacaoEmissao</th><th>Tecnologia</th><th>tipoTecnologia</th><th>meioAcesso</th><th>FreqTxMHz</th><th>FreqRxMHz</th><th>Azimute</th><th>CodTipoClasseEstacao</th><th>ClassInfraFisica</th><th>CompartilhamentoInfraFisica</th><th>CodTipoAntena</th><th>CodEquipamentoAntena</th><th>GanhoAntena</th><th>FrenteCostaAntena</th><th>AnguloMeiaPotenciaAntena</th><th>AnguloElevacao</th><th>Polarizacao</th><th>AlturaAntena</th><th>CodEquipamentoTransmissor</th><th>PotenciaTransmissorWatts</th><th>Latitude</th><th>Longitude</th><th>CodDebitoTFI</th><th>DataLicenciamento</th><th>DataPrimeiroLicenciamento</th><th>NumRede</th><th>_id</th><th>DataValidade</th><th>NumFistelAssociado</th><th>NomeEntidadeAssociado</th></tr><tr><td>str</td><td>str</td><td>i64</td><td>i64</td><td>f64</td><td>i64</td><td>str</td><td>str</td><td>str</td><td>i64</td><td>str</td><td>str</td><td>str</td><td>str</td><td>f64</td><td>f64</td><td>f64</td><td>str</td><td>str</td><td>str</td><td>i64</td><td>i64</td><td>str</td><td>f64</td><td>f64</td><td>f64</td><td>str</td><td>f64</td><td>i64</td><td>f64</td><td>f64</td><td>f64</td><td>str</td><td>str</td><td>str</td><td>str</td><td>str</td><td>str</td><td>str</td><td>str</td></tr></thead><tbody><tr><td>&quot;LIC-LIC-01&quot;</td><td>&quot;CLARO S.A.&quot;</td><td>50409889580</td><td>10</td><td>1.69212022e8</td><td>5180368</td><td>&quot;R PERNAMBUCO&quot;</td><td>null</td><td>&quot;AC&quot;</td><td>1200401</td><td>&quot;200KG7W&quot;</td><td>&quot;GSM&quot;</td><td>null</td><td>null</td><td>1822.5</td><td>1727.5</td><td>0.0</td><td>&quot;FB&quot;</td><td>&quot;Greenfield&quot;</td><td>&quot;NA&quot;</td><td>760</td><td>null</td><td>&quot;16.6&quot;</td><td>24.0</td><td>69.0</td><td>-2.0</td><td>&quot;X&quot;</td><td>52.0</td><td>23491603257</td><td>40.0</td><td>-9.97103</td><td>-67.8166</td><td>&quot;G&quot;</td><td>&quot;2023-06-29&quot;</td><td>&quot;2003-03-06&quot;</td><td>null</td><td>&quot;4d5c019f68947&quot;</td><td>&quot;2032-12-22&quot;</td><td>null</td><td>null</td></tr><tr><td>&quot;LIC-LIC-01&quot;</td><td>&quot;CLARO S.A.&quot;</td><td>50409889580</td><td>10</td><td>3.7812011e7</td><td>5180368</td><td>&quot;R PERNAMBUCO&quot;</td><td>null</td><td>&quot;AC&quot;</td><td>1200401</td><td>&quot;5M00G7W&quot;</td><td>&quot;WCDMA&quot;</td><td>null</td><td>null</td><td>885.0</td><td>840.0</td><td>0.0</td><td>&quot;FB&quot;</td><td>&quot;Greenfield&quot;</td><td>&quot;NA&quot;</td><td>760</td><td>null</td><td>&quot;14.1&quot;</td><td>22.0</td><td>68.0</td><td>-2.0</td><td>&quot;X&quot;</td><td>52.0</td><td>11631703257</td><td>60.0</td><td>-9.97103</td><td>-67.8166</td><td>&quot;G&quot;</td><td>&quot;2023-06-29&quot;</td><td>&quot;2003-03-06&quot;</td><td>null</td><td>&quot;4d5c019f6896a&quot;</td><td>&quot;2032-12-22&quot;</td><td>null</td><td>null</td></tr><tr><td>&quot;LIC-LIC-01&quot;</td><td>&quot;CLARO S.A.&quot;</td><td>50409889580</td><td>10</td><td>3.7812011e7</td><td>5180368</td><td>&quot;R PERNAMBUCO&quot;</td><td>null</td><td>&quot;AC&quot;</td><td>1200401</td><td>&quot;5M00G7W&quot;</td><td>&quot;WCDMA&quot;</td><td>null</td><td>null</td><td>885.0</td><td>840.0</td><td>130.0</td><td>&quot;FB&quot;</td><td>&quot;Greenfield&quot;</td><td>&quot;NA&quot;</td><td>760</td><td>null</td><td>&quot;14.1&quot;</td><td>22.0</td><td>68.0</td><td>-2.0</td><td>&quot;X&quot;</td><td>52.0</td><td>11631703257</td><td>60.0</td><td>-9.97103</td><td>-67.8166</td><td>&quot;G&quot;</td><td>&quot;2023-06-29&quot;</td><td>&quot;2003-03-06&quot;</td><td>null</td><td>&quot;4d5c019f6896b&quot;</td><td>&quot;2032-12-22&quot;</td><td>null</td><td>null</td></tr><tr><td>&quot;LIC-LIC-01&quot;</td><td>&quot;CLARO S.A.&quot;</td><td>50409889580</td><td>10</td><td>3.7812011e7</td><td>5180368</td><td>&quot;R PERNAMBUCO&quot;</td><td>null</td><td>&quot;AC&quot;</td><td>1200401</td><td>&quot;5M00G7W&quot;</td><td>&quot;WCDMA&quot;</td><td>null</td><td>null</td><td>885.0</td><td>840.0</td><td>250.0</td><td>&quot;FB&quot;</td><td>&quot;Greenfield&quot;</td><td>&quot;NA&quot;</td><td>760</td><td>null</td><td>&quot;14.1&quot;</td><td>22.0</td><td>68.0</td><td>-2.0</td><td>&quot;X&quot;</td><td>52.0</td><td>11631703257</td><td>60.0</td><td>-9.97103</td><td>-67.8166</td><td>&quot;G&quot;</td><td>&quot;2023-06-29&quot;</td><td>&quot;2003-03-06&quot;</td><td>null</td><td>&quot;4d5c019f6896c&quot;</td><td>&quot;2032-12-22&quot;</td><td>null</td><td>null</td></tr><tr><td>&quot;LIC-LIC-01&quot;</td><td>&quot;CLARO S.A.&quot;</td><td>50409889580</td><td>10</td><td>3.7812011e7</td><td>5180368</td><td>&quot;R PERNAMBUCO&quot;</td><td>null</td><td>&quot;AC&quot;</td><td>1200401</td><td>&quot;200KG7W&quot;</td><td>&quot;GSM&quot;</td><td>null</td><td>null</td><td>1875.0</td><td>1780.0</td><td>0.0</td><td>&quot;FB&quot;</td><td>&quot;Greenfield&quot;</td><td>&quot;NA&quot;</td><td>760</td><td>null</td><td>&quot;16.6&quot;</td><td>24.0</td><td>69.0</td><td>-2.0</td><td>&quot;X&quot;</td><td>52.0</td><td>23491603257</td><td>40.0</td><td>-9.97103</td><td>-67.8166</td><td>&quot;G&quot;</td><td>&quot;2023-06-29&quot;</td><td>&quot;2003-03-06&quot;</td><td>null</td><td>&quot;4d5c019f6896e&quot;</td><td>&quot;2032-12-22&quot;</td><td>null</td><td>null</td></tr></tbody></table></div>"
      ],
      "text/plain": [
       "shape: (5, 40)\n",
       "┌───────────┬───────────┬───────────┬───────────┬───┬───────────┬───────────┬───────────┬──────────┐\n",
       "│ Status.st ┆ NomeEntid ┆ NumFistel ┆ NumServic ┆ … ┆ _id       ┆ DataValid ┆ NumFistel ┆ NomeEnti │\n",
       "│ ate       ┆ ade       ┆ ---       ┆ o         ┆   ┆ ---       ┆ ade       ┆ Associado ┆ dadeAsso │\n",
       "│ ---       ┆ ---       ┆ i64       ┆ ---       ┆   ┆ str       ┆ ---       ┆ ---       ┆ ciado    │\n",
       "│ str       ┆ str       ┆           ┆ i64       ┆   ┆           ┆ str       ┆ str       ┆ ---      │\n",
       "│           ┆           ┆           ┆           ┆   ┆           ┆           ┆           ┆ str      │\n",
       "╞═══════════╪═══════════╪═══════════╪═══════════╪═══╪═══════════╪═══════════╪═══════════╪══════════╡\n",
       "│ LIC-LIC-0 ┆ CLARO     ┆ 504098895 ┆ 10        ┆ … ┆ 4d5c019f6 ┆ 2032-12-2 ┆ null      ┆ null     │\n",
       "│ 1         ┆ S.A.      ┆ 80        ┆           ┆   ┆ 8947      ┆ 2         ┆           ┆          │\n",
       "│ LIC-LIC-0 ┆ CLARO     ┆ 504098895 ┆ 10        ┆ … ┆ 4d5c019f6 ┆ 2032-12-2 ┆ null      ┆ null     │\n",
       "│ 1         ┆ S.A.      ┆ 80        ┆           ┆   ┆ 896a      ┆ 2         ┆           ┆          │\n",
       "│ LIC-LIC-0 ┆ CLARO     ┆ 504098895 ┆ 10        ┆ … ┆ 4d5c019f6 ┆ 2032-12-2 ┆ null      ┆ null     │\n",
       "│ 1         ┆ S.A.      ┆ 80        ┆           ┆   ┆ 896b      ┆ 2         ┆           ┆          │\n",
       "│ LIC-LIC-0 ┆ CLARO     ┆ 504098895 ┆ 10        ┆ … ┆ 4d5c019f6 ┆ 2032-12-2 ┆ null      ┆ null     │\n",
       "│ 1         ┆ S.A.      ┆ 80        ┆           ┆   ┆ 896c      ┆ 2         ┆           ┆          │\n",
       "│ LIC-LIC-0 ┆ CLARO     ┆ 504098895 ┆ 10        ┆ … ┆ 4d5c019f6 ┆ 2032-12-2 ┆ null      ┆ null     │\n",
       "│ 1         ┆ S.A.      ┆ 80        ┆           ┆   ┆ 896e      ┆ 2         ┆           ┆          │\n",
       "└───────────┴───────────┴───────────┴───────────┴───┴───────────┴───────────┴───────────┴──────────┘"
      ]
     },
     "execution_count": 27,
     "metadata": {},
     "output_type": "execute_result"
    }
   ],
   "source": [
    "df.filter(df['ClassInfraFisica'].is_not_null()).head()"
   ]
  },
  {
   "cell_type": "code",
   "execution_count": 30,
   "metadata": {},
   "outputs": [
    {
     "name": "stderr",
     "output_type": "stream",
     "text": [
      "/tmp/ipykernel_16683/81651371.py:1: DeprecationWarning: `groupby` is deprecated. It has been renamed to `group_by`.\n",
      "  df.groupby('ClassInfraFisica').agg(pl.col('ClassInfraFisica').count().alias('Count'))\n"
     ]
    },
    {
     "data": {
      "text/html": [
       "<div><style>\n",
       ".dataframe > thead > tr > th,\n",
       ".dataframe > tbody > tr > td {\n",
       "  text-align: right;\n",
       "  white-space: pre-wrap;\n",
       "}\n",
       "</style>\n",
       "<small>shape: (7, 2)</small><table border=\"1\" class=\"dataframe\"><thead><tr><th>ClassInfraFisica</th><th>Count</th></tr><tr><td>str</td><td>u32</td></tr></thead><tbody><tr><td>&quot;Greenfield&quot;</td><td>2532</td></tr><tr><td>&quot;Streetlevel &quot;</td><td>9</td></tr><tr><td>null</td><td>6108</td></tr><tr><td>&quot;Ran Sharing&quot;</td><td>39</td></tr><tr><td>&quot;Rooftop&quot;</td><td>129</td></tr><tr><td>&quot;Indoor&quot;</td><td>7</td></tr><tr><td>&quot;Streetlevel&quot;</td><td>15</td></tr></tbody></table></div>"
      ],
      "text/plain": [
       "shape: (7, 2)\n",
       "┌──────────────────┬───────┐\n",
       "│ ClassInfraFisica ┆ Count │\n",
       "│ ---              ┆ ---   │\n",
       "│ str              ┆ u32   │\n",
       "╞══════════════════╪═══════╡\n",
       "│ Greenfield       ┆ 2532  │\n",
       "│ Streetlevel      ┆ 9     │\n",
       "│ null             ┆ 6108  │\n",
       "│ Ran Sharing      ┆ 39    │\n",
       "│ Rooftop          ┆ 129   │\n",
       "│ Indoor           ┆ 7     │\n",
       "│ Streetlevel      ┆ 15    │\n",
       "└──────────────────┴───────┘"
      ]
     },
     "execution_count": 30,
     "metadata": {},
     "output_type": "execute_result"
    }
   ],
   "source": [
    "df.groupby('ClassInfraFisica').agg(pl.col('ClassInfraFisica').count().alias('Count'))"
   ]
  },
  {
   "cell_type": "code",
   "execution_count": null,
   "metadata": {},
   "outputs": [],
   "source": []
  }
 ],
 "metadata": {
  "kernelspec": {
   "display_name": "Python 3",
   "language": "python",
   "name": "python3"
  },
  "language_info": {
   "codemirror_mode": {
    "name": "ipython",
    "version": 3
   },
   "file_extension": ".py",
   "mimetype": "text/x-python",
   "name": "python",
   "nbconvert_exporter": "python",
   "pygments_lexer": "ipython3",
   "version": "3.11.5"
  }
 },
 "nbformat": 4,
 "nbformat_minor": 2
}
